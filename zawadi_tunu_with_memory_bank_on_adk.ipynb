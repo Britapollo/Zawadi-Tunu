{
  "cells": [
    {
      "cell_type": "markdown",
      "metadata": {
        "id": "z5dgsrRlhJRF"
      },
      "source": [
        "# Get started with Zawadi Tunu Built with Memory Bank on ADK\n",
        "\n",
        "<table align=\"left\">\n",
        "  <td style=\"text-align: center\">\n",
        "    <a href=\"https://colab.research.google.com/github/mwanyumba7/Zawadi-Tunu/blob/main/zawadi_tunu_with_memory_bank_on_adk.ipynb\">\n",
        "      <img width=\"32px\" src=\"https://www.gstatic.com/pantheon/images/bigquery/welcome_page/colab-logo.svg\" alt=\"Google Colaboratory logo\"><br> Open in Colab\n",
        "    </a>\n",
        "  </td>\n",
        "</table>"
      ]
    },
    {
      "cell_type": "markdown",
      "metadata": {
        "id": "qlXbr9YbMyzc"
      },
      "source": [
        "## Overview\n",
        "We will be building an Agent `Zawadi Tunu` which is an agent ispecialized in gift recommendation engine designed to elevate the act of gift-giving, transforming it from a chore into a deeply personalized and meaningful experience. Built as a demonstration of the Agent Development Kit (ADK) for Gemini and the Vertex AI Memory Bank, this agent's core strength lies in its ability to retain and recall nuanced information over time.\n",
        "\n",
        "Instead of generic suggestions, the agent uses its long-term memory to remember key details gleaned from previous conversations: a niece's age and past birthday presents (like the \"red bike\" in the demo), a spouse's stated preference for aisle seats, or a parent's hint about a desired hobby.\n",
        "\n",
        "This tutorial demonstrates how to build ADK agents with Memory, including both `InMemoryMemoryService` and `VertexAiMemoryBankService`.\n",
        "\n",
        "This tutorial will cover:\n",
        "* Comparing `InMemoryMemoryService` vs. `VertexAiMemoryBankService`.\n",
        "* Generating memories with ADK and Agent Engine Memory Bank.\n",
        "* Retrieving memories with ADK and Agent Engine Memory Bank.\n",
        "* Customizing your Memory Bank instance's behavior."
      ]
    },
    {
      "cell_type": "markdown",
      "metadata": {
        "id": "HSSuQi5wS-AY"
      },
      "source": [
        "## Get started"
      ]
    },
    {
      "cell_type": "markdown",
      "metadata": {
        "id": "ngEAiXw8cQRt"
      },
      "source": [
        "### Install Google Gen AI SDK and other required packages\n"
      ]
    },
    {
      "cell_type": "code",
      "execution_count": 1,
      "metadata": {
        "colab": {
          "base_uri": "https://localhost:8080/"
        },
        "id": "ZNg0utat73eG",
        "outputId": "91b2d582-7286-4b06-a3f8-a9429118d554"
      },
      "outputs": [
        {
          "output_type": "stream",
          "name": "stdout",
          "text": [
            "\u001b[2K     \u001b[90m━━━━━━━━━━━━━━━━━━━━━━━━━━━━━━━━━━━━━━━\u001b[0m \u001b[32m43.9/43.9 kB\u001b[0m \u001b[31m882.2 kB/s\u001b[0m eta \u001b[36m0:00:00\u001b[0m\n",
            "\u001b[2K   \u001b[90m━━━━━━━━━━━━━━━━━━━━━━━━━━━━━━━━━━━━━━━━\u001b[0m \u001b[32m8.1/8.1 MB\u001b[0m \u001b[31m39.1 MB/s\u001b[0m eta \u001b[36m0:00:00\u001b[0m\n",
            "\u001b[?25h"
          ]
        }
      ],
      "source": [
        "%pip install google-adk google-cloud-aiplatform --upgrade --quiet"
      ]
    },
    {
      "cell_type": "markdown",
      "metadata": {
        "id": "bbArJaMNcWVz"
      },
      "source": [
        "### Authenticate your notebook environment (Colab only)\n",
        "\n",
        "If you're running this notebook on Google Colab, run the cell below to authenticate your environment."
      ]
    },
    {
      "cell_type": "code",
      "execution_count": 2,
      "metadata": {
        "id": "oMmt34WM-08o"
      },
      "outputs": [],
      "source": [
        "import sys\n",
        "\n",
        "if \"google.colab\" in sys.modules:\n",
        "    from google.colab import auth\n",
        "\n",
        "    auth.authenticate_user()"
      ]
    },
    {
      "cell_type": "markdown",
      "metadata": {
        "id": "mbeaDydxcdEo"
      },
      "source": [
        "### Set Google Cloud project information\n",
        "\n",
        "To get started using Vertex AI, you must have an existing Google Cloud project and [enable the Vertex AI API](https://console.cloud.google.com/flows/enableapi?apiid=aiplatform.googleapis.com).\n",
        "\n",
        "Learn more about [setting up a project and a development environment](https://cloud.google.com/vertex-ai/docs/start/cloud-environment)."
      ]
    },
    {
      "cell_type": "code",
      "execution_count": 4,
      "metadata": {
        "id": "PKZ_ad_g_AuU"
      },
      "outputs": [],
      "source": [
        "# Use the environment variable if the user doesn't provide Project ID.\n",
        "import os\n",
        "\n",
        "import vertexai\n",
        "\n",
        "# fmt: off\n",
        "PROJECT = \"zawadi-tunu-475816\"  # @param {type: \"string\", placeholder: \"[your-project-id]\", isTemplate: true}\n",
        "# fmt: on\n",
        "if not PROJECT or PROJECT == \"[your-project-id]\":\n",
        "    PROJECT = str(os.environ.get(\"GOOGLE_CLOUD_PROJECT\"))\n",
        "\n",
        "LOCATION = os.environ.get(\"GOOGLE_CLOUD_REGION\", \"us-central1\")\n",
        "\n",
        "client = vertexai.Client(project=PROJECT, location=LOCATION)\n",
        "\n",
        "# Set environment variables for ADK.\n",
        "os.environ[\"GOOGLE_GENAI_USE_VERTEXAI\"] = \"TRUE\"\n",
        "os.environ[\"GOOGLE_CLOUD_PROJECT\"] = PROJECT\n",
        "os.environ[\"GOOGLE_CLOUD_LOCATION\"] = LOCATION"
      ]
    },
    {
      "cell_type": "markdown",
      "metadata": {
        "id": "b2fe816fc0d0"
      },
      "source": [
        "## (Optional) Set up logging\n",
        "To surface ADK logs in your notebook, you may need to configure the logging level of ADK's logger."
      ]
    },
    {
      "cell_type": "code",
      "execution_count": 5,
      "metadata": {
        "id": "91955e5b44ec"
      },
      "outputs": [],
      "source": [
        "import logging\n",
        "import sys\n",
        "\n",
        "# Set up a general handler for all logs to be printed in your Colab output.\n",
        "# We'll set the overall level to INFO.\n",
        "logging.basicConfig(\n",
        "    level=logging.INFO,\n",
        "    format=\"%(asctime)s - %(name)s - %(levelname)s - %(message)s\",\n",
        "    stream=sys.stdout,\n",
        ")\n",
        "\n",
        "# Get the specific logger used by ADK.\n",
        "adk_logger = logging.getLogger(\"google_adk\")\n",
        "\n",
        "# Set its level to DEBUG to ensure you capture ALL messages from the SDK,\n",
        "# even if the general level is higher (like INFO).\n",
        "adk_logger.setLevel(logging.DEBUG)"
      ]
    },
    {
      "cell_type": "markdown",
      "metadata": {
        "id": "W0n_JRrHNUUX"
      },
      "source": [
        "## Define a simple agent\n",
        "\n",
        "The ADK Runner defines what session service is used by the agent. The session service is responsible for saving the conversation history.\n",
        "\n",
        "In this example, we're using the in-memory session service (`InMemorySessionService`). However, you can use any session service with Memory.\n",
        "\n",
        "If you want to use Google's pre-built Memory tools, you can provide a Memory service to the Runner as well. In this example, we'll start by directly invoking memory so that we can compare different services. So, we're not directly setting `memory_service` in the Runner."
      ]
    },
    {
      "cell_type": "code",
      "execution_count": 6,
      "metadata": {
        "id": "rKxFZmSRAECu"
      },
      "outputs": [],
      "source": [
        "from google.adk.agents import LlmAgent\n",
        "from google.adk.runners import Runner\n",
        "from google.adk.sessions import InMemorySessionService\n",
        "from google.genai.types import Content, Part\n",
        "\n",
        "APP_NAME = \"memory_example_app\"\n",
        "MODEL = \"gemini-2.5-flash\"\n",
        "\n",
        "agent = LlmAgent(\n",
        "    model=MODEL,\n",
        "    name=\"Generic_QA_Agent\",\n",
        "    instruction=\"Answer the user's questions\",\n",
        ")\n",
        "\n",
        "session_service = InMemorySessionService()\n",
        "\n",
        "runner = Runner(agent=agent, app_name=APP_NAME, session_service=session_service)\n",
        "\n",
        "\n",
        "def call_agent(query, session, user_id):\n",
        "    content = Content(role=\"user\", parts=[Part(text=query)])\n",
        "    events = runner.run(user_id=user_id, session_id=session, new_message=content)\n",
        "\n",
        "    for event in events:\n",
        "        if event.is_final_response():\n",
        "            final_response = event.content.parts[0].text\n",
        "            print(\"Agent Response: \", final_response)"
      ]
    },
    {
      "cell_type": "markdown",
      "metadata": {
        "id": "WEAg11vnOyYs"
      },
      "source": [
        "## Introduction to ADK Memory Service\n",
        "ADK memory services offer an interface for creating and searching for memories. The [`BaseMemoryService`](https://github.com/google/adk-python/blob/main/src/google/adk/memory/base_memory_service.py) defines the interface for managing this searchable, long-term knowledge store. Its primary responsibilities are:\n",
        "\n",
        "* Ingesting Information (`add_session_to_memory`): Taking the contents of a (usually completed) Session and adding relevant information to the long-term knowledge store.\n",
        "* Searching Information (`search_memory`): Allowing an agent (typically via a Tool) to query the knowledge store and retrieve relevant snippets or context based on a search query.\n",
        "\n",
        "In this colab, we'll cover two options:\n",
        "\n",
        "* `InMemoryMemoryService`: A in-memory service that allows you to search your conversation history to retrieve the raw dialogue using basic keyword matching.\n",
        "* `VertexAiMemoryBankService`: A remote service that remotely generates memories for \"meaningful\" information from user conversation.\n",
        "\n",
        "\n",
        "You can also interact directly with Memory Bank by using the Agent Engine SDK."
      ]
    },
    {
      "cell_type": "markdown",
      "metadata": {
        "id": "LSZQQAPQWBXs"
      },
      "source": [
        "### `InMemoryMemoryService`\n",
        "\n",
        "[`InMemoryMemoryService`](https://github.com/google/adk-python/blob/main/src/google/adk/memory/in_memory_memory_service.py) persists **all** information in-memory. The events are not condensed, and information is not extracted from them."
      ]
    },
    {
      "cell_type": "code",
      "execution_count": 7,
      "metadata": {
        "id": "HqXCHxi2Cb-n"
      },
      "outputs": [],
      "source": [
        "from google.adk.memory import InMemoryMemoryService\n",
        "\n",
        "in_memory_service = InMemoryMemoryService()"
      ]
    },
    {
      "cell_type": "markdown",
      "metadata": {
        "id": "mTuaUZ1DWG7L"
      },
      "source": [
        "### `VertexAiMemoryBankService`\n",
        "Memory Bank will only persist information that's meaningful for future interactions. [`VertexAiMemoryBankService`](https://github.com/google/adk-python/blob/main/src/google/adk/memory/vertex_ai_memory_bank_service.py) provides a built-in integration between Memory Bank and ADK.\n",
        "\n",
        "To get started with Memory Bank, you need to first create an Agent Engine. This only takes a few seconds.\n",
        "\n",
        "If you don't have a Google Cloud project, you can use [Vertex in Express mode, which only requires an API key](https://cloud.google.com/vertex-ai/generative-ai/docs/agent-engine/memory-bank/set-up#authentication)."
      ]
    },
    {
      "cell_type": "code",
      "execution_count": 8,
      "metadata": {
        "colab": {
          "base_uri": "https://localhost:8080/"
        },
        "id": "rZP-0IVaQ5_N",
        "outputId": "48728d35-1aec-4dac-e6c6-fd9290072b91"
      },
      "outputs": [
        {
          "output_type": "stream",
          "name": "stderr",
          "text": [
            "INFO:vertexai_genai.agentengines:View progress and logs at https://console.cloud.google.com/logs/query?project=zawadi-tunu-475816.\n",
            "INFO:vertexai_genai.agentengines:Agent Engine created. To use it in another session:\n",
            "INFO:vertexai_genai.agentengines:agent_engine=client.agent_engines.get('projects/507092439621/locations/us-central1/reasoningEngines/241140492157321216')\n"
          ]
        }
      ],
      "source": [
        "import vertexai\n",
        "from google.adk.memory import VertexAiMemoryBankService\n",
        "\n",
        "client = vertexai.Client(project=PROJECT, location=LOCATION)\n",
        "\n",
        "agent_engine = client.agent_engines.create(\n",
        "    config={\n",
        "        \"context_spec\": {\n",
        "            \"memory_bank_config\": {\n",
        "                \"generation_config\": {\n",
        "                    \"model\": f\"projects/{PROJECT}/locations/{LOCATION}/publishers/google/models/gemini-2.5-flash\"\n",
        "                }\n",
        "            }\n",
        "        }\n",
        "    }\n",
        ")\n",
        "\n",
        "memory_bank_service = VertexAiMemoryBankService(\n",
        "    agent_engine_id=agent_engine.api_resource.name.split(\"/\")[-1],\n",
        "    project=PROJECT,\n",
        "    location=LOCATION,\n",
        ")"
      ]
    },
    {
      "cell_type": "markdown",
      "metadata": {
        "id": "N-IrevumRepq"
      },
      "source": [
        "## Generating Memories\n",
        "\n",
        "Memories will be generated from your conversation history stored in the `Session` object. The ADK `add_session_to_memory` method is responsible for triggering memory generation for your memory service, but the exact behavior depends on which service you use:\n",
        "\n",
        "* `InMemoryMemoryService` persists all information, including the raw dialogue.\n",
        "\n",
        "* `VertexAiMemoryBankService` only persists *meaningful* information. Not all conversations will result in generated memories. Additionally, the information will be condensed to individual, self-contained memories.\n",
        "\n",
        "In this example, we create two sessions:\n",
        "1. `chit_chat_session`, which is a conversation that contains events that may not be meaningful for future interactions.\n",
        "2. `recommendations_session`, which is a conversation about looking for birthday presents for a family member. It includes implicit information that may be helpful for future conversations."
      ]
    },
    {
      "cell_type": "code",
      "execution_count": 9,
      "metadata": {
        "colab": {
          "base_uri": "https://localhost:8080/"
        },
        "id": "VfTIuJfFAR2z",
        "outputId": "a99f90f3-df60-4b5b-be1e-b2a44062560c"
      },
      "outputs": [
        {
          "output_type": "stream",
          "name": "stderr",
          "text": [
            "INFO:google_adk.google.adk.models.google_llm:Sending out request, model: gemini-2.5-flash, backend: GoogleLLMVariant.VERTEX_AI, stream: False\n",
            "DEBUG:google_adk.google.adk.models.google_llm:\n",
            "LLM Request:\n",
            "-----------------------------------------------------------\n",
            "System Instruction:\n",
            "Answer the user's questions\n",
            "\n",
            "You are an agent. Your internal name is \"Generic_QA_Agent\".\n",
            "-----------------------------------------------------------\n",
            "Contents:\n",
            "{\"parts\":[{\"text\":\"what types of questions do you answer\"}],\"role\":\"user\"}\n",
            "-----------------------------------------------------------\n",
            "Functions:\n",
            "\n",
            "-----------------------------------------------------------\n",
            "\n",
            "INFO:google_adk.google.adk.models.google_llm:Response received from the model.\n",
            "DEBUG:google_adk.google.adk.models.google_llm:\n",
            "LLM Response:\n",
            "-----------------------------------------------------------\n",
            "Text:\n",
            "As Generic_QA_Agent, I'm designed to answer a very wide variety of questions across numerous topics. My capabilities include, but are not limited to:\n",
            "\n",
            "*   **Factual Information:** Questions about history, science, geography, current events, definitions, statistics, and more.\n",
            "*   **Explanations:** Breaking down complex concepts, explaining how things work, or elaborating on a topic.\n",
            "*   **How-to Guides:** Providing instructions or steps for various tasks.\n",
            "*   **Summaries:** Condensing longer texts or topics into key points.\n",
            "*   **Creative Writing/Brainstorming:** Generating ideas, writing short pieces of text, or helping with creative tasks.\n",
            "*   **Comparisons:** Differentiating between similar items or concepts.\n",
            "*   **Troubleshooting (conceptual):** Offering general advice or common solutions to problems (though I can't interact with systems directly).\n",
            "*   **General Knowledge:** Anything that falls under the umbrella of widely available information.\n",
            "\n",
            "Essentially, if it's something that can be found in text or data I've been trained on, I can usually provide an answer or an informed perspective.\n",
            "\n",
            "What kind of question do you have in mind? I'm ready to help!\n",
            "-----------------------------------------------------------\n",
            "Function calls:\n",
            "\n",
            "-----------------------------------------------------------\n",
            "Raw response:\n",
            "{\"sdk_http_response\":{\"headers\":{\"Content-Type\":\"application/json; charset=UTF-8\",\"Vary\":\"Origin, X-Origin, Referer\",\"Content-Encoding\":\"gzip\",\"Date\":\"Tue, 21 Oct 2025 16:52:40 GMT\",\"Server\":\"scaffolding on HTTPServer2\",\"X-XSS-Protection\":\"0\",\"X-Frame-Options\":\"SAMEORIGIN\",\"X-Content-Type-Options\":\"nosniff\",\"Transfer-Encoding\":\"chunked\"}},\"candidates\":[{\"content\":{\"parts\":[{\"text\":\"As Generic_QA_Agent, I'm designed to answer a very wide variety of questions across numerous topics. My capabilities include, but are not limited to:\\n\\n*   **Factual Information:** Questions about history, science, geography, current events, definitions, statistics, and more.\\n*   **Explanations:** Breaking down complex concepts, explaining how things work, or elaborating on a topic.\\n*   **How-to Guides:** Providing instructions or steps for various tasks.\\n*   **Summaries:** Condensing longer texts or topics into key points.\\n*   **Creative Writing/Brainstorming:** Generating ideas, writing short pieces of text, or helping with creative tasks.\\n*   **Comparisons:** Differentiating between similar items or concepts.\\n*   **Troubleshooting (conceptual):** Offering general advice or common solutions to problems (though I can't interact with systems directly).\\n*   **General Knowledge:** Anything that falls under the umbrella of widely available information.\\n\\nEssentially, if it's something that can be found in text or data I've been trained on, I can usually provide an answer or an informed perspective.\\n\\nWhat kind of question do you have in mind? I'm ready to help!\"}],\"role\":\"model\"},\"finish_reason\":\"STOP\",\"avg_logprobs\":-0.40577066458907785}],\"create_time\":\"2025-10-21T16:52:38.139692Z\",\"model_version\":\"gemini-2.5-flash\",\"response_id\":\"Vrr3aKzDCKeonvgPirTKyQE\",\"usage_metadata\":{\"candidates_token_count\":255,\"candidates_tokens_details\":[{\"modality\":\"TEXT\",\"token_count\":255}],\"prompt_token_count\":30,\"prompt_tokens_details\":[{\"modality\":\"TEXT\",\"token_count\":30}],\"thoughts_token_count\":47,\"total_token_count\":332,\"traffic_type\":\"ON_DEMAND\"},\"automatic_function_calling_history\":[]}\n",
            "-----------------------------------------------------------\n",
            "\n"
          ]
        },
        {
          "output_type": "stream",
          "name": "stdout",
          "text": [
            "Agent Response:  As Generic_QA_Agent, I'm designed to answer a very wide variety of questions across numerous topics. My capabilities include, but are not limited to:\n",
            "\n",
            "*   **Factual Information:** Questions about history, science, geography, current events, definitions, statistics, and more.\n",
            "*   **Explanations:** Breaking down complex concepts, explaining how things work, or elaborating on a topic.\n",
            "*   **How-to Guides:** Providing instructions or steps for various tasks.\n",
            "*   **Summaries:** Condensing longer texts or topics into key points.\n",
            "*   **Creative Writing/Brainstorming:** Generating ideas, writing short pieces of text, or helping with creative tasks.\n",
            "*   **Comparisons:** Differentiating between similar items or concepts.\n",
            "*   **Troubleshooting (conceptual):** Offering general advice or common solutions to problems (though I can't interact with systems directly).\n",
            "*   **General Knowledge:** Anything that falls under the umbrella of widely available information.\n",
            "\n",
            "Essentially, if it's something that can be found in text or data I've been trained on, I can usually provide an answer or an informed perspective.\n",
            "\n",
            "What kind of question do you have in mind? I'm ready to help!\n"
          ]
        }
      ],
      "source": [
        "USER_ID = \"My User\"\n",
        "\n",
        "chit_chat_session = await session_service.create_session(\n",
        "    app_name=APP_NAME, user_id=USER_ID\n",
        ")\n",
        "\n",
        "call_agent(\n",
        "    \"what types of questions do you answer\", chit_chat_session.id, user_id=USER_ID\n",
        ")\n",
        "# Refresh session object.\n",
        "chit_chat_session = await session_service.get_session(\n",
        "    app_name=APP_NAME, user_id=USER_ID, session_id=chit_chat_session.id\n",
        ")"
      ]
    },
    {
      "cell_type": "code",
      "execution_count": 10,
      "metadata": {
        "colab": {
          "base_uri": "https://localhost:8080/"
        },
        "id": "hLvyyXRHEEQH",
        "outputId": "7a52a21a-ee60-42ae-80fd-ebae20635c98"
      },
      "outputs": [
        {
          "output_type": "stream",
          "name": "stderr",
          "text": [
            "INFO:google_adk.google.adk.models.google_llm:Sending out request, model: gemini-2.5-flash, backend: GoogleLLMVariant.VERTEX_AI, stream: False\n",
            "DEBUG:google_adk.google.adk.models.google_llm:\n",
            "LLM Request:\n",
            "-----------------------------------------------------------\n",
            "System Instruction:\n",
            "Answer the user's questions\n",
            "\n",
            "You are an agent. Your internal name is \"Generic_QA_Agent\".\n",
            "-----------------------------------------------------------\n",
            "Contents:\n",
            "{\"parts\":[{\"text\":\"I have a three year old niece. What recommendations do you have for birthday presents?\"}],\"role\":\"user\"}\n",
            "-----------------------------------------------------------\n",
            "Functions:\n",
            "\n",
            "-----------------------------------------------------------\n",
            "\n",
            "INFO:google_adk.google.adk.models.google_llm:Response received from the model.\n",
            "DEBUG:google_adk.google.adk.models.google_llm:\n",
            "LLM Response:\n",
            "-----------------------------------------------------------\n",
            "Text:\n",
            "That's wonderful! Three-year-olds are at such a fun age, full of imagination and eager to explore. Here are some birthday present recommendations, categorized to help you find the perfect gift for your niece:\n",
            "\n",
            "**1. Imaginative & Pretend Play:**\n",
            "*   **Play Kitchen or Doctor's Kit:** Kids this age love to imitate adults. A play kitchen with food and utensils, or a doctor's kit, can provide hours of creative role-playing.\n",
            "*   **Dress-Up Clothes:** A simple cape, a princess dress, an animal costume, or even just a fun hat can spark endless adventures.\n",
            "*   **Dollhouse or Animal Figures:** Simple dollhouses with chunky furniture or sets of realistic (or fantastical) animal figures encourage storytelling and world-building.\n",
            "*   **Puppets:** Hand puppets are great for putting on shows, developing language skills, and expressing emotions.\n",
            "\n",
            "**2. Creative & Artistic:**\n",
            "*   **Washable Markers, Crayons & Large Paper:** Look for chunky crayons that are easy for small hands to grip. Washable is key!\n",
            "*   **Play-Doh Sets:** With cutters, rollers, and extruders, Play-Doh is fantastic for developing fine motor skills and creativity.\n",
            "*   **Finger Paints:** A great sensory activity (just make sure they're washable and you have a designated area!).\n",
            "*   **Sticker Books or Art Easel:** Reusable sticker books or a small easel with paper and chalk/dry-erase markers can be very engaging.\n",
            "\n",
            "**3. Building & Construction:**\n",
            "*   **LEGO DUPLO Sets:** These larger blocks are perfect for small hands and inspire creativity without frustration. Look for sets with vehicles, animals, or characters.\n",
            "*   **Magnetic Tiles (e.g., Magna-Tiles, Connetix):** These are incredibly popular and for good reason! They allow kids to build amazing 2D and 3D structures and are great for spatial reasoning.\n",
            "*   **Wooden Blocks:** Simple, open-ended, and durable – classic wooden blocks are always a hit.\n",
            "\n",
            "**4. Outdoor & Active Play:**\n",
            "*   **Tricycle or Balance Bike:** A tricycle is great for cruising, or a balance bike can help her learn to ride a two-wheeler faster down the line. (Don't forget a helmet!)\n",
            "*   **Scooter:** A three-wheeled scooter is a fantastic way to develop balance and gross motor skills.\n",
            "*   **Sand & Water Table:** Perfect for backyard fun, encouraging sensory play and imaginative scenarios.\n",
            "*   **Bubble Machine:** Simple, inexpensive fun that always brings joy!\n",
            "\n",
            "**5. Educational & Learning:**\n",
            "*   **Chunky Puzzles:** Look for puzzles with 10-20 pieces that have large, easy-to-grasp knobs or pieces.\n",
            "*   **Sorting & Stacking Toys:** These help with color recognition, shape identification, and fine motor skills.\n",
            "*   **Age-Appropriate Board Games:** Simple games like \"Hoot Owl Hoot!\" or \"Candy Land\" can teach turn-taking and basic rules.\n",
            "*   **Interactive Books:** Books with lift-the-flaps, textures, or sound buttons are very engaging.\n",
            "\n",
            "**6. Books:**\n",
            "*   **Picture Books:** Three-year-olds love engaging stories with colorful illustrations. Classics like \"The Very Hungry Caterpillar,\" \"Brown Bear, Brown Bear, What Do You See?\", or newer popular series are great.\n",
            "*   **Personalized Books:** A book where she is the star of the story can be a truly special gift.\n",
            "\n",
            "**Pro-Tip:**\n",
            "Consider what she already has, what her specific interests are (Does she love animals? Trucks? Princesses?), and what kind of play her parents encourage. Sometimes, a gift that fosters open-ended play (like blocks or art supplies) gets the most mileage!\n",
            "\n",
            "Happy shopping!\n",
            "-----------------------------------------------------------\n",
            "Function calls:\n",
            "\n",
            "-----------------------------------------------------------\n",
            "Raw response:\n",
            "{\"sdk_http_response\":{\"headers\":{\"Content-Type\":\"application/json; charset=UTF-8\",\"Vary\":\"Origin, X-Origin, Referer\",\"Content-Encoding\":\"gzip\",\"Date\":\"Tue, 21 Oct 2025 17:47:27 GMT\",\"Server\":\"scaffolding on HTTPServer2\",\"X-XSS-Protection\":\"0\",\"X-Frame-Options\":\"SAMEORIGIN\",\"X-Content-Type-Options\":\"nosniff\",\"Transfer-Encoding\":\"chunked\"}},\"candidates\":[{\"content\":{\"parts\":[{\"text\":\"That's wonderful! Three-year-olds are at such a fun age, full of imagination and eager to explore. Here are some birthday present recommendations, categorized to help you find the perfect gift for your niece:\\n\\n**1. Imaginative & Pretend Play:**\\n*   **Play Kitchen or Doctor's Kit:** Kids this age love to imitate adults. A play kitchen with food and utensils, or a doctor's kit, can provide hours of creative role-playing.\\n*   **Dress-Up Clothes:** A simple cape, a princess dress, an animal costume, or even just a fun hat can spark endless adventures.\\n*   **Dollhouse or Animal Figures:** Simple dollhouses with chunky furniture or sets of realistic (or fantastical) animal figures encourage storytelling and world-building.\\n*   **Puppets:** Hand puppets are great for putting on shows, developing language skills, and expressing emotions.\\n\\n**2. Creative & Artistic:**\\n*   **Washable Markers, Crayons & Large Paper:** Look for chunky crayons that are easy for small hands to grip. Washable is key!\\n*   **Play-Doh Sets:** With cutters, rollers, and extruders, Play-Doh is fantastic for developing fine motor skills and creativity.\\n*   **Finger Paints:** A great sensory activity (just make sure they're washable and you have a designated area!).\\n*   **Sticker Books or Art Easel:** Reusable sticker books or a small easel with paper and chalk/dry-erase markers can be very engaging.\\n\\n**3. Building & Construction:**\\n*   **LEGO DUPLO Sets:** These larger blocks are perfect for small hands and inspire creativity without frustration. Look for sets with vehicles, animals, or characters.\\n*   **Magnetic Tiles (e.g., Magna-Tiles, Connetix):** These are incredibly popular and for good reason! They allow kids to build amazing 2D and 3D structures and are great for spatial reasoning.\\n*   **Wooden Blocks:** Simple, open-ended, and durable – classic wooden blocks are always a hit.\\n\\n**4. Outdoor & Active Play:**\\n*   **Tricycle or Balance Bike:** A tricycle is great for cruising, or a balance bike can help her learn to ride a two-wheeler faster down the line. (Don't forget a helmet!)\\n*   **Scooter:** A three-wheeled scooter is a fantastic way to develop balance and gross motor skills.\\n*   **Sand & Water Table:** Perfect for backyard fun, encouraging sensory play and imaginative scenarios.\\n*   **Bubble Machine:** Simple, inexpensive fun that always brings joy!\\n\\n**5. Educational & Learning:**\\n*   **Chunky Puzzles:** Look for puzzles with 10-20 pieces that have large, easy-to-grasp knobs or pieces.\\n*   **Sorting & Stacking Toys:** These help with color recognition, shape identification, and fine motor skills.\\n*   **Age-Appropriate Board Games:** Simple games like \\\"Hoot Owl Hoot!\\\" or \\\"Candy Land\\\" can teach turn-taking and basic rules.\\n*   **Interactive Books:** Books with lift-the-flaps, textures, or sound buttons are very engaging.\\n\\n**6. Books:**\\n*   **Picture Books:** Three-year-olds love engaging stories with colorful illustrations. Classics like \\\"The Very Hungry Caterpillar,\\\" \\\"Brown Bear, Brown Bear, What Do You See?\\\", or newer popular series are great.\\n*   **Personalized Books:** A book where she is the star of the story can be a truly special gift.\\n\\n**Pro-Tip:**\\nConsider what she already has, what her specific interests are (Does she love animals? Trucks? Princesses?), and what kind of play her parents encourage. Sometimes, a gift that fosters open-ended play (like blocks or art supplies) gets the most mileage!\\n\\nHappy shopping!\"}],\"role\":\"model\"},\"finish_reason\":\"STOP\",\"avg_logprobs\":-0.5735783324141684}],\"create_time\":\"2025-10-21T17:47:17.996822Z\",\"model_version\":\"gemini-2.5-flash\",\"response_id\":\"Jcf3aNbrPLOVmecPkafkoQw\",\"usage_metadata\":{\"candidates_token_count\":811,\"candidates_tokens_details\":[{\"modality\":\"TEXT\",\"token_count\":811}],\"prompt_token_count\":40,\"prompt_tokens_details\":[{\"modality\":\"TEXT\",\"token_count\":40}],\"thoughts_token_count\":598,\"total_token_count\":1449,\"traffic_type\":\"ON_DEMAND\"},\"automatic_function_calling_history\":[]}\n",
            "-----------------------------------------------------------\n",
            "\n",
            "INFO:google_adk.google.adk.models.google_llm:Sending out request, model: gemini-2.5-flash, backend: GoogleLLMVariant.VERTEX_AI, stream: False\n",
            "DEBUG:google_adk.google.adk.models.google_llm:\n",
            "LLM Request:\n",
            "-----------------------------------------------------------\n",
            "System Instruction:\n",
            "Answer the user's questions\n",
            "\n",
            "You are an agent. Your internal name is \"Generic_QA_Agent\".\n",
            "-----------------------------------------------------------\n",
            "Contents:\n",
            "{\"parts\":[{\"text\":\"I have a three year old niece. What recommendations do you have for birthday presents?\"}],\"role\":\"user\"}\n",
            "{\"parts\":[{\"text\":\"That's wonderful! Three-year-olds are at such a fun age, full of imagination and eager to explore. Here are some birthday present recommendations, categorized to help you find the perfect gift for your niece:\\n\\n**1. Imaginative & Pretend Play:**\\n*   **Play Kitchen or Doctor's Kit:** Kids this age love to imitate adults. A play kitchen with food and utensils, or a doctor's kit, can provide hours of creative role-playing.\\n*   **Dress-Up Clothes:** A simple cape, a princess dress, an animal costume, or even just a fun hat can spark endless adventures.\\n*   **Dollhouse or Animal Figures:** Simple dollhouses with chunky furniture or sets of realistic (or fantastical) animal figures encourage storytelling and world-building.\\n*   **Puppets:** Hand puppets are great for putting on shows, developing language skills, and expressing emotions.\\n\\n**2. Creative & Artistic:**\\n*   **Washable Markers, Crayons & Large Paper:** Look for chunky crayons that are easy for small hands to grip. Washable is key!\\n*   **Play-Doh Sets:** With cutters, rollers, and extruders, Play-Doh is fantastic for developing fine motor skills and creativity.\\n*   **Finger Paints:** A great sensory activity (just make sure they're washable and you have a designated area!).\\n*   **Sticker Books or Art Easel:** Reusable sticker books or a small easel with paper and chalk/dry-erase markers can be very engaging.\\n\\n**3. Building & Construction:**\\n*   **LEGO DUPLO Sets:** These larger blocks are perfect for small hands and inspire creativity without frustration. Look for sets with vehicles, animals, or characters.\\n*   **Magnetic Tiles (e.g., Magna-Tiles, Connetix):** These are incredibly popular and for good reason! They allow kids to build amazing 2D and 3D structures and are great for spatial reasoning.\\n*   **Wooden Blocks:** Simple, open-ended, and durable – classic wooden blocks are always a hit.\\n\\n**4. Outdoor & Active Play:**\\n*   **Tricycle or Balance Bike:** A tricycle is great for cruising, or a balance bike can help her learn to ride a two-wheeler faster down the line. (Don't forget a helmet!)\\n*   **Scooter:** A three-wheeled scooter is a fantastic way to develop balance and gross motor skills.\\n*   **Sand & Water Table:** Perfect for backyard fun, encouraging sensory play and imaginative scenarios.\\n*   **Bubble Machine:** Simple, inexpensive fun that always brings joy!\\n\\n**5. Educational & Learning:**\\n*   **Chunky Puzzles:** Look for puzzles with 10-20 pieces that have large, easy-to-grasp knobs or pieces.\\n*   **Sorting & Stacking Toys:** These help with color recognition, shape identification, and fine motor skills.\\n*   **Age-Appropriate Board Games:** Simple games like \\\"Hoot Owl Hoot!\\\" or \\\"Candy Land\\\" can teach turn-taking and basic rules.\\n*   **Interactive Books:** Books with lift-the-flaps, textures, or sound buttons are very engaging.\\n\\n**6. Books:**\\n*   **Picture Books:** Three-year-olds love engaging stories with colorful illustrations. Classics like \\\"The Very Hungry Caterpillar,\\\" \\\"Brown Bear, Brown Bear, What Do You See?\\\", or newer popular series are great.\\n*   **Personalized Books:** A book where she is the star of the story can be a truly special gift.\\n\\n**Pro-Tip:**\\nConsider what she already has, what her specific interests are (Does she love animals? Trucks? Princesses?), and what kind of play her parents encourage. Sometimes, a gift that fosters open-ended play (like blocks or art supplies) gets the most mileage!\\n\\nHappy shopping!\"}],\"role\":\"model\"}\n",
            "{\"parts\":[{\"text\":\"I like the idea of a bike. Are there any age appropriate options?\"}],\"role\":\"user\"}\n",
            "-----------------------------------------------------------\n",
            "Functions:\n",
            "\n",
            "-----------------------------------------------------------\n",
            "\n"
          ]
        },
        {
          "output_type": "stream",
          "name": "stdout",
          "text": [
            "Agent Response:  That's wonderful! Three-year-olds are at such a fun age, full of imagination and eager to explore. Here are some birthday present recommendations, categorized to help you find the perfect gift for your niece:\n",
            "\n",
            "**1. Imaginative & Pretend Play:**\n",
            "*   **Play Kitchen or Doctor's Kit:** Kids this age love to imitate adults. A play kitchen with food and utensils, or a doctor's kit, can provide hours of creative role-playing.\n",
            "*   **Dress-Up Clothes:** A simple cape, a princess dress, an animal costume, or even just a fun hat can spark endless adventures.\n",
            "*   **Dollhouse or Animal Figures:** Simple dollhouses with chunky furniture or sets of realistic (or fantastical) animal figures encourage storytelling and world-building.\n",
            "*   **Puppets:** Hand puppets are great for putting on shows, developing language skills, and expressing emotions.\n",
            "\n",
            "**2. Creative & Artistic:**\n",
            "*   **Washable Markers, Crayons & Large Paper:** Look for chunky crayons that are easy for small hands to grip. Washable is key!\n",
            "*   **Play-Doh Sets:** With cutters, rollers, and extruders, Play-Doh is fantastic for developing fine motor skills and creativity.\n",
            "*   **Finger Paints:** A great sensory activity (just make sure they're washable and you have a designated area!).\n",
            "*   **Sticker Books or Art Easel:** Reusable sticker books or a small easel with paper and chalk/dry-erase markers can be very engaging.\n",
            "\n",
            "**3. Building & Construction:**\n",
            "*   **LEGO DUPLO Sets:** These larger blocks are perfect for small hands and inspire creativity without frustration. Look for sets with vehicles, animals, or characters.\n",
            "*   **Magnetic Tiles (e.g., Magna-Tiles, Connetix):** These are incredibly popular and for good reason! They allow kids to build amazing 2D and 3D structures and are great for spatial reasoning.\n",
            "*   **Wooden Blocks:** Simple, open-ended, and durable – classic wooden blocks are always a hit.\n",
            "\n",
            "**4. Outdoor & Active Play:**\n",
            "*   **Tricycle or Balance Bike:** A tricycle is great for cruising, or a balance bike can help her learn to ride a two-wheeler faster down the line. (Don't forget a helmet!)\n",
            "*   **Scooter:** A three-wheeled scooter is a fantastic way to develop balance and gross motor skills.\n",
            "*   **Sand & Water Table:** Perfect for backyard fun, encouraging sensory play and imaginative scenarios.\n",
            "*   **Bubble Machine:** Simple, inexpensive fun that always brings joy!\n",
            "\n",
            "**5. Educational & Learning:**\n",
            "*   **Chunky Puzzles:** Look for puzzles with 10-20 pieces that have large, easy-to-grasp knobs or pieces.\n",
            "*   **Sorting & Stacking Toys:** These help with color recognition, shape identification, and fine motor skills.\n",
            "*   **Age-Appropriate Board Games:** Simple games like \"Hoot Owl Hoot!\" or \"Candy Land\" can teach turn-taking and basic rules.\n",
            "*   **Interactive Books:** Books with lift-the-flaps, textures, or sound buttons are very engaging.\n",
            "\n",
            "**6. Books:**\n",
            "*   **Picture Books:** Three-year-olds love engaging stories with colorful illustrations. Classics like \"The Very Hungry Caterpillar,\" \"Brown Bear, Brown Bear, What Do You See?\", or newer popular series are great.\n",
            "*   **Personalized Books:** A book where she is the star of the story can be a truly special gift.\n",
            "\n",
            "**Pro-Tip:**\n",
            "Consider what she already has, what her specific interests are (Does she love animals? Trucks? Princesses?), and what kind of play her parents encourage. Sometimes, a gift that fosters open-ended play (like blocks or art supplies) gets the most mileage!\n",
            "\n",
            "Happy shopping!\n"
          ]
        },
        {
          "output_type": "stream",
          "name": "stderr",
          "text": [
            "INFO:google_adk.google.adk.models.google_llm:Response received from the model.\n",
            "DEBUG:google_adk.google.adk.models.google_llm:\n",
            "LLM Response:\n",
            "-----------------------------------------------------------\n",
            "Text:\n",
            "Yes, absolutely! A bike can be a fantastic gift for a three-year-old, encouraging outdoor play, developing motor skills, and building confidence. For this age group, the focus is usually on **learning fundamentals** and **safety**.\n",
            "\n",
            "Here are the most age-appropriate options:\n",
            "\n",
            "1.  **Balance Bikes (Highly Recommended)**\n",
            "    *   **What it is:** A two-wheeled bike without pedals or training wheels. Kids propel themselves by pushing off the ground with their feet.\n",
            "    *   **Why it's great for 3-year-olds:** This is often the *best* option for learning to ride a bike. It teaches children the most crucial skill first: **balance**. They learn to steer, lean into turns, and control their speed using their feet.\n",
            "    *   **Benefits:**\n",
            "        *   **Teaches Balance First:** This makes the transition to a pedal bike much easier and faster later on.\n",
            "        *   **Builds Confidence:** Kids feel in control because their feet are always on the ground.\n",
            "        *   **Develops Coordination:** Enhances gross motor skills and spatial awareness.\n",
            "        *   **Lightweight:** Easier for small children to handle and maneuver.\n",
            "    *   **What to look for:**\n",
            "        *   **Adjustable Seat Height:** Crucial so your niece can comfortably place her feet flat on the ground with a slight bend in her knees when sitting.\n",
            "        *   **Lightweight Frame:** Makes it easier for her to handle.\n",
            "        *   **Footrests:** Some have small platforms for kids to rest their feet once they're gliding.\n",
            "    *   **Example Brands:** Strider, Woom, Cruzee, Joovy.\n",
            "\n",
            "2.  **Tricycles**\n",
            "    *   **What it is:** A three-wheeled cycle with pedals.\n",
            "    *   **Why it's great for 3-year-olds:** Tricycles offer excellent stability, making them a good choice for kids who are just starting to understand the concept of pedaling.\n",
            "    *   **Benefits:**\n",
            "        *   **Very Stable:** No balance required, reducing the risk of tipping.\n",
            "        *   **Introduces Pedaling:** Helps children learn the motion of pedaling without the added challenge of balancing.\n",
            "        *   **Easy to Get On/Off:** Low center of gravity.\n",
            "    *   **Considerations:**\n",
            "        *   **Doesn't Teach Balance:** Children will still need to learn balance separately if they transition to a two-wheeled pedal bike later.\n",
            "        *   **Can Be Outgrown Quickly:** Some children master pedaling quickly and then might get bored if they don't have the challenge of balancing.\n",
            "        *   **Turning Radius:** Can be wider than a balance bike, making tight turns harder.\n",
            "    *   **Variations:** Some tricycles come with a parent push-handle, which can be great for walks where she might get tired, allowing you to push her.\n",
            "\n",
            "3.  **Three-Wheeled Scooters (While not a bike, they're often considered for similar active play)**\n",
            "    *   **What it is:** A scooter with two wheels at the front and one at the back (or vice-versa) for added stability.\n",
            "    *   **Why it's great for 3-year-olds:** It's another fantastic way to develop balance, coordination, and gross motor skills in a fun and less intimidating way than a two-wheeled bike.\n",
            "    *   **Benefits:**\n",
            "        *   **Stability:** The three-wheel design provides excellent balance.\n",
            "        *   **Easy to Learn:** Kids can often pick up scooting very quickly.\n",
            "        *   **Develops Core Strength & Balance:** Through leaning to steer.\n",
            "        *   **Fun & Active:** Great for outdoor energy release.\n",
            "    *   **What to look for:**\n",
            "        *   **Adjustable Handlebar Height:** To grow with her.\n",
            "        *   **Lean-to-Steer Mechanism:** This is often easier for young children than handlebar steering.\n",
            "        *   **Durable Wheels:** For a smooth ride.\n",
            "    *   **Example Brands:** Micro Kickboard Mini Deluxe, Globber.\n",
            "\n",
            "**Less Ideal (but possible with caveats) for a 3-year-old:**\n",
            "\n",
            "*   **Pedal Bikes with Training Wheels:** While many kids start with these, they are generally **less recommended for 3-year-olds** for several reasons:\n",
            "    *   **Weight:** They are often quite heavy for a small child.\n",
            "    *   **Teaches Incorrect Balance:** Training wheels actually prevent children from learning true balance because they lean *away* from the training wheel when turning, which is the opposite of how you balance on a two-wheeled bike.\n",
            "    *   **Frustration:** It can be hard for a 3-year-old to coordinate pedaling, steering, and braking all at once. If you go this route, look for the smallest wheel size (usually 12 inches) and a very lightweight frame.\n",
            "\n",
            "**Key Safety Considerations for ANY Option:**\n",
            "\n",
            "*   **Helmet:** This is non-negotiable. Always get a well-fitting helmet and ensure she wears it every time she rides.\n",
            "*   **Proper Fit:** Ensure her feet can comfortably reach the ground or pedals.\n",
            "*   **Supervision:** Always supervise her while she's riding.\n",
            "*   **Safe Riding Area:** Start in a flat, open, traffic-free area like a park path or driveway.\n",
            "\n",
            "For a three-year-old, a **balance bike** is usually the most empowering and effective way to introduce her to the joy of two-wheeled riding, setting her up for a quick transition to a pedal bike when she's ready.\n",
            "-----------------------------------------------------------\n",
            "Function calls:\n",
            "\n",
            "-----------------------------------------------------------\n",
            "Raw response:\n",
            "{\"sdk_http_response\":{\"headers\":{\"Content-Type\":\"application/json; charset=UTF-8\",\"Vary\":\"Origin, X-Origin, Referer\",\"Content-Encoding\":\"gzip\",\"Date\":\"Tue, 21 Oct 2025 17:47:39 GMT\",\"Server\":\"scaffolding on HTTPServer2\",\"X-XSS-Protection\":\"0\",\"X-Frame-Options\":\"SAMEORIGIN\",\"X-Content-Type-Options\":\"nosniff\",\"Transfer-Encoding\":\"chunked\"}},\"candidates\":[{\"content\":{\"parts\":[{\"text\":\"Yes, absolutely! A bike can be a fantastic gift for a three-year-old, encouraging outdoor play, developing motor skills, and building confidence. For this age group, the focus is usually on **learning fundamentals** and **safety**.\\n\\nHere are the most age-appropriate options:\\n\\n1.  **Balance Bikes (Highly Recommended)**\\n    *   **What it is:** A two-wheeled bike without pedals or training wheels. Kids propel themselves by pushing off the ground with their feet.\\n    *   **Why it's great for 3-year-olds:** This is often the *best* option for learning to ride a bike. It teaches children the most crucial skill first: **balance**. They learn to steer, lean into turns, and control their speed using their feet.\\n    *   **Benefits:**\\n        *   **Teaches Balance First:** This makes the transition to a pedal bike much easier and faster later on.\\n        *   **Builds Confidence:** Kids feel in control because their feet are always on the ground.\\n        *   **Develops Coordination:** Enhances gross motor skills and spatial awareness.\\n        *   **Lightweight:** Easier for small children to handle and maneuver.\\n    *   **What to look for:**\\n        *   **Adjustable Seat Height:** Crucial so your niece can comfortably place her feet flat on the ground with a slight bend in her knees when sitting.\\n        *   **Lightweight Frame:** Makes it easier for her to handle.\\n        *   **Footrests:** Some have small platforms for kids to rest their feet once they're gliding.\\n    *   **Example Brands:** Strider, Woom, Cruzee, Joovy.\\n\\n2.  **Tricycles**\\n    *   **What it is:** A three-wheeled cycle with pedals.\\n    *   **Why it's great for 3-year-olds:** Tricycles offer excellent stability, making them a good choice for kids who are just starting to understand the concept of pedaling.\\n    *   **Benefits:**\\n        *   **Very Stable:** No balance required, reducing the risk of tipping.\\n        *   **Introduces Pedaling:** Helps children learn the motion of pedaling without the added challenge of balancing.\\n        *   **Easy to Get On/Off:** Low center of gravity.\\n    *   **Considerations:**\\n        *   **Doesn't Teach Balance:** Children will still need to learn balance separately if they transition to a two-wheeled pedal bike later.\\n        *   **Can Be Outgrown Quickly:** Some children master pedaling quickly and then might get bored if they don't have the challenge of balancing.\\n        *   **Turning Radius:** Can be wider than a balance bike, making tight turns harder.\\n    *   **Variations:** Some tricycles come with a parent push-handle, which can be great for walks where she might get tired, allowing you to push her.\\n\\n3.  **Three-Wheeled Scooters (While not a bike, they're often considered for similar active play)**\\n    *   **What it is:** A scooter with two wheels at the front and one at the back (or vice-versa) for added stability.\\n    *   **Why it's great for 3-year-olds:** It's another fantastic way to develop balance, coordination, and gross motor skills in a fun and less intimidating way than a two-wheeled bike.\\n    *   **Benefits:**\\n        *   **Stability:** The three-wheel design provides excellent balance.\\n        *   **Easy to Learn:** Kids can often pick up scooting very quickly.\\n        *   **Develops Core Strength & Balance:** Through leaning to steer.\\n        *   **Fun & Active:** Great for outdoor energy release.\\n    *   **What to look for:**\\n        *   **Adjustable Handlebar Height:** To grow with her.\\n        *   **Lean-to-Steer Mechanism:** This is often easier for young children than handlebar steering.\\n        *   **Durable Wheels:** For a smooth ride.\\n    *   **Example Brands:** Micro Kickboard Mini Deluxe, Globber.\\n\\n**Less Ideal (but possible with caveats) for a 3-year-old:**\\n\\n*   **Pedal Bikes with Training Wheels:** While many kids start with these, they are generally **less recommended for 3-year-olds** for several reasons:\\n    *   **Weight:** They are often quite heavy for a small child.\\n    *   **Teaches Incorrect Balance:** Training wheels actually prevent children from learning true balance because they lean *away* from the training wheel when turning, which is the opposite of how you balance on a two-wheeled bike.\\n    *   **Frustration:** It can be hard for a 3-year-old to coordinate pedaling, steering, and braking all at once. If you go this route, look for the smallest wheel size (usually 12 inches) and a very lightweight frame.\\n\\n**Key Safety Considerations for ANY Option:**\\n\\n*   **Helmet:** This is non-negotiable. Always get a well-fitting helmet and ensure she wears it every time she rides.\\n*   **Proper Fit:** Ensure her feet can comfortably reach the ground or pedals.\\n*   **Supervision:** Always supervise her while she's riding.\\n*   **Safe Riding Area:** Start in a flat, open, traffic-free area like a park path or driveway.\\n\\nFor a three-year-old, a **balance bike** is usually the most empowering and effective way to introduce her to the joy of two-wheeled riding, setting her up for a quick transition to a pedal bike when she's ready.\"}],\"role\":\"model\"},\"finish_reason\":\"STOP\",\"avg_logprobs\":-0.4967696840399938}],\"create_time\":\"2025-10-21T17:47:28.489411Z\",\"model_version\":\"gemini-2.5-flash\",\"response_id\":\"MMf3aMPvHdOTmecPtMz1uQk\",\"usage_metadata\":{\"candidates_token_count\":1208,\"candidates_tokens_details\":[{\"modality\":\"TEXT\",\"token_count\":1208}],\"prompt_token_count\":866,\"prompt_tokens_details\":[{\"modality\":\"TEXT\",\"token_count\":866}],\"thoughts_token_count\":677,\"total_token_count\":2751,\"traffic_type\":\"ON_DEMAND\"},\"automatic_function_calling_history\":[]}\n",
            "-----------------------------------------------------------\n",
            "\n"
          ]
        },
        {
          "output_type": "stream",
          "name": "stdout",
          "text": [
            "Agent Response:  Yes, absolutely! A bike can be a fantastic gift for a three-year-old, encouraging outdoor play, developing motor skills, and building confidence. For this age group, the focus is usually on **learning fundamentals** and **safety**.\n",
            "\n",
            "Here are the most age-appropriate options:\n",
            "\n",
            "1.  **Balance Bikes (Highly Recommended)**\n",
            "    *   **What it is:** A two-wheeled bike without pedals or training wheels. Kids propel themselves by pushing off the ground with their feet.\n",
            "    *   **Why it's great for 3-year-olds:** This is often the *best* option for learning to ride a bike. It teaches children the most crucial skill first: **balance**. They learn to steer, lean into turns, and control their speed using their feet.\n",
            "    *   **Benefits:**\n",
            "        *   **Teaches Balance First:** This makes the transition to a pedal bike much easier and faster later on.\n",
            "        *   **Builds Confidence:** Kids feel in control because their feet are always on the ground.\n",
            "        *   **Develops Coordination:** Enhances gross motor skills and spatial awareness.\n",
            "        *   **Lightweight:** Easier for small children to handle and maneuver.\n",
            "    *   **What to look for:**\n",
            "        *   **Adjustable Seat Height:** Crucial so your niece can comfortably place her feet flat on the ground with a slight bend in her knees when sitting.\n",
            "        *   **Lightweight Frame:** Makes it easier for her to handle.\n",
            "        *   **Footrests:** Some have small platforms for kids to rest their feet once they're gliding.\n",
            "    *   **Example Brands:** Strider, Woom, Cruzee, Joovy.\n",
            "\n",
            "2.  **Tricycles**\n",
            "    *   **What it is:** A three-wheeled cycle with pedals.\n",
            "    *   **Why it's great for 3-year-olds:** Tricycles offer excellent stability, making them a good choice for kids who are just starting to understand the concept of pedaling.\n",
            "    *   **Benefits:**\n",
            "        *   **Very Stable:** No balance required, reducing the risk of tipping.\n",
            "        *   **Introduces Pedaling:** Helps children learn the motion of pedaling without the added challenge of balancing.\n",
            "        *   **Easy to Get On/Off:** Low center of gravity.\n",
            "    *   **Considerations:**\n",
            "        *   **Doesn't Teach Balance:** Children will still need to learn balance separately if they transition to a two-wheeled pedal bike later.\n",
            "        *   **Can Be Outgrown Quickly:** Some children master pedaling quickly and then might get bored if they don't have the challenge of balancing.\n",
            "        *   **Turning Radius:** Can be wider than a balance bike, making tight turns harder.\n",
            "    *   **Variations:** Some tricycles come with a parent push-handle, which can be great for walks where she might get tired, allowing you to push her.\n",
            "\n",
            "3.  **Three-Wheeled Scooters (While not a bike, they're often considered for similar active play)**\n",
            "    *   **What it is:** A scooter with two wheels at the front and one at the back (or vice-versa) for added stability.\n",
            "    *   **Why it's great for 3-year-olds:** It's another fantastic way to develop balance, coordination, and gross motor skills in a fun and less intimidating way than a two-wheeled bike.\n",
            "    *   **Benefits:**\n",
            "        *   **Stability:** The three-wheel design provides excellent balance.\n",
            "        *   **Easy to Learn:** Kids can often pick up scooting very quickly.\n",
            "        *   **Develops Core Strength & Balance:** Through leaning to steer.\n",
            "        *   **Fun & Active:** Great for outdoor energy release.\n",
            "    *   **What to look for:**\n",
            "        *   **Adjustable Handlebar Height:** To grow with her.\n",
            "        *   **Lean-to-Steer Mechanism:** This is often easier for young children than handlebar steering.\n",
            "        *   **Durable Wheels:** For a smooth ride.\n",
            "    *   **Example Brands:** Micro Kickboard Mini Deluxe, Globber.\n",
            "\n",
            "**Less Ideal (but possible with caveats) for a 3-year-old:**\n",
            "\n",
            "*   **Pedal Bikes with Training Wheels:** While many kids start with these, they are generally **less recommended for 3-year-olds** for several reasons:\n",
            "    *   **Weight:** They are often quite heavy for a small child.\n",
            "    *   **Teaches Incorrect Balance:** Training wheels actually prevent children from learning true balance because they lean *away* from the training wheel when turning, which is the opposite of how you balance on a two-wheeled bike.\n",
            "    *   **Frustration:** It can be hard for a 3-year-old to coordinate pedaling, steering, and braking all at once. If you go this route, look for the smallest wheel size (usually 12 inches) and a very lightweight frame.\n",
            "\n",
            "**Key Safety Considerations for ANY Option:**\n",
            "\n",
            "*   **Helmet:** This is non-negotiable. Always get a well-fitting helmet and ensure she wears it every time she rides.\n",
            "*   **Proper Fit:** Ensure her feet can comfortably reach the ground or pedals.\n",
            "*   **Supervision:** Always supervise her while she's riding.\n",
            "*   **Safe Riding Area:** Start in a flat, open, traffic-free area like a park path or driveway.\n",
            "\n",
            "For a three-year-old, a **balance bike** is usually the most empowering and effective way to introduce her to the joy of two-wheeled riding, setting her up for a quick transition to a pedal bike when she's ready.\n"
          ]
        }
      ],
      "source": [
        "recommendations_session = await session_service.create_session(\n",
        "    app_name=APP_NAME, user_id=USER_ID\n",
        ")\n",
        "\n",
        "call_agent(\n",
        "    \"I have a three year old niece. What recommendations do you have for birthday presents?\",\n",
        "    recommendations_session.id,\n",
        "    user_id=USER_ID,\n",
        ")\n",
        "call_agent(\n",
        "    \"I like the idea of a bike. Are there any age appropriate options?\",\n",
        "    recommendations_session.id,\n",
        "    user_id=USER_ID,\n",
        ")\n",
        "\n",
        "recommendations_session = await session_service.get_session(\n",
        "    app_name=APP_NAME, user_id=USER_ID, session_id=recommendations_session.id\n",
        ")"
      ]
    },
    {
      "cell_type": "markdown",
      "metadata": {
        "id": "0-bWy4LlTjio"
      },
      "source": [
        "### InMemoryMemoryService\n",
        "\n",
        "First, let's see what memories are extracted from the conversation using `InMemoryMemoryService`\n",
        "\n",
        "The memories include the raw dialogue of the conversation."
      ]
    },
    {
      "cell_type": "code",
      "execution_count": 11,
      "metadata": {
        "id": "D6PyuoF7_dz2"
      },
      "outputs": [],
      "source": [
        "await in_memory_service.add_session_to_memory(chit_chat_session)\n",
        "await in_memory_service.add_session_to_memory(recommendations_session)"
      ]
    },
    {
      "cell_type": "code",
      "execution_count": 12,
      "metadata": {
        "colab": {
          "base_uri": "https://localhost:8080/"
        },
        "id": "IP1_NjgjTzO0",
        "outputId": "310ffb16-9fbe-4ccc-86ab-cc63b7b6b8c0"
      },
      "outputs": [
        {
          "output_type": "execute_result",
          "data": {
            "text/plain": [
              "{'memory_example_app/My User': {'3acd1ca4-c69f-488c-a3d1-4b2a7a865d17': [Event(content=Content(\n",
              "     parts=[\n",
              "       Part(\n",
              "         text='what types of questions do you answer'\n",
              "       ),\n",
              "     ],\n",
              "     role='user'\n",
              "   ), grounding_metadata=None, partial=None, turn_complete=None, finish_reason=None, error_code=None, error_message=None, interrupted=None, custom_metadata=None, usage_metadata=None, live_session_resumption_update=None, input_transcription=None, output_transcription=None, avg_logprobs=None, logprobs_result=None, cache_metadata=None, citation_metadata=None, invocation_id='e-74a1d305-d555-4de5-9364-16c46d9da517', author='user', actions=EventActions(skip_summarization=None, state_delta={}, artifact_delta={}, transfer_to_agent=None, escalate=None, requested_auth_configs={}, requested_tool_confirmations={}, compaction=None, end_of_agent=None, agent_state=None), long_running_tool_ids=None, branch=None, id='6a9c53c2-6d3d-423a-a2c5-280a5abb61b1', timestamp=1761065557.325974),\n",
              "   Event(content=Content(\n",
              "     parts=[\n",
              "       Part(\n",
              "         text=\"\"\"As Generic_QA_Agent, I'm designed to answer a very wide variety of questions across numerous topics. My capabilities include, but are not limited to:\n",
              "   \n",
              "   *   **Factual Information:** Questions about history, science, geography, current events, definitions, statistics, and more.\n",
              "   *   **Explanations:** Breaking down complex concepts, explaining how things work, or elaborating on a topic.\n",
              "   *   **How-to Guides:** Providing instructions or steps for various tasks.\n",
              "   *   **Summaries:** Condensing longer texts or topics into key points.\n",
              "   *   **Creative Writing/Brainstorming:** Generating ideas, writing short pieces of text, or helping with creative tasks.\n",
              "   *   **Comparisons:** Differentiating between similar items or concepts.\n",
              "   *   **Troubleshooting (conceptual):** Offering general advice or common solutions to problems (though I can't interact with systems directly).\n",
              "   *   **General Knowledge:** Anything that falls under the umbrella of widely available information.\n",
              "   \n",
              "   Essentially, if it's something that can be found in text or data I've been trained on, I can usually provide an answer or an informed perspective.\n",
              "   \n",
              "   What kind of question do you have in mind? I'm ready to help!\"\"\"\n",
              "       ),\n",
              "     ],\n",
              "     role='model'\n",
              "   ), grounding_metadata=None, partial=None, turn_complete=None, finish_reason=<FinishReason.STOP: 'STOP'>, error_code=None, error_message=None, interrupted=None, custom_metadata=None, usage_metadata=GenerateContentResponseUsageMetadata(\n",
              "     candidates_token_count=255,\n",
              "     candidates_tokens_details=[\n",
              "       ModalityTokenCount(\n",
              "         modality=<MediaModality.TEXT: 'TEXT'>,\n",
              "         token_count=255\n",
              "       ),\n",
              "     ],\n",
              "     prompt_token_count=30,\n",
              "     prompt_tokens_details=[\n",
              "       ModalityTokenCount(\n",
              "         modality=<MediaModality.TEXT: 'TEXT'>,\n",
              "         token_count=30\n",
              "       ),\n",
              "     ],\n",
              "     thoughts_token_count=47,\n",
              "     total_token_count=332,\n",
              "     traffic_type=<TrafficType.ON_DEMAND: 'ON_DEMAND'>\n",
              "   ), live_session_resumption_update=None, input_transcription=None, output_transcription=None, avg_logprobs=-0.40577066458907785, logprobs_result=None, cache_metadata=None, citation_metadata=None, invocation_id='e-74a1d305-d555-4de5-9364-16c46d9da517', author='Generic_QA_Agent', actions=EventActions(skip_summarization=None, state_delta={}, artifact_delta={}, transfer_to_agent=None, escalate=None, requested_auth_configs={}, requested_tool_confirmations={}, compaction=None, end_of_agent=None, agent_state=None), long_running_tool_ids=None, branch=None, id='400131d0-6cc2-404e-bc01-b0a6313bb4f4', timestamp=1761065557.329487)],\n",
              "  '0b07f312-5922-4b47-9730-d37c8cd19bea': [Event(content=Content(\n",
              "     parts=[\n",
              "       Part(\n",
              "         text='I have a three year old niece. What recommendations do you have for birthday presents?'\n",
              "       ),\n",
              "     ],\n",
              "     role='user'\n",
              "   ), grounding_metadata=None, partial=None, turn_complete=None, finish_reason=None, error_code=None, error_message=None, interrupted=None, custom_metadata=None, usage_metadata=None, live_session_resumption_update=None, input_transcription=None, output_transcription=None, avg_logprobs=None, logprobs_result=None, cache_metadata=None, citation_metadata=None, invocation_id='e-5e1ee7c5-4ff6-4e46-b252-523847211ab9', author='user', actions=EventActions(skip_summarization=None, state_delta={}, artifact_delta={}, transfer_to_agent=None, escalate=None, requested_auth_configs={}, requested_tool_confirmations={}, compaction=None, end_of_agent=None, agent_state=None), long_running_tool_ids=None, branch=None, id='d644a7d6-4258-4b7f-8fe6-17a7ea952c35', timestamp=1761068837.145149),\n",
              "   Event(content=Content(\n",
              "     parts=[\n",
              "       Part(\n",
              "         text=\"\"\"That's wonderful! Three-year-olds are at such a fun age, full of imagination and eager to explore. Here are some birthday present recommendations, categorized to help you find the perfect gift for your niece:\n",
              "   \n",
              "   **1. Imaginative & Pretend Play:**\n",
              "   *   **Play Kitchen or Doctor's Kit:** Kids this age love to imitate adults. A play kitchen with food and utensils, or a doctor's kit, can provide hours of creative role-playing.\n",
              "   *   **Dress-Up Clothes:** A simple cape, a princess dress, an animal costume, or even just a fun hat can spark endless adventures.\n",
              "   *   **Dollhouse or Animal Figures:** Simple dollhouses with chunky furniture or sets of realistic (or fantastical) animal figures encourage storytelling and world-building.\n",
              "   *   **Puppets:** Hand puppets are great for putting on shows, developing language skills, and expressing emotions.\n",
              "   \n",
              "   **2. Creative & Artistic:**\n",
              "   *   **Washable Markers, Crayons & Large Paper:** Look for chunky crayons that are easy for small hands to grip. Washable is key!\n",
              "   *   **Play-Doh Sets:** With cutters, rollers, and extruders, Play-Doh is fantastic for developing fine motor skills and creativity.\n",
              "   *   **Finger Paints:** A great sensory activity (just make sure they're washable and you have a designated area!).\n",
              "   *   **Sticker Books or Art Easel:** Reusable sticker books or a small easel with paper and chalk/dry-erase markers can be very engaging.\n",
              "   \n",
              "   **3. Building & Construction:**\n",
              "   *   **LEGO DUPLO Sets:** These larger blocks are perfect for small hands and inspire creativity without frustration. Look for sets with vehicles, animals, or characters.\n",
              "   *   **Magnetic Tiles (e.g., Magna-Tiles, Connetix):** These are incredibly popular and for good reason! They allow kids to build amazing 2D and 3D structures and are great for spatial reasoning.\n",
              "   *   **Wooden Blocks:** Simple, open-ended, and durable – classic wooden blocks are always a hit.\n",
              "   \n",
              "   **4. Outdoor & Active Play:**\n",
              "   *   **Tricycle or Balance Bike:** A tricycle is great for cruising, or a balance bike can help her learn to ride a two-wheeler faster down the line. (Don't forget a helmet!)\n",
              "   *   **Scooter:** A three-wheeled scooter is a fantastic way to develop balance and gross motor skills.\n",
              "   *   **Sand & Water Table:** Perfect for backyard fun, encouraging sensory play and imaginative scenarios.\n",
              "   *   **Bubble Machine:** Simple, inexpensive fun that always brings joy!\n",
              "   \n",
              "   **5. Educational & Learning:**\n",
              "   *   **Chunky Puzzles:** Look for puzzles with 10-20 pieces that have large, easy-to-grasp knobs or pieces.\n",
              "   *   **Sorting & Stacking Toys:** These help with color recognition, shape identification, and fine motor skills.\n",
              "   *   **Age-Appropriate Board Games:** Simple games like \"Hoot Owl Hoot!\" or \"Candy Land\" can teach turn-taking and basic rules.\n",
              "   *   **Interactive Books:** Books with lift-the-flaps, textures, or sound buttons are very engaging.\n",
              "   \n",
              "   **6. Books:**\n",
              "   *   **Picture Books:** Three-year-olds love engaging stories with colorful illustrations. Classics like \"The Very Hungry Caterpillar,\" \"Brown Bear, Brown Bear, What Do You See?\", or newer popular series are great.\n",
              "   *   **Personalized Books:** A book where she is the star of the story can be a truly special gift.\n",
              "   \n",
              "   **Pro-Tip:**\n",
              "   Consider what she already has, what her specific interests are (Does she love animals? Trucks? Princesses?), and what kind of play her parents encourage. Sometimes, a gift that fosters open-ended play (like blocks or art supplies) gets the most mileage!\n",
              "   \n",
              "   Happy shopping!\"\"\"\n",
              "       ),\n",
              "     ],\n",
              "     role='model'\n",
              "   ), grounding_metadata=None, partial=None, turn_complete=None, finish_reason=<FinishReason.STOP: 'STOP'>, error_code=None, error_message=None, interrupted=None, custom_metadata=None, usage_metadata=GenerateContentResponseUsageMetadata(\n",
              "     candidates_token_count=811,\n",
              "     candidates_tokens_details=[\n",
              "       ModalityTokenCount(\n",
              "         modality=<MediaModality.TEXT: 'TEXT'>,\n",
              "         token_count=811\n",
              "       ),\n",
              "     ],\n",
              "     prompt_token_count=40,\n",
              "     prompt_tokens_details=[\n",
              "       ModalityTokenCount(\n",
              "         modality=<MediaModality.TEXT: 'TEXT'>,\n",
              "         token_count=40\n",
              "       ),\n",
              "     ],\n",
              "     thoughts_token_count=598,\n",
              "     total_token_count=1449,\n",
              "     traffic_type=<TrafficType.ON_DEMAND: 'ON_DEMAND'>\n",
              "   ), live_session_resumption_update=None, input_transcription=None, output_transcription=None, avg_logprobs=-0.5735783324141684, logprobs_result=None, cache_metadata=None, citation_metadata=None, invocation_id='e-5e1ee7c5-4ff6-4e46-b252-523847211ab9', author='Generic_QA_Agent', actions=EventActions(skip_summarization=None, state_delta={}, artifact_delta={}, transfer_to_agent=None, escalate=None, requested_auth_configs={}, requested_tool_confirmations={}, compaction=None, end_of_agent=None, agent_state=None), long_running_tool_ids=None, branch=None, id='410c0d4f-1e57-4fb4-b12c-ca91ac0006f4', timestamp=1761068837.146018),\n",
              "   Event(content=Content(\n",
              "     parts=[\n",
              "       Part(\n",
              "         text='I like the idea of a bike. Are there any age appropriate options?'\n",
              "       ),\n",
              "     ],\n",
              "     role='user'\n",
              "   ), grounding_metadata=None, partial=None, turn_complete=None, finish_reason=None, error_code=None, error_message=None, interrupted=None, custom_metadata=None, usage_metadata=None, live_session_resumption_update=None, input_transcription=None, output_transcription=None, avg_logprobs=None, logprobs_result=None, cache_metadata=None, citation_metadata=None, invocation_id='e-a4487e2a-5ae9-4a25-b0f6-d6e01b217a5e', author='user', actions=EventActions(skip_summarization=None, state_delta={}, artifact_delta={}, transfer_to_agent=None, escalate=None, requested_auth_configs={}, requested_tool_confirmations={}, compaction=None, end_of_agent=None, agent_state=None), long_running_tool_ids=None, branch=None, id='a6399c18-64a4-4f48-823c-0a17e3d41bd5', timestamp=1761068847.790139),\n",
              "   Event(content=Content(\n",
              "     parts=[\n",
              "       Part(\n",
              "         text=\"\"\"Yes, absolutely! A bike can be a fantastic gift for a three-year-old, encouraging outdoor play, developing motor skills, and building confidence. For this age group, the focus is usually on **learning fundamentals** and **safety**.\n",
              "   \n",
              "   Here are the most age-appropriate options:\n",
              "   \n",
              "   1.  **Balance Bikes (Highly Recommended)**\n",
              "       *   **What it is:** A two-wheeled bike without pedals or training wheels. Kids propel themselves by pushing off the ground with their feet.\n",
              "       *   **Why it's great for 3-year-olds:** This is often the *best* option for learning to ride a bike. It teaches children the most crucial skill first: **balance**. They learn to steer, lean into turns, and control their speed using their feet.\n",
              "       *   **Benefits:**\n",
              "           *   **Teaches Balance First:** This makes the transition to a pedal bike much easier and faster later on.\n",
              "           *   **Builds Confidence:** Kids feel in control because their feet are always on the ground.\n",
              "           *   **Develops Coordination:** Enhances gross motor skills and spatial awareness.\n",
              "           *   **Lightweight:** Easier for small children to handle and maneuver.\n",
              "       *   **What to look for:**\n",
              "           *   **Adjustable Seat Height:** Crucial so your niece can comfortably place her feet flat on the ground with a slight bend in her knees when sitting.\n",
              "           *   **Lightweight Frame:** Makes it easier for her to handle.\n",
              "           *   **Footrests:** Some have small platforms for kids to rest their feet once they're gliding.\n",
              "       *   **Example Brands:** Strider, Woom, Cruzee, Joovy.\n",
              "   \n",
              "   2.  **Tricycles**\n",
              "       *   **What it is:** A three-wheeled cycle with pedals.\n",
              "       *   **Why it's great for 3-year-olds:** Tricycles offer excellent stability, making them a good choice for kids who are just starting to understand the concept of pedaling.\n",
              "       *   **Benefits:**\n",
              "           *   **Very Stable:** No balance required, reducing the risk of tipping.\n",
              "           *   **Introduces Pedaling:** Helps children learn the motion of pedaling without the added challenge of balancing.\n",
              "           *   **Easy to Get On/Off:** Low center of gravity.\n",
              "       *   **Considerations:**\n",
              "           *   **Doesn't Teach Balance:** Children will still need to learn balance separately if they transition to a two-wheeled pedal bike later.\n",
              "           *   **Can Be Outgrown Quickly:** Some children master pedaling quickly and then might get bored if they don't have the challenge of balancing.\n",
              "           *   **Turning Radius:** Can be wider than a balance bike, making tight turns harder.\n",
              "       *   **Variations:** Some tricycles come with a parent push-handle, which can be great for walks where she might get tired, allowing you to push her.\n",
              "   \n",
              "   3.  **Three-Wheeled Scooters (While not a bike, they're often considered for similar active play)**\n",
              "       *   **What it is:** A scooter with two wheels at the front and one at the back (or vice-versa) for added stability.\n",
              "       *   **Why it's great for 3-year-olds:** It's another fantastic way to develop balance, coordination, and gross motor skills in a fun and less intimidating way than a two-wheeled bike.\n",
              "       *   **Benefits:**\n",
              "           *   **Stability:** The three-wheel design provides excellent balance.\n",
              "           *   **Easy to Learn:** Kids can often pick up scooting very quickly.\n",
              "           *   **Develops Core Strength & Balance:** Through leaning to steer.\n",
              "           *   **Fun & Active:** Great for outdoor energy release.\n",
              "       *   **What to look for:**\n",
              "           *   **Adjustable Handlebar Height:** To grow with her.\n",
              "           *   **Lean-to-Steer Mechanism:** This is often easier for young children than handlebar steering.\n",
              "           *   **Durable Wheels:** For a smooth ride.\n",
              "       *   **Example Brands:** Micro Kickboard Mini Deluxe, Globber.\n",
              "   \n",
              "   **Less Ideal (but possible with caveats) for a 3-year-old:**\n",
              "   \n",
              "   *   **Pedal Bikes with Training Wheels:** While many kids start with these, they are generally **less recommended for 3-year-olds** for several reasons:\n",
              "       *   **Weight:** They are often quite heavy for a small child.\n",
              "       *   **Teaches Incorrect Balance:** Training wheels actually prevent children from learning true balance because they lean *away* from the training wheel when turning, which is the opposite of how you balance on a two-wheeled bike.\n",
              "       *   **Frustration:** It can be hard for a 3-year-old to coordinate pedaling, steering, and braking all at once. If you go this route, look for the smallest wheel size (usually 12 inches) and a very lightweight frame.\n",
              "   \n",
              "   **Key Safety Considerations for ANY Option:**\n",
              "   \n",
              "   *   **Helmet:** This is non-negotiable. Always get a well-fitting helmet and ensure she wears it every time she rides.\n",
              "   *   **Proper Fit:** Ensure her feet can comfortably reach the ground or pedals.\n",
              "   *   **Supervision:** Always supervise her while she's riding.\n",
              "   *   **Safe Riding Area:** Start in a flat, open, traffic-free area like a park path or driveway.\n",
              "   \n",
              "   For a three-year-old, a **balance bike** is usually the most empowering and effective way to introduce her to the joy of two-wheeled riding, setting her up for a quick transition to a pedal bike when she's ready.\"\"\"\n",
              "       ),\n",
              "     ],\n",
              "     role='model'\n",
              "   ), grounding_metadata=None, partial=None, turn_complete=None, finish_reason=<FinishReason.STOP: 'STOP'>, error_code=None, error_message=None, interrupted=None, custom_metadata=None, usage_metadata=GenerateContentResponseUsageMetadata(\n",
              "     candidates_token_count=1208,\n",
              "     candidates_tokens_details=[\n",
              "       ModalityTokenCount(\n",
              "         modality=<MediaModality.TEXT: 'TEXT'>,\n",
              "         token_count=1208\n",
              "       ),\n",
              "     ],\n",
              "     prompt_token_count=866,\n",
              "     prompt_tokens_details=[\n",
              "       ModalityTokenCount(\n",
              "         modality=<MediaModality.TEXT: 'TEXT'>,\n",
              "         token_count=866\n",
              "       ),\n",
              "     ],\n",
              "     thoughts_token_count=677,\n",
              "     total_token_count=2751,\n",
              "     traffic_type=<TrafficType.ON_DEMAND: 'ON_DEMAND'>\n",
              "   ), live_session_resumption_update=None, input_transcription=None, output_transcription=None, avg_logprobs=-0.4967696840399938, logprobs_result=None, cache_metadata=None, citation_metadata=None, invocation_id='e-a4487e2a-5ae9-4a25-b0f6-d6e01b217a5e', author='Generic_QA_Agent', actions=EventActions(skip_summarization=None, state_delta={}, artifact_delta={}, transfer_to_agent=None, escalate=None, requested_auth_configs={}, requested_tool_confirmations={}, compaction=None, end_of_agent=None, agent_state=None), long_running_tool_ids=None, branch=None, id='8b2654d0-291f-41d9-aad7-e597a7952a7a', timestamp=1761068847.790866)]}}"
            ]
          },
          "metadata": {},
          "execution_count": 12
        }
      ],
      "source": [
        "# Peek at the memories.\n",
        "in_memory_service._session_events"
      ]
    },
    {
      "cell_type": "code",
      "execution_count": 13,
      "metadata": {
        "colab": {
          "base_uri": "https://localhost:8080/"
        },
        "id": "ZY1cRqfi_4Qz",
        "outputId": "34f3b91f-4866-4eef-f0c5-6bb6343ba02f"
      },
      "outputs": [
        {
          "output_type": "execute_result",
          "data": {
            "text/plain": [
              "SearchMemoryResponse(memories=[])"
            ]
          },
          "metadata": {},
          "execution_count": 13
        }
      ],
      "source": [
        "await in_memory_service.search_memory(app_name=APP_NAME, user_id=USER_ID, query=\"test\")"
      ]
    },
    {
      "cell_type": "code",
      "execution_count": 14,
      "metadata": {
        "colab": {
          "base_uri": "https://localhost:8080/"
        },
        "id": "wV2OziabBVt5",
        "outputId": "9e4c32a6-6834-4c0d-b349-78c86d9f18a4"
      },
      "outputs": [
        {
          "output_type": "execute_result",
          "data": {
            "text/plain": [
              "SearchMemoryResponse(memories=[MemoryEntry(content=Content(\n",
              "  parts=[\n",
              "    Part(\n",
              "      text='what types of questions do you answer'\n",
              "    ),\n",
              "  ],\n",
              "  role='user'\n",
              "), author='user', timestamp='2025-10-21T16:52:37.325974'), MemoryEntry(content=Content(\n",
              "  parts=[\n",
              "    Part(\n",
              "      text=\"\"\"As Generic_QA_Agent, I'm designed to answer a very wide variety of questions across numerous topics. My capabilities include, but are not limited to:\n",
              "\n",
              "*   **Factual Information:** Questions about history, science, geography, current events, definitions, statistics, and more.\n",
              "*   **Explanations:** Breaking down complex concepts, explaining how things work, or elaborating on a topic.\n",
              "*   **How-to Guides:** Providing instructions or steps for various tasks.\n",
              "*   **Summaries:** Condensing longer texts or topics into key points.\n",
              "*   **Creative Writing/Brainstorming:** Generating ideas, writing short pieces of text, or helping with creative tasks.\n",
              "*   **Comparisons:** Differentiating between similar items or concepts.\n",
              "*   **Troubleshooting (conceptual):** Offering general advice or common solutions to problems (though I can't interact with systems directly).\n",
              "*   **General Knowledge:** Anything that falls under the umbrella of widely available information.\n",
              "\n",
              "Essentially, if it's something that can be found in text or data I've been trained on, I can usually provide an answer or an informed perspective.\n",
              "\n",
              "What kind of question do you have in mind? I'm ready to help!\"\"\"\n",
              "    ),\n",
              "  ],\n",
              "  role='model'\n",
              "), author='Generic_QA_Agent', timestamp='2025-10-21T16:52:37.329487'), MemoryEntry(content=Content(\n",
              "  parts=[\n",
              "    Part(\n",
              "      text='I have a three year old niece. What recommendations do you have for birthday presents?'\n",
              "    ),\n",
              "  ],\n",
              "  role='user'\n",
              "), author='user', timestamp='2025-10-21T17:47:17.145149'), MemoryEntry(content=Content(\n",
              "  parts=[\n",
              "    Part(\n",
              "      text=\"\"\"That's wonderful! Three-year-olds are at such a fun age, full of imagination and eager to explore. Here are some birthday present recommendations, categorized to help you find the perfect gift for your niece:\n",
              "\n",
              "**1. Imaginative & Pretend Play:**\n",
              "*   **Play Kitchen or Doctor's Kit:** Kids this age love to imitate adults. A play kitchen with food and utensils, or a doctor's kit, can provide hours of creative role-playing.\n",
              "*   **Dress-Up Clothes:** A simple cape, a princess dress, an animal costume, or even just a fun hat can spark endless adventures.\n",
              "*   **Dollhouse or Animal Figures:** Simple dollhouses with chunky furniture or sets of realistic (or fantastical) animal figures encourage storytelling and world-building.\n",
              "*   **Puppets:** Hand puppets are great for putting on shows, developing language skills, and expressing emotions.\n",
              "\n",
              "**2. Creative & Artistic:**\n",
              "*   **Washable Markers, Crayons & Large Paper:** Look for chunky crayons that are easy for small hands to grip. Washable is key!\n",
              "*   **Play-Doh Sets:** With cutters, rollers, and extruders, Play-Doh is fantastic for developing fine motor skills and creativity.\n",
              "*   **Finger Paints:** A great sensory activity (just make sure they're washable and you have a designated area!).\n",
              "*   **Sticker Books or Art Easel:** Reusable sticker books or a small easel with paper and chalk/dry-erase markers can be very engaging.\n",
              "\n",
              "**3. Building & Construction:**\n",
              "*   **LEGO DUPLO Sets:** These larger blocks are perfect for small hands and inspire creativity without frustration. Look for sets with vehicles, animals, or characters.\n",
              "*   **Magnetic Tiles (e.g., Magna-Tiles, Connetix):** These are incredibly popular and for good reason! They allow kids to build amazing 2D and 3D structures and are great for spatial reasoning.\n",
              "*   **Wooden Blocks:** Simple, open-ended, and durable – classic wooden blocks are always a hit.\n",
              "\n",
              "**4. Outdoor & Active Play:**\n",
              "*   **Tricycle or Balance Bike:** A tricycle is great for cruising, or a balance bike can help her learn to ride a two-wheeler faster down the line. (Don't forget a helmet!)\n",
              "*   **Scooter:** A three-wheeled scooter is a fantastic way to develop balance and gross motor skills.\n",
              "*   **Sand & Water Table:** Perfect for backyard fun, encouraging sensory play and imaginative scenarios.\n",
              "*   **Bubble Machine:** Simple, inexpensive fun that always brings joy!\n",
              "\n",
              "**5. Educational & Learning:**\n",
              "*   **Chunky Puzzles:** Look for puzzles with 10-20 pieces that have large, easy-to-grasp knobs or pieces.\n",
              "*   **Sorting & Stacking Toys:** These help with color recognition, shape identification, and fine motor skills.\n",
              "*   **Age-Appropriate Board Games:** Simple games like \"Hoot Owl Hoot!\" or \"Candy Land\" can teach turn-taking and basic rules.\n",
              "*   **Interactive Books:** Books with lift-the-flaps, textures, or sound buttons are very engaging.\n",
              "\n",
              "**6. Books:**\n",
              "*   **Picture Books:** Three-year-olds love engaging stories with colorful illustrations. Classics like \"The Very Hungry Caterpillar,\" \"Brown Bear, Brown Bear, What Do You See?\", or newer popular series are great.\n",
              "*   **Personalized Books:** A book where she is the star of the story can be a truly special gift.\n",
              "\n",
              "**Pro-Tip:**\n",
              "Consider what she already has, what her specific interests are (Does she love animals? Trucks? Princesses?), and what kind of play her parents encourage. Sometimes, a gift that fosters open-ended play (like blocks or art supplies) gets the most mileage!\n",
              "\n",
              "Happy shopping!\"\"\"\n",
              "    ),\n",
              "  ],\n",
              "  role='model'\n",
              "), author='Generic_QA_Agent', timestamp='2025-10-21T17:47:17.146018'), MemoryEntry(content=Content(\n",
              "  parts=[\n",
              "    Part(\n",
              "      text='I like the idea of a bike. Are there any age appropriate options?'\n",
              "    ),\n",
              "  ],\n",
              "  role='user'\n",
              "), author='user', timestamp='2025-10-21T17:47:27.790139'), MemoryEntry(content=Content(\n",
              "  parts=[\n",
              "    Part(\n",
              "      text=\"\"\"Yes, absolutely! A bike can be a fantastic gift for a three-year-old, encouraging outdoor play, developing motor skills, and building confidence. For this age group, the focus is usually on **learning fundamentals** and **safety**.\n",
              "\n",
              "Here are the most age-appropriate options:\n",
              "\n",
              "1.  **Balance Bikes (Highly Recommended)**\n",
              "    *   **What it is:** A two-wheeled bike without pedals or training wheels. Kids propel themselves by pushing off the ground with their feet.\n",
              "    *   **Why it's great for 3-year-olds:** This is often the *best* option for learning to ride a bike. It teaches children the most crucial skill first: **balance**. They learn to steer, lean into turns, and control their speed using their feet.\n",
              "    *   **Benefits:**\n",
              "        *   **Teaches Balance First:** This makes the transition to a pedal bike much easier and faster later on.\n",
              "        *   **Builds Confidence:** Kids feel in control because their feet are always on the ground.\n",
              "        *   **Develops Coordination:** Enhances gross motor skills and spatial awareness.\n",
              "        *   **Lightweight:** Easier for small children to handle and maneuver.\n",
              "    *   **What to look for:**\n",
              "        *   **Adjustable Seat Height:** Crucial so your niece can comfortably place her feet flat on the ground with a slight bend in her knees when sitting.\n",
              "        *   **Lightweight Frame:** Makes it easier for her to handle.\n",
              "        *   **Footrests:** Some have small platforms for kids to rest their feet once they're gliding.\n",
              "    *   **Example Brands:** Strider, Woom, Cruzee, Joovy.\n",
              "\n",
              "2.  **Tricycles**\n",
              "    *   **What it is:** A three-wheeled cycle with pedals.\n",
              "    *   **Why it's great for 3-year-olds:** Tricycles offer excellent stability, making them a good choice for kids who are just starting to understand the concept of pedaling.\n",
              "    *   **Benefits:**\n",
              "        *   **Very Stable:** No balance required, reducing the risk of tipping.\n",
              "        *   **Introduces Pedaling:** Helps children learn the motion of pedaling without the added challenge of balancing.\n",
              "        *   **Easy to Get On/Off:** Low center of gravity.\n",
              "    *   **Considerations:**\n",
              "        *   **Doesn't Teach Balance:** Children will still need to learn balance separately if they transition to a two-wheeled pedal bike later.\n",
              "        *   **Can Be Outgrown Quickly:** Some children master pedaling quickly and then might get bored if they don't have the challenge of balancing.\n",
              "        *   **Turning Radius:** Can be wider than a balance bike, making tight turns harder.\n",
              "    *   **Variations:** Some tricycles come with a parent push-handle, which can be great for walks where she might get tired, allowing you to push her.\n",
              "\n",
              "3.  **Three-Wheeled Scooters (While not a bike, they're often considered for similar active play)**\n",
              "    *   **What it is:** A scooter with two wheels at the front and one at the back (or vice-versa) for added stability.\n",
              "    *   **Why it's great for 3-year-olds:** It's another fantastic way to develop balance, coordination, and gross motor skills in a fun and less intimidating way than a two-wheeled bike.\n",
              "    *   **Benefits:**\n",
              "        *   **Stability:** The three-wheel design provides excellent balance.\n",
              "        *   **Easy to Learn:** Kids can often pick up scooting very quickly.\n",
              "        *   **Develops Core Strength & Balance:** Through leaning to steer.\n",
              "        *   **Fun & Active:** Great for outdoor energy release.\n",
              "    *   **What to look for:**\n",
              "        *   **Adjustable Handlebar Height:** To grow with her.\n",
              "        *   **Lean-to-Steer Mechanism:** This is often easier for young children than handlebar steering.\n",
              "        *   **Durable Wheels:** For a smooth ride.\n",
              "    *   **Example Brands:** Micro Kickboard Mini Deluxe, Globber.\n",
              "\n",
              "**Less Ideal (but possible with caveats) for a 3-year-old:**\n",
              "\n",
              "*   **Pedal Bikes with Training Wheels:** While many kids start with these, they are generally **less recommended for 3-year-olds** for several reasons:\n",
              "    *   **Weight:** They are often quite heavy for a small child.\n",
              "    *   **Teaches Incorrect Balance:** Training wheels actually prevent children from learning true balance because they lean *away* from the training wheel when turning, which is the opposite of how you balance on a two-wheeled bike.\n",
              "    *   **Frustration:** It can be hard for a 3-year-old to coordinate pedaling, steering, and braking all at once. If you go this route, look for the smallest wheel size (usually 12 inches) and a very lightweight frame.\n",
              "\n",
              "**Key Safety Considerations for ANY Option:**\n",
              "\n",
              "*   **Helmet:** This is non-negotiable. Always get a well-fitting helmet and ensure she wears it every time she rides.\n",
              "*   **Proper Fit:** Ensure her feet can comfortably reach the ground or pedals.\n",
              "*   **Supervision:** Always supervise her while she's riding.\n",
              "*   **Safe Riding Area:** Start in a flat, open, traffic-free area like a park path or driveway.\n",
              "\n",
              "For a three-year-old, a **balance bike** is usually the most empowering and effective way to introduce her to the joy of two-wheeled riding, setting her up for a quick transition to a pedal bike when she's ready.\"\"\"\n",
              "    ),\n",
              "  ],\n",
              "  role='model'\n",
              "), author='Generic_QA_Agent', timestamp='2025-10-21T17:47:27.790866')])"
            ]
          },
          "metadata": {},
          "execution_count": 14
        }
      ],
      "source": [
        "await in_memory_service.search_memory(\n",
        "    app_name=APP_NAME,\n",
        "    user_id=USER_ID,\n",
        "    query=\"what should I get my mom for mother's day\",\n",
        ")"
      ]
    },
    {
      "cell_type": "markdown",
      "metadata": {
        "id": "j8d9R6NMUgyw"
      },
      "source": [
        "### Memory Bank via `VertexAiMemoryBankService`\n",
        "\n",
        "Now, let's use Memory Bank to generate and store memories. Unlike `InMemoryMemoryService`, only content that's meaningful interactions will be persisted. If there's no meaningful content, the `add_session_to_memory` call will be a no-op; memories are not generated.\n",
        "\n",
        "Memory generation happens in the background. It's a non-blocking operation, so `add_session_to_memory` may complete before memories are actually generated in the background. If you want memory generation to be a blocking operation, use the Agent Engine SDK:\n",
        "\n",
        "```\n",
        "client.agent_engines.memories.generate(\n",
        "    ...,\n",
        "    config={\n",
        "        # Default value is True.\n",
        "        \"wait_for_completion\": True\n",
        "    }\n",
        ")\n",
        "```\n",
        "\n",
        "There are two key operations that Memory Bank performs under-the-hood with memory generation:\n",
        "\n",
        "* **Extraction**: Extracts information about the user from their conversations with the agent. Only information that matches at least one of your instance's memory topics will be persisted.\n",
        "* **Consolidation**: Identifies if existing memories with the same scope should be deleted or updated based on the extracted information. Memory Bank checks that new memories are not duplicative or contradictory before merging them with existing memories. If existing memories don't overlap with the new information, a new memory will be created."
      ]
    },
    {
      "cell_type": "markdown",
      "metadata": {
        "id": "HzYBHoUNSZKn"
      },
      "source": [
        "#### ADK `add_session_to_memory`"
      ]
    },
    {
      "cell_type": "code",
      "execution_count": 15,
      "metadata": {
        "colab": {
          "base_uri": "https://localhost:8080/"
        },
        "id": "ytzu349cBdW6",
        "outputId": "3d135cb3-e5ff-4f12-ce46-7a70f1fdd252"
      },
      "outputs": [
        {
          "output_type": "stream",
          "name": "stderr",
          "text": [
            "INFO:google_adk.google.adk.memory.vertex_ai_memory_bank_service:Generate memory response received.\n",
            "DEBUG:google_adk.google.adk.memory.vertex_ai_memory_bank_service:Generate memory response: name='projects/507092439621/locations/us-central1/reasoningEngines/241140492157321216/operations/3716771325369384960' metadata={'@type': 'type.googleapis.com/google.cloud.aiplatform.v1beta1.GenerateMemoriesOperationMetadata', 'genericMetadata': {'createTime': '2025-10-21T17:49:07.739569Z', 'updateTime': '2025-10-21T17:49:07.739569Z'}} done=None error=None response=None\n",
            "INFO:google_adk.google.adk.memory.vertex_ai_memory_bank_service:Generate memory response received.\n",
            "DEBUG:google_adk.google.adk.memory.vertex_ai_memory_bank_service:Generate memory response: name='projects/507092439621/locations/us-central1/reasoningEngines/241140492157321216/operations/8310442945287290880' metadata={'@type': 'type.googleapis.com/google.cloud.aiplatform.v1beta1.GenerateMemoriesOperationMetadata', 'genericMetadata': {'createTime': '2025-10-21T17:49:08.555357Z', 'updateTime': '2025-10-21T17:49:08.555357Z'}} done=None error=None response=None\n"
          ]
        }
      ],
      "source": [
        "await memory_bank_service.add_session_to_memory(chit_chat_session)\n",
        "await memory_bank_service.add_session_to_memory(recommendations_session)"
      ]
    },
    {
      "cell_type": "markdown",
      "metadata": {
        "id": "E3ihzck53quZ"
      },
      "source": [
        "If you run this immediately after `add_session_to_memory`, there may be no memories printed. `add_session_to_memory` is a non-blocking function and memory generation can take a few seconds to run."
      ]
    },
    {
      "cell_type": "code",
      "execution_count": 16,
      "metadata": {
        "colab": {
          "base_uri": "https://localhost:8080/"
        },
        "id": "3emdHmGhBtMd",
        "outputId": "0624d6f9-7d98-456b-f18b-6566b27a60ee"
      },
      "outputs": [
        {
          "output_type": "stream",
          "name": "stderr",
          "text": [
            "INFO:google_adk.google.adk.memory.vertex_ai_memory_bank_service:Search memory response received.\n",
            "DEBUG:google_adk.google.adk.memory.vertex_ai_memory_bank_service:Retrieved memory: distance=0.9339746950956977 memory=Memory(\n",
            "  create_time=datetime.datetime(2025, 10, 21, 17, 49, 10, 801749, tzinfo=TzInfo(UTC)),\n",
            "  fact='I am looking for birthday present recommendations for my three-year-old niece.',\n",
            "  name='projects/507092439621/locations/us-central1/reasoningEngines/241140492157321216/memories/7415365352709685248',\n",
            "  scope={\n",
            "    'app_name': 'memory_example_app',\n",
            "    'user_id': 'My User'\n",
            "  },\n",
            "  update_time=datetime.datetime(2025, 10, 21, 17, 49, 10, 801749, tzinfo=TzInfo(UTC))\n",
            ")\n",
            "DEBUG:google_adk.google.adk.memory.vertex_ai_memory_bank_service:Retrieved memory: distance=0.9903799096779854 memory=Memory(\n",
            "  create_time=datetime.datetime(2025, 10, 21, 17, 49, 10, 797140, tzinfo=TzInfo(UTC)),\n",
            "  fact='I like the idea of a bike as a birthday present for my three-year-old niece.',\n",
            "  name='projects/507092439621/locations/us-central1/reasoningEngines/241140492157321216/memories/2803679334282297344',\n",
            "  scope={\n",
            "    'app_name': 'memory_example_app',\n",
            "    'user_id': 'My User'\n",
            "  },\n",
            "  update_time=datetime.datetime(2025, 10, 21, 17, 49, 10, 797140, tzinfo=TzInfo(UTC))\n",
            ")\n",
            "DEBUG:google_adk.google.adk.memory.vertex_ai_memory_bank_service:Retrieved memory: distance=1.0594453096266772 memory=Memory(\n",
            "  create_time=datetime.datetime(2025, 10, 21, 17, 49, 10, 796991, tzinfo=TzInfo(UTC)),\n",
            "  fact='I have a three-year-old niece.',\n",
            "  name='projects/507092439621/locations/us-central1/reasoningEngines/241140492157321216/memories/5109522343495991296',\n",
            "  scope={\n",
            "    'app_name': 'memory_example_app',\n",
            "    'user_id': 'My User'\n",
            "  },\n",
            "  update_time=datetime.datetime(2025, 10, 21, 17, 49, 10, 796991, tzinfo=TzInfo(UTC))\n",
            ")\n"
          ]
        },
        {
          "output_type": "execute_result",
          "data": {
            "text/plain": [
              "SearchMemoryResponse(memories=[MemoryEntry(content=Content(\n",
              "  parts=[\n",
              "    Part(\n",
              "      text='I am looking for birthday present recommendations for my three-year-old niece.'\n",
              "    ),\n",
              "  ],\n",
              "  role='user'\n",
              "), author='user', timestamp='2025-10-21T17:49:10.801749+00:00'), MemoryEntry(content=Content(\n",
              "  parts=[\n",
              "    Part(\n",
              "      text='I like the idea of a bike as a birthday present for my three-year-old niece.'\n",
              "    ),\n",
              "  ],\n",
              "  role='user'\n",
              "), author='user', timestamp='2025-10-21T17:49:10.797140+00:00'), MemoryEntry(content=Content(\n",
              "  parts=[\n",
              "    Part(\n",
              "      text='I have a three-year-old niece.'\n",
              "    ),\n",
              "  ],\n",
              "  role='user'\n",
              "), author='user', timestamp='2025-10-21T17:49:10.796991+00:00')])"
            ]
          },
          "metadata": {},
          "execution_count": 16
        }
      ],
      "source": [
        "await memory_bank_service.search_memory(\n",
        "    app_name=APP_NAME,\n",
        "    user_id=USER_ID,\n",
        "    query=\"What should I get my mom for mother's day\",\n",
        ")"
      ]
    },
    {
      "cell_type": "markdown",
      "metadata": {
        "id": "DtdqszuOUyJ0"
      },
      "source": [
        "#### Agent Engine SDK `GenerateMemories`\n",
        "\n",
        "If I want to interact directly with Memory Bank, I can use the Agent Engine SDK. For example, I can use [`RetrieveMemories`](https://cloud.google.com/vertex-ai/generative-ai/docs/agent-engine/memory-bank/fetch-memories#scope-based) to retrieve my memories with or without similarity search.\n",
        "\n",
        "Memories are isolated by their `scope`, which is an arbitrary dictionary. `VertexAiMemoryBankService` uses the scope keys `app_name` and `user_id`. `app_name` is set by your Runner, and `user_id` is set when creating your `Session`."
      ]
    },
    {
      "cell_type": "code",
      "execution_count": 17,
      "metadata": {
        "colab": {
          "base_uri": "https://localhost:8080/"
        },
        "id": "xXxDASPUG3OK",
        "outputId": "d0b5f3e5-4834-43e9-fc1b-ef7f9899618a"
      },
      "outputs": [
        {
          "output_type": "execute_result",
          "data": {
            "text/plain": [
              "[RetrieveMemoriesResponseRetrievedMemory(\n",
              "   memory=Memory(\n",
              "     create_time=datetime.datetime(2025, 10, 21, 17, 49, 10, 796991, tzinfo=TzInfo(UTC)),\n",
              "     fact='I have a three-year-old niece.',\n",
              "     name='projects/507092439621/locations/us-central1/reasoningEngines/241140492157321216/memories/5109522343495991296',\n",
              "     scope={\n",
              "       'app_name': 'memory_example_app',\n",
              "       'user_id': 'My User'\n",
              "     },\n",
              "     update_time=datetime.datetime(2025, 10, 21, 17, 49, 10, 796991, tzinfo=TzInfo(UTC))\n",
              "   )\n",
              " ),\n",
              " RetrieveMemoriesResponseRetrievedMemory(\n",
              "   memory=Memory(\n",
              "     create_time=datetime.datetime(2025, 10, 21, 17, 49, 10, 797140, tzinfo=TzInfo(UTC)),\n",
              "     fact='I like the idea of a bike as a birthday present for my three-year-old niece.',\n",
              "     name='projects/507092439621/locations/us-central1/reasoningEngines/241140492157321216/memories/2803679334282297344',\n",
              "     scope={\n",
              "       'app_name': 'memory_example_app',\n",
              "       'user_id': 'My User'\n",
              "     },\n",
              "     update_time=datetime.datetime(2025, 10, 21, 17, 49, 10, 797140, tzinfo=TzInfo(UTC))\n",
              "   )\n",
              " ),\n",
              " RetrieveMemoriesResponseRetrievedMemory(\n",
              "   memory=Memory(\n",
              "     create_time=datetime.datetime(2025, 10, 21, 17, 49, 10, 801749, tzinfo=TzInfo(UTC)),\n",
              "     fact='I am looking for birthday present recommendations for my three-year-old niece.',\n",
              "     name='projects/507092439621/locations/us-central1/reasoningEngines/241140492157321216/memories/7415365352709685248',\n",
              "     scope={\n",
              "       'app_name': 'memory_example_app',\n",
              "       'user_id': 'My User'\n",
              "     },\n",
              "     update_time=datetime.datetime(2025, 10, 21, 17, 49, 10, 801749, tzinfo=TzInfo(UTC))\n",
              "   )\n",
              " )]"
            ]
          },
          "metadata": {},
          "execution_count": 17
        }
      ],
      "source": [
        "response = client.agent_engines.memories.retrieve(\n",
        "    name=agent_engine.api_resource.name,\n",
        "    scope={\"app_name\": APP_NAME,\n",
        "           \"user_id\": USER_ID},\n",
        ")\n",
        "list(response)"
      ]
    },
    {
      "cell_type": "markdown",
      "metadata": {
        "id": "E-KVnoBHV1G5"
      },
      "source": [
        "You can also use `Retrievememories` to retrieve memories using similarity search."
      ]
    },
    {
      "cell_type": "code",
      "execution_count": 18,
      "metadata": {
        "colab": {
          "base_uri": "https://localhost:8080/"
        },
        "id": "uwH2UgOZVs36",
        "outputId": "15b35be3-2bfe-4850-b358-4a0aa8e674dc"
      },
      "outputs": [
        {
          "output_type": "execute_result",
          "data": {
            "text/plain": [
              "[RetrieveMemoriesResponseRetrievedMemory(\n",
              "   distance=0.5668985003612532,\n",
              "   memory=Memory(\n",
              "     create_time=datetime.datetime(2025, 10, 21, 17, 49, 10, 801749, tzinfo=TzInfo(UTC)),\n",
              "     fact='I am looking for birthday present recommendations for my three-year-old niece.',\n",
              "     name='projects/507092439621/locations/us-central1/reasoningEngines/241140492157321216/memories/7415365352709685248',\n",
              "     scope={\n",
              "       'app_name': 'memory_example_app',\n",
              "       'user_id': 'My User'\n",
              "     },\n",
              "     update_time=datetime.datetime(2025, 10, 21, 17, 49, 10, 801749, tzinfo=TzInfo(UTC))\n",
              "   )\n",
              " ),\n",
              " RetrieveMemoriesResponseRetrievedMemory(\n",
              "   distance=0.7347648884243799,\n",
              "   memory=Memory(\n",
              "     create_time=datetime.datetime(2025, 10, 21, 17, 49, 10, 796991, tzinfo=TzInfo(UTC)),\n",
              "     fact='I have a three-year-old niece.',\n",
              "     name='projects/507092439621/locations/us-central1/reasoningEngines/241140492157321216/memories/5109522343495991296',\n",
              "     scope={\n",
              "       'app_name': 'memory_example_app',\n",
              "       'user_id': 'My User'\n",
              "     },\n",
              "     update_time=datetime.datetime(2025, 10, 21, 17, 49, 10, 796991, tzinfo=TzInfo(UTC))\n",
              "   )\n",
              " ),\n",
              " RetrieveMemoriesResponseRetrievedMemory(\n",
              "   distance=0.7411591884958338,\n",
              "   memory=Memory(\n",
              "     create_time=datetime.datetime(2025, 10, 21, 17, 49, 10, 797140, tzinfo=TzInfo(UTC)),\n",
              "     fact='I like the idea of a bike as a birthday present for my three-year-old niece.',\n",
              "     name='projects/507092439621/locations/us-central1/reasoningEngines/241140492157321216/memories/2803679334282297344',\n",
              "     scope={\n",
              "       'app_name': 'memory_example_app',\n",
              "       'user_id': 'My User'\n",
              "     },\n",
              "     update_time=datetime.datetime(2025, 10, 21, 17, 49, 10, 797140, tzinfo=TzInfo(UTC))\n",
              "   )\n",
              " )]"
            ]
          },
          "metadata": {},
          "execution_count": 18
        }
      ],
      "source": [
        "response = client.agent_engines.memories.retrieve(\n",
        "    name=agent_engine.api_resource.name,\n",
        "    scope={\"app_name\": APP_NAME, \"user_id\": USER_ID},\n",
        "    similarity_search_params={\n",
        "        \"search_query\": \"what should I get my niece for her birthday?\"\n",
        "    },\n",
        ")\n",
        "list(response)"
      ]
    },
    {
      "cell_type": "markdown",
      "metadata": {
        "id": "QWWmfmn7XHNf"
      },
      "source": [
        "Memory Bank uses a process called \"consolidation\" to ensure that we do not upload duplicative or contradictory information for the same scope."
      ]
    },
    {
      "cell_type": "code",
      "execution_count": 19,
      "metadata": {
        "colab": {
          "base_uri": "https://localhost:8080/"
        },
        "id": "gyHYYlxIXGKQ",
        "outputId": "74ff213d-c223-4388-e7db-5b74c242e817"
      },
      "outputs": [
        {
          "output_type": "stream",
          "name": "stdout",
          "text": [
            "***OPERATION RESPONSE***\n",
            "AgentEngineGenerateMemoriesOperation(\n",
            "  done=True,\n",
            "  metadata={\n",
            "    '@type': 'type.googleapis.com/google.cloud.aiplatform.v1beta1.GenerateMemoriesOperationMetadata',\n",
            "    'genericMetadata': {\n",
            "      'createTime': '2025-10-21T17:49:38.547396Z',\n",
            "      'updateTime': '2025-10-21T17:49:43.251717Z'\n",
            "    }\n",
            "  },\n",
            "  name='projects/507092439621/locations/us-central1/reasoningEngines/241140492157321216/operations/7842068584040759296',\n",
            "  response=GenerateMemoriesResponse(\n",
            "    generated_memories=[\n",
            "      GenerateMemoriesResponseGeneratedMemory(\n",
            "        action=<GenerateMemoriesResponseGeneratedMemoryAction.UPDATED: 'UPDATED'>,\n",
            "        memory=Memory(\n",
            "          name='projects/507092439621/locations/us-central1/reasoningEngines/241140492157321216/memories/2803679334282297344'\n",
            "        )\n",
            "      ),\n",
            "    ]\n",
            "  )\n",
            ")\n",
            "\n",
            "***GENERATED MEMORIES***\n",
            "Memory(\n",
            "  create_time=datetime.datetime(2025, 10, 21, 17, 49, 10, 797140, tzinfo=TzInfo(UTC)),\n",
            "  fact='I like the idea of getting my niece a bike for her third birthday.',\n",
            "  name='projects/507092439621/locations/us-central1/reasoningEngines/241140492157321216/memories/2803679334282297344',\n",
            "  scope={\n",
            "    'app_name': 'memory_example_app',\n",
            "    'user_id': 'My User'\n",
            "  },\n",
            "  update_time=datetime.datetime(2025, 10, 21, 17, 49, 43, 161671, tzinfo=TzInfo(UTC))\n",
            ")\n"
          ]
        }
      ],
      "source": [
        "import pprint\n",
        "\n",
        "operation = client.agent_engines.memories.generate(\n",
        "    name=agent_engine.api_resource.name,\n",
        "    scope={\"app_name\": APP_NAME, \"user_id\": USER_ID},\n",
        "    direct_contents_source={\n",
        "        \"events\": [\n",
        "            {\n",
        "                \"content\": {\n",
        "                    \"role\": \"user\",\n",
        "                    \"parts\": [\n",
        "                        {\n",
        "                            \"text\": \"I like the idea of getting my niece a bike for her third birthday\"\n",
        "                        }\n",
        "                    ],\n",
        "                }\n",
        "            }\n",
        "        ]\n",
        "    },\n",
        ")\n",
        "print(\"***OPERATION RESPONSE***\")\n",
        "pprint.pprint(operation)\n",
        "\n",
        "print(\"\\n***GENERATED MEMORIES***\")\n",
        "for generated_memory in operation.response.generated_memories:\n",
        "    pprint.pprint(client.agent_engines.memories.get(name=generated_memory.memory.name))"
      ]
    },
    {
      "cell_type": "markdown",
      "metadata": {
        "id": "FUAJRM8pYiNj"
      },
      "source": [
        "What if your agent extracted memories that you want to combine with your existing memories? You can also use `GenerateMemories` to consolidate pre-extracted facts for the same scope [documenation](https://cloud.google.com/vertex-ai/generative-ai/docs/agent-engine/memory-bank/generate-memories#consolidate-pre-extracted-memories).\n",
        "\n",
        "Memory Bank already contains memories on this topic. So, the relevant existing memories will be updated rather than creating a new, duplicative memory."
      ]
    },
    {
      "cell_type": "code",
      "execution_count": 20,
      "metadata": {
        "colab": {
          "base_uri": "https://localhost:8080/"
        },
        "id": "hVaFGo7RY0zE",
        "outputId": "82a6aa01-73d8-42a5-9117-f90dcc7eff97"
      },
      "outputs": [
        {
          "output_type": "stream",
          "name": "stdout",
          "text": [
            "***OPERATION RESPONSE***\n",
            "AgentEngineGenerateMemoriesOperation(\n",
            "  done=True,\n",
            "  metadata={\n",
            "    '@type': 'type.googleapis.com/google.cloud.aiplatform.v1beta1.GenerateMemoriesOperationMetadata',\n",
            "    'genericMetadata': {\n",
            "      'createTime': '2025-10-21T17:49:47.652179Z',\n",
            "      'updateTime': '2025-10-21T17:49:56.564816Z'\n",
            "    }\n",
            "  },\n",
            "  name='projects/507092439621/locations/us-central1/reasoningEngines/241140492157321216/operations/2897116193187954688',\n",
            "  response=GenerateMemoriesResponse(\n",
            "    generated_memories=[\n",
            "      GenerateMemoriesResponseGeneratedMemory(\n",
            "        action=<GenerateMemoriesResponseGeneratedMemoryAction.CREATED: 'CREATED'>,\n",
            "        memory=Memory(\n",
            "          name='projects/507092439621/locations/us-central1/reasoningEngines/241140492157321216/memories/7865725315446734848'\n",
            "        )\n",
            "      ),\n",
            "      GenerateMemoriesResponseGeneratedMemory(\n",
            "        action=<GenerateMemoriesResponseGeneratedMemoryAction.DELETED: 'DELETED'>,\n",
            "        memory=Memory(\n",
            "          name='projects/507092439621/locations/us-central1/reasoningEngines/241140492157321216/memories/2803679334282297344'\n",
            "        )\n",
            "      ),\n",
            "      GenerateMemoriesResponseGeneratedMemory(\n",
            "        action=<GenerateMemoriesResponseGeneratedMemoryAction.DELETED: 'DELETED'>,\n",
            "        memory=Memory(\n",
            "          name='projects/507092439621/locations/us-central1/reasoningEngines/241140492157321216/memories/7415365352709685248'\n",
            "        )\n",
            "      ),\n",
            "    ]\n",
            "  )\n",
            ")\n",
            "\n",
            "***GENERATED MEMORIES***\n",
            "Memory(\n",
            "  create_time=datetime.datetime(2025, 10, 21, 17, 49, 56, 485525, tzinfo=TzInfo(UTC)),\n",
            "  fact='I got my niece a red bike.',\n",
            "  name='projects/507092439621/locations/us-central1/reasoningEngines/241140492157321216/memories/7865725315446734848',\n",
            "  scope={\n",
            "    'app_name': 'memory_example_app',\n",
            "    'user_id': 'My User'\n",
            "  },\n",
            "  update_time=datetime.datetime(2025, 10, 21, 17, 49, 56, 485525, tzinfo=TzInfo(UTC))\n",
            ")\n"
          ]
        }
      ],
      "source": [
        "operation = client.agent_engines.memories.generate(\n",
        "    name=agent_engine.api_resource.name,\n",
        "    scope={\"app_name\": APP_NAME, \"user_id\": USER_ID},\n",
        "    direct_memories_source={\"direct_memories\": [{\"fact\": \"I got my niece a red bike\"}]},\n",
        ")\n",
        "\n",
        "print(\"***OPERATION RESPONSE***\")\n",
        "pprint.pprint(operation)\n",
        "\n",
        "print(\"\\n***GENERATED MEMORIES***\")\n",
        "for generated_memory in operation.response.generated_memories:\n",
        "    if generated_memory.action != \"DELETED\":\n",
        "        pprint.pprint(\n",
        "            client.agent_engines.memories.get(name=generated_memory.memory.name)\n",
        "        )"
      ]
    },
    {
      "cell_type": "markdown",
      "metadata": {
        "id": "Ql9iDjUO5Mxb"
      },
      "source": [
        "#### Automate with Callbacks\n",
        "\n",
        "To automate the triggering of memory generation, you can implement a callback to generate memories after every turn. See the [`Remember this: Agent state and memory with ADK` blog post](https://cloud.google.com/blog/topics/developers-practitioners/remember-this-agent-state-and-memory-with-adk) for more information."
      ]
    },
    {
      "cell_type": "code",
      "execution_count": 21,
      "metadata": {
        "id": "sq4QSggUAuLu"
      },
      "outputs": [],
      "source": [
        "from google import adk\n",
        "\n",
        "\n",
        "async def auto_save_session_to_memory_callback(callback_context):\n",
        "    # Use the invocation context to access the conversation history that should\n",
        "    # be used as the data source for memory generation.\n",
        "    await memory_bank_service.add_session_to_memory(\n",
        "        callback_context._invocation_context.session\n",
        "    )\n",
        "    print(\"\\n****Triggered memory generation****\\n\")\n",
        "\n",
        "\n",
        "agent = LlmAgent(\n",
        "    model=MODEL,\n",
        "    name=\"Generic_QA_Agent\",\n",
        "    instruction=\"Answer the user's questions\",\n",
        "    tools=[adk.tools.preload_memory_tool.PreloadMemoryTool()],\n",
        "    after_agent_callback=auto_save_session_to_memory_callback,\n",
        ")\n",
        "\n",
        "runner = Runner(\n",
        "    agent=agent,\n",
        "    app_name=APP_NAME,\n",
        "    session_service=session_service,\n",
        "    memory_service=memory_bank_service,\n",
        ")"
      ]
    },
    {
      "cell_type": "code",
      "execution_count": 22,
      "metadata": {
        "colab": {
          "base_uri": "https://localhost:8080/"
        },
        "id": "o-oU37SyA5J7",
        "outputId": "e56540f3-908e-40f8-8d3b-9bf6f919838d"
      },
      "outputs": [
        {
          "output_type": "stream",
          "name": "stderr",
          "text": [
            "INFO:google_adk.google.adk.memory.vertex_ai_memory_bank_service:Search memory response received.\n",
            "DEBUG:google_adk.google.adk.memory.vertex_ai_memory_bank_service:Retrieved memory: distance=0.8091518668940462 memory=Memory(\n",
            "  create_time=datetime.datetime(2025, 10, 21, 17, 49, 10, 796991, tzinfo=TzInfo(UTC)),\n",
            "  fact='I have a three-year-old niece.',\n",
            "  name='projects/507092439621/locations/us-central1/reasoningEngines/241140492157321216/memories/5109522343495991296',\n",
            "  scope={\n",
            "    'app_name': 'memory_example_app',\n",
            "    'user_id': 'My User'\n",
            "  },\n",
            "  update_time=datetime.datetime(2025, 10, 21, 17, 49, 10, 796991, tzinfo=TzInfo(UTC))\n",
            ")\n",
            "DEBUG:google_adk.google.adk.memory.vertex_ai_memory_bank_service:Retrieved memory: distance=0.8478242206712423 memory=Memory(\n",
            "  create_time=datetime.datetime(2025, 10, 21, 17, 49, 56, 485525, tzinfo=TzInfo(UTC)),\n",
            "  fact='I got my niece a red bike.',\n",
            "  name='projects/507092439621/locations/us-central1/reasoningEngines/241140492157321216/memories/7865725315446734848',\n",
            "  scope={\n",
            "    'app_name': 'memory_example_app',\n",
            "    'user_id': 'My User'\n",
            "  },\n",
            "  update_time=datetime.datetime(2025, 10, 21, 17, 49, 56, 485525, tzinfo=TzInfo(UTC))\n",
            ")\n",
            "INFO:google_adk.google.adk.models.google_llm:Sending out request, model: gemini-2.5-flash, backend: GoogleLLMVariant.VERTEX_AI, stream: False\n",
            "DEBUG:google_adk.google.adk.models.google_llm:\n",
            "LLM Request:\n",
            "-----------------------------------------------------------\n",
            "System Instruction:\n",
            "Answer the user's questions\n",
            "\n",
            "You are an agent. Your internal name is \"Generic_QA_Agent\".\n",
            "\n",
            "The following content is from your previous conversations with the user.\n",
            "They may be useful for answering the user's current query.\n",
            "<PAST_CONVERSATIONS>\n",
            "Time: 2025-10-21T17:49:10.796991+00:00\n",
            "user: I have a three-year-old niece.\n",
            "Time: 2025-10-21T17:49:56.485525+00:00\n",
            "user: I got my niece a red bike.\n",
            "</PAST_CONVERSATIONS>\n",
            "\n",
            "-----------------------------------------------------------\n",
            "Contents:\n",
            "{\"parts\":[{\"text\":\"What christmas present recommendations do you have for my niece?\"}],\"role\":\"user\"}\n",
            "-----------------------------------------------------------\n",
            "Functions:\n",
            "\n",
            "-----------------------------------------------------------\n",
            "\n",
            "INFO:google_adk.google.adk.models.google_llm:Response received from the model.\n",
            "DEBUG:google_adk.google.adk.models.google_llm:\n",
            "LLM Response:\n",
            "-----------------------------------------------------------\n",
            "Text:\n",
            "Since your niece is three years old and already has a red bike, here are some Christmas present recommendations that she might enjoy:\n",
            "\n",
            "1.  **Creative Art Supplies:** Washable crayons or markers, large paper, a coloring book with her favorite characters, or a Play-Doh set with various tools. These encourage creativity and fine motor skills.\n",
            "2.  **Imaginative Play:**\n",
            "    *   **Dress-up Clothes:** A princess gown, a superhero cape, or animal costumes can spark hours of imaginative play.\n",
            "    *   **Play Kitchen Set:** A small play kitchen with toy food and utensils can be a big hit for role-playing.\n",
            "    *   **Dollhouse or Animal Figures:** Simple, durable sets that encourage storytelling.\n",
            "3.  **Building Toys:** Large building blocks like LEGO Duplo or magnetic tiles are excellent for developing spatial reasoning and creativity.\n",
            "4.  **Picture Books:** A collection of engaging and colorful picture books. You could look for interactive books with flaps or textures.\n",
            "5.  **Age-Appropriate Puzzles or Games:** Simple wooden puzzles (12-24 pieces) or beginner board games like \"Candyland\" or \"Chutes and Ladders\" are great for developing problem-solving skills and teaching turn-taking.\n",
            "-----------------------------------------------------------\n",
            "Function calls:\n",
            "\n",
            "-----------------------------------------------------------\n",
            "Raw response:\n",
            "{\"sdk_http_response\":{\"headers\":{\"Content-Type\":\"application/json; charset=UTF-8\",\"Vary\":\"Origin, X-Origin, Referer\",\"Content-Encoding\":\"gzip\",\"Date\":\"Tue, 21 Oct 2025 17:50:13 GMT\",\"Server\":\"scaffolding on HTTPServer2\",\"X-XSS-Protection\":\"0\",\"X-Frame-Options\":\"SAMEORIGIN\",\"X-Content-Type-Options\":\"nosniff\",\"Transfer-Encoding\":\"chunked\"}},\"candidates\":[{\"content\":{\"parts\":[{\"text\":\"Since your niece is three years old and already has a red bike, here are some Christmas present recommendations that she might enjoy:\\n\\n1.  **Creative Art Supplies:** Washable crayons or markers, large paper, a coloring book with her favorite characters, or a Play-Doh set with various tools. These encourage creativity and fine motor skills.\\n2.  **Imaginative Play:**\\n    *   **Dress-up Clothes:** A princess gown, a superhero cape, or animal costumes can spark hours of imaginative play.\\n    *   **Play Kitchen Set:** A small play kitchen with toy food and utensils can be a big hit for role-playing.\\n    *   **Dollhouse or Animal Figures:** Simple, durable sets that encourage storytelling.\\n3.  **Building Toys:** Large building blocks like LEGO Duplo or magnetic tiles are excellent for developing spatial reasoning and creativity.\\n4.  **Picture Books:** A collection of engaging and colorful picture books. You could look for interactive books with flaps or textures.\\n5.  **Age-Appropriate Puzzles or Games:** Simple wooden puzzles (12-24 pieces) or beginner board games like \\\"Candyland\\\" or \\\"Chutes and Ladders\\\" are great for developing problem-solving skills and teaching turn-taking.\"}],\"role\":\"model\"},\"finish_reason\":\"STOP\",\"avg_logprobs\":-0.8303922455886315}],\"create_time\":\"2025-10-21T17:50:08.685785Z\",\"model_version\":\"gemini-2.5-flash\",\"response_id\":\"0Mf3aNntKbWemecP8pDV6A4\",\"usage_metadata\":{\"candidates_token_count\":261,\"candidates_tokens_details\":[{\"modality\":\"TEXT\",\"token_count\":261}],\"prompt_token_count\":174,\"prompt_tokens_details\":[{\"modality\":\"TEXT\",\"token_count\":174}],\"thoughts_token_count\":415,\"total_token_count\":850,\"traffic_type\":\"ON_DEMAND\"},\"automatic_function_calling_history\":[]}\n",
            "-----------------------------------------------------------\n",
            "\n"
          ]
        },
        {
          "output_type": "stream",
          "name": "stdout",
          "text": [
            "Agent Response:  Since your niece is three years old and already has a red bike, here are some Christmas present recommendations that she might enjoy:\n",
            "\n",
            "1.  **Creative Art Supplies:** Washable crayons or markers, large paper, a coloring book with her favorite characters, or a Play-Doh set with various tools. These encourage creativity and fine motor skills.\n",
            "2.  **Imaginative Play:**\n",
            "    *   **Dress-up Clothes:** A princess gown, a superhero cape, or animal costumes can spark hours of imaginative play.\n",
            "    *   **Play Kitchen Set:** A small play kitchen with toy food and utensils can be a big hit for role-playing.\n",
            "    *   **Dollhouse or Animal Figures:** Simple, durable sets that encourage storytelling.\n",
            "3.  **Building Toys:** Large building blocks like LEGO Duplo or magnetic tiles are excellent for developing spatial reasoning and creativity.\n",
            "4.  **Picture Books:** A collection of engaging and colorful picture books. You could look for interactive books with flaps or textures.\n",
            "5.  **Age-Appropriate Puzzles or Games:** Simple wooden puzzles (12-24 pieces) or beginner board games like \"Candyland\" or \"Chutes and Ladders\" are great for developing problem-solving skills and teaching turn-taking.\n"
          ]
        },
        {
          "output_type": "stream",
          "name": "stderr",
          "text": [
            "INFO:google_adk.google.adk.memory.vertex_ai_memory_bank_service:Generate memory response received.\n",
            "DEBUG:google_adk.google.adk.memory.vertex_ai_memory_bank_service:Generate memory response: name='projects/507092439621/locations/us-central1/reasoningEngines/241140492157321216/operations/7076456647387774976' metadata={'@type': 'type.googleapis.com/google.cloud.aiplatform.v1beta1.GenerateMemoriesOperationMetadata', 'genericMetadata': {'createTime': '2025-10-21T17:50:13.982465Z', 'updateTime': '2025-10-21T17:50:13.982465Z'}} done=None error=None response=None\n"
          ]
        },
        {
          "output_type": "stream",
          "name": "stdout",
          "text": [
            "\n",
            "****Triggered memory generation****\n",
            "\n"
          ]
        },
        {
          "output_type": "stream",
          "name": "stderr",
          "text": [
            "INFO:google_adk.google.adk.memory.vertex_ai_memory_bank_service:Search memory response received.\n",
            "DEBUG:google_adk.google.adk.memory.vertex_ai_memory_bank_service:Retrieved memory: distance=0.9376007979564559 memory=Memory(\n",
            "  create_time=datetime.datetime(2025, 10, 21, 17, 49, 10, 796991, tzinfo=TzInfo(UTC)),\n",
            "  fact='I have a three-year-old niece.',\n",
            "  name='projects/507092439621/locations/us-central1/reasoningEngines/241140492157321216/memories/5109522343495991296',\n",
            "  scope={\n",
            "    'app_name': 'memory_example_app',\n",
            "    'user_id': 'My User'\n",
            "  },\n",
            "  update_time=datetime.datetime(2025, 10, 21, 17, 49, 10, 796991, tzinfo=TzInfo(UTC))\n",
            ")\n",
            "DEBUG:google_adk.google.adk.memory.vertex_ai_memory_bank_service:Retrieved memory: distance=0.9480893672918641 memory=Memory(\n",
            "  create_time=datetime.datetime(2025, 10, 21, 17, 49, 56, 485525, tzinfo=TzInfo(UTC)),\n",
            "  fact='I got my niece a red bike.',\n",
            "  name='projects/507092439621/locations/us-central1/reasoningEngines/241140492157321216/memories/7865725315446734848',\n",
            "  scope={\n",
            "    'app_name': 'memory_example_app',\n",
            "    'user_id': 'My User'\n",
            "  },\n",
            "  update_time=datetime.datetime(2025, 10, 21, 17, 49, 56, 485525, tzinfo=TzInfo(UTC))\n",
            ")\n",
            "INFO:google_adk.google.adk.models.google_llm:Sending out request, model: gemini-2.5-flash, backend: GoogleLLMVariant.VERTEX_AI, stream: False\n",
            "DEBUG:google_adk.google.adk.models.google_llm:\n",
            "LLM Request:\n",
            "-----------------------------------------------------------\n",
            "System Instruction:\n",
            "Answer the user's questions\n",
            "\n",
            "You are an agent. Your internal name is \"Generic_QA_Agent\".\n",
            "\n",
            "The following content is from your previous conversations with the user.\n",
            "They may be useful for answering the user's current query.\n",
            "<PAST_CONVERSATIONS>\n",
            "Time: 2025-10-21T17:49:10.796991+00:00\n",
            "user: I have a three-year-old niece.\n",
            "Time: 2025-10-21T17:49:56.485525+00:00\n",
            "user: I got my niece a red bike.\n",
            "</PAST_CONVERSATIONS>\n",
            "\n",
            "-----------------------------------------------------------\n",
            "Contents:\n",
            "{\"parts\":[{\"text\":\"What christmas present recommendations do you have for my niece?\"}],\"role\":\"user\"}\n",
            "{\"parts\":[{\"text\":\"Since your niece is three years old and already has a red bike, here are some Christmas present recommendations that she might enjoy:\\n\\n1.  **Creative Art Supplies:** Washable crayons or markers, large paper, a coloring book with her favorite characters, or a Play-Doh set with various tools. These encourage creativity and fine motor skills.\\n2.  **Imaginative Play:**\\n    *   **Dress-up Clothes:** A princess gown, a superhero cape, or animal costumes can spark hours of imaginative play.\\n    *   **Play Kitchen Set:** A small play kitchen with toy food and utensils can be a big hit for role-playing.\\n    *   **Dollhouse or Animal Figures:** Simple, durable sets that encourage storytelling.\\n3.  **Building Toys:** Large building blocks like LEGO Duplo or magnetic tiles are excellent for developing spatial reasoning and creativity.\\n4.  **Picture Books:** A collection of engaging and colorful picture books. You could look for interactive books with flaps or textures.\\n5.  **Age-Appropriate Puzzles or Games:** Simple wooden puzzles (12-24 pieces) or beginner board games like \\\"Candyland\\\" or \\\"Chutes and Ladders\\\" are great for developing problem-solving skills and teaching turn-taking.\"}],\"role\":\"model\"}\n",
            "{\"parts\":[{\"text\":\"I think I'll get her a doll. What types are good for her age?\"}],\"role\":\"user\"}\n",
            "-----------------------------------------------------------\n",
            "Functions:\n",
            "\n",
            "-----------------------------------------------------------\n",
            "\n",
            "INFO:google_adk.google.adk.models.google_llm:Response received from the model.\n",
            "DEBUG:google_adk.google.adk.models.google_llm:\n",
            "LLM Response:\n",
            "-----------------------------------------------------------\n",
            "Text:\n",
            "That's a wonderful idea! Dolls are fantastic for fostering nurturing play, imagination, and social-emotional development in three-year-olds.\n",
            "\n",
            "Here are some types of dolls that are generally great for her age:\n",
            "\n",
            "1.  **Soft-Bodied Baby Dolls:** These are often a huge hit. They're perfect for cuddling, rocking, and mimicking parental care. Look for ones with soft bodies and gentle, un-stylable hair (or molded hair) that won't tangle easily. Many come with simple accessories like a bottle or a blanket.\n",
            "    *   **Why they're good:** Encourage empathy, role-playing, and are easy for small hands to hold and hug.\n",
            "\n",
            "2.  **Rag Dolls:** Classic and timeless, rag dolls are typically very soft, safe (no hard parts to worry about), and often have friendly, embroidered faces. They're durable and can withstand a lot of love and play.\n",
            "    *   **Why they're good:** Extremely huggable, safe, and often machine washable.\n",
            "\n",
            "3.  **Toddler-Sized Dolls (larger than baby dolls, smaller than American Girl):** These dolls are designed to look like slightly older children. They often have soft, brushable hair (but not too fine that it tangles instantly) and simple, removable clothing that's easy for little hands to manage, which helps with fine motor skills.\n",
            "    *   **Why they're good:** Encourage dressing and undressing, imaginative scenarios, and can become a loyal companion.\n",
            "\n",
            "4.  **Dolls with Diverse Appearances:** Consider a doll that reflects different skin tones, hair textures, or even those that come with hearing aids or glasses. This promotes inclusivity and helps children see themselves and others represented in their play.\n",
            "    *   **Why they're good:** Fosters understanding and acceptance of diversity from a young age.\n",
            "\n",
            "**Things to keep in mind when choosing:**\n",
            "\n",
            "*   **Size:** Not too small that parts could be a choking hazard (though for a 3-year-old, most standard play dolls are fine), and not too large that she can't easily carry and manipulate it.\n",
            "*   **Durability:** Three-year-olds can be tough on toys, so look for well-made dolls that can withstand being dropped, hugged tightly, and perhaps even cleaned.\n",
            "*   **Washability:** Life with a three-year-old often involves spills. A doll that can be wiped clean or even machine washed (check the label!) is a big plus.\n",
            "*   **Simple Features:** At this age, less is often more. Dolls with basic, sweet faces allow children to project their own emotions and stories onto them, rather than being limited by complex expressions or functions. Avoid dolls with many tiny, removable accessories that could get lost or pose a choking risk.\n",
            "\n",
            "A soft, huggable baby doll or a charming rag doll would likely be an absolute winner!\n",
            "-----------------------------------------------------------\n",
            "Function calls:\n",
            "\n",
            "-----------------------------------------------------------\n",
            "Raw response:\n",
            "{\"sdk_http_response\":{\"headers\":{\"Content-Type\":\"application/json; charset=UTF-8\",\"Vary\":\"Origin, X-Origin, Referer\",\"Content-Encoding\":\"gzip\",\"Date\":\"Tue, 21 Oct 2025 17:50:21 GMT\",\"Server\":\"scaffolding on HTTPServer2\",\"X-XSS-Protection\":\"0\",\"X-Frame-Options\":\"SAMEORIGIN\",\"X-Content-Type-Options\":\"nosniff\",\"Transfer-Encoding\":\"chunked\"}},\"candidates\":[{\"content\":{\"parts\":[{\"text\":\"That's a wonderful idea! Dolls are fantastic for fostering nurturing play, imagination, and social-emotional development in three-year-olds.\\n\\nHere are some types of dolls that are generally great for her age:\\n\\n1.  **Soft-Bodied Baby Dolls:** These are often a huge hit. They're perfect for cuddling, rocking, and mimicking parental care. Look for ones with soft bodies and gentle, un-stylable hair (or molded hair) that won't tangle easily. Many come with simple accessories like a bottle or a blanket.\\n    *   **Why they're good:** Encourage empathy, role-playing, and are easy for small hands to hold and hug.\\n\\n2.  **Rag Dolls:** Classic and timeless, rag dolls are typically very soft, safe (no hard parts to worry about), and often have friendly, embroidered faces. They're durable and can withstand a lot of love and play.\\n    *   **Why they're good:** Extremely huggable, safe, and often machine washable.\\n\\n3.  **Toddler-Sized Dolls (larger than baby dolls, smaller than American Girl):** These dolls are designed to look like slightly older children. They often have soft, brushable hair (but not too fine that it tangles instantly) and simple, removable clothing that's easy for little hands to manage, which helps with fine motor skills.\\n    *   **Why they're good:** Encourage dressing and undressing, imaginative scenarios, and can become a loyal companion.\\n\\n4.  **Dolls with Diverse Appearances:** Consider a doll that reflects different skin tones, hair textures, or even those that come with hearing aids or glasses. This promotes inclusivity and helps children see themselves and others represented in their play.\\n    *   **Why they're good:** Fosters understanding and acceptance of diversity from a young age.\\n\\n**Things to keep in mind when choosing:**\\n\\n*   **Size:** Not too small that parts could be a choking hazard (though for a 3-year-old, most standard play dolls are fine), and not too large that she can't easily carry and manipulate it.\\n*   **Durability:** Three-year-olds can be tough on toys, so look for well-made dolls that can withstand being dropped, hugged tightly, and perhaps even cleaned.\\n*   **Washability:** Life with a three-year-old often involves spills. A doll that can be wiped clean or even machine washed (check the label!) is a big plus.\\n*   **Simple Features:** At this age, less is often more. Dolls with basic, sweet faces allow children to project their own emotions and stories onto them, rather than being limited by complex expressions or functions. Avoid dolls with many tiny, removable accessories that could get lost or pose a choking risk.\\n\\nA soft, huggable baby doll or a charming rag doll would likely be an absolute winner!\"}],\"role\":\"model\"},\"finish_reason\":\"STOP\",\"avg_logprobs\":-0.5646294654883774}],\"create_time\":\"2025-10-21T17:50:15.663141Z\",\"model_version\":\"gemini-2.5-flash\",\"response_id\":\"18f3aOW8KJaKmecPkO-JkAM\",\"usage_metadata\":{\"candidates_token_count\":609,\"candidates_tokens_details\":[{\"modality\":\"TEXT\",\"token_count\":609}],\"prompt_token_count\":453,\"prompt_tokens_details\":[{\"modality\":\"TEXT\",\"token_count\":453}],\"thoughts_token_count\":249,\"total_token_count\":1311,\"traffic_type\":\"ON_DEMAND\"},\"automatic_function_calling_history\":[]}\n",
            "-----------------------------------------------------------\n",
            "\n"
          ]
        },
        {
          "output_type": "stream",
          "name": "stdout",
          "text": [
            "Agent Response:  That's a wonderful idea! Dolls are fantastic for fostering nurturing play, imagination, and social-emotional development in three-year-olds.\n",
            "\n",
            "Here are some types of dolls that are generally great for her age:\n",
            "\n",
            "1.  **Soft-Bodied Baby Dolls:** These are often a huge hit. They're perfect for cuddling, rocking, and mimicking parental care. Look for ones with soft bodies and gentle, un-stylable hair (or molded hair) that won't tangle easily. Many come with simple accessories like a bottle or a blanket.\n",
            "    *   **Why they're good:** Encourage empathy, role-playing, and are easy for small hands to hold and hug.\n",
            "\n",
            "2.  **Rag Dolls:** Classic and timeless, rag dolls are typically very soft, safe (no hard parts to worry about), and often have friendly, embroidered faces. They're durable and can withstand a lot of love and play.\n",
            "    *   **Why they're good:** Extremely huggable, safe, and often machine washable.\n",
            "\n",
            "3.  **Toddler-Sized Dolls (larger than baby dolls, smaller than American Girl):** These dolls are designed to look like slightly older children. They often have soft, brushable hair (but not too fine that it tangles instantly) and simple, removable clothing that's easy for little hands to manage, which helps with fine motor skills.\n",
            "    *   **Why they're good:** Encourage dressing and undressing, imaginative scenarios, and can become a loyal companion.\n",
            "\n",
            "4.  **Dolls with Diverse Appearances:** Consider a doll that reflects different skin tones, hair textures, or even those that come with hearing aids or glasses. This promotes inclusivity and helps children see themselves and others represented in their play.\n",
            "    *   **Why they're good:** Fosters understanding and acceptance of diversity from a young age.\n",
            "\n",
            "**Things to keep in mind when choosing:**\n",
            "\n",
            "*   **Size:** Not too small that parts could be a choking hazard (though for a 3-year-old, most standard play dolls are fine), and not too large that she can't easily carry and manipulate it.\n",
            "*   **Durability:** Three-year-olds can be tough on toys, so look for well-made dolls that can withstand being dropped, hugged tightly, and perhaps even cleaned.\n",
            "*   **Washability:** Life with a three-year-old often involves spills. A doll that can be wiped clean or even machine washed (check the label!) is a big plus.\n",
            "*   **Simple Features:** At this age, less is often more. Dolls with basic, sweet faces allow children to project their own emotions and stories onto them, rather than being limited by complex expressions or functions. Avoid dolls with many tiny, removable accessories that could get lost or pose a choking risk.\n",
            "\n",
            "A soft, huggable baby doll or a charming rag doll would likely be an absolute winner!\n"
          ]
        },
        {
          "output_type": "stream",
          "name": "stderr",
          "text": [
            "INFO:google_adk.google.adk.memory.vertex_ai_memory_bank_service:Generate memory response received.\n",
            "DEBUG:google_adk.google.adk.memory.vertex_ai_memory_bank_service:Generate memory response: name='projects/507092439621/locations/us-central1/reasoningEngines/241140492157321216/operations/361589602978365440' metadata={'@type': 'type.googleapis.com/google.cloud.aiplatform.v1beta1.GenerateMemoriesOperationMetadata', 'genericMetadata': {'createTime': '2025-10-21T17:50:22.572070Z', 'updateTime': '2025-10-21T17:50:22.572070Z'}} done=None error=None response=None\n"
          ]
        },
        {
          "output_type": "stream",
          "name": "stdout",
          "text": [
            "\n",
            "****Triggered memory generation****\n",
            "\n"
          ]
        }
      ],
      "source": [
        "session = await session_service.create_session(app_name=APP_NAME, user_id=USER_ID)\n",
        "\n",
        "call_agent(\n",
        "    \"What christmas present recommendations do you have for my niece?\",\n",
        "    session.id,\n",
        "    user_id=USER_ID,\n",
        ")\n",
        "\n",
        "call_agent(\n",
        "    \"I think I'll get her a doll. What types are good for her age?\",\n",
        "    session.id,\n",
        "    user_id=USER_ID,\n",
        ")"
      ]
    },
    {
      "cell_type": "code",
      "execution_count": 23,
      "metadata": {
        "colab": {
          "base_uri": "https://localhost:8080/"
        },
        "id": "E9_pkrRUBBSP",
        "outputId": "0a7816d9-b8dc-4177-df23-0d61f8b7b564"
      },
      "outputs": [
        {
          "output_type": "execute_result",
          "data": {
            "text/plain": [
              "[RetrieveMemoriesResponseRetrievedMemory(\n",
              "   distance=0.6968911070737007,\n",
              "   memory=Memory(\n",
              "     create_time=datetime.datetime(2025, 10, 21, 17, 50, 27, 834190, tzinfo=TzInfo(UTC)),\n",
              "     fact='I will get my niece a doll for Christmas.',\n",
              "     name='projects/507092439621/locations/us-central1/reasoningEngines/241140492157321216/memories/6712803810839887872',\n",
              "     scope={\n",
              "       'app_name': 'memory_example_app',\n",
              "       'user_id': 'My User'\n",
              "     },\n",
              "     update_time=datetime.datetime(2025, 10, 21, 17, 50, 27, 834190, tzinfo=TzInfo(UTC))\n",
              "   )\n",
              " ),\n",
              " RetrieveMemoriesResponseRetrievedMemory(\n",
              "   distance=0.7943347759252403,\n",
              "   memory=Memory(\n",
              "     create_time=datetime.datetime(2025, 10, 21, 17, 49, 10, 796991, tzinfo=TzInfo(UTC)),\n",
              "     fact='I have a three-year-old niece.',\n",
              "     name='projects/507092439621/locations/us-central1/reasoningEngines/241140492157321216/memories/5109522343495991296',\n",
              "     scope={\n",
              "       'app_name': 'memory_example_app',\n",
              "       'user_id': 'My User'\n",
              "     },\n",
              "     update_time=datetime.datetime(2025, 10, 21, 17, 50, 27, 830958, tzinfo=TzInfo(UTC))\n",
              "   )\n",
              " ),\n",
              " RetrieveMemoriesResponseRetrievedMemory(\n",
              "   distance=0.817023012371779,\n",
              "   memory=Memory(\n",
              "     create_time=datetime.datetime(2025, 10, 21, 17, 50, 27, 834273, tzinfo=TzInfo(UTC)),\n",
              "     fact='My niece already has a red bike.',\n",
              "     name='projects/507092439621/locations/us-central1/reasoningEngines/241140492157321216/memories/2101117792412499968',\n",
              "     scope={\n",
              "       'app_name': 'memory_example_app',\n",
              "       'user_id': 'My User'\n",
              "     },\n",
              "     update_time=datetime.datetime(2025, 10, 21, 17, 50, 27, 834273, tzinfo=TzInfo(UTC))\n",
              "   )\n",
              " )]"
            ]
          },
          "metadata": {},
          "execution_count": 23
        }
      ],
      "source": [
        "response = client.agent_engines.memories.retrieve(\n",
        "    name=agent_engine.api_resource.name,\n",
        "    scope={\"app_name\": APP_NAME, \"user_id\": USER_ID},\n",
        "    similarity_search_params={\n",
        "        \"search_query\": \"What was I thinking about getting my niece for Christmas?\"\n",
        "    },\n",
        ")\n",
        "list(response)"
      ]
    },
    {
      "cell_type": "markdown",
      "metadata": {
        "id": "koK2O-odR36D"
      },
      "source": [
        "The prior example used the entire Session to generate memories. However, this can be costly as the size of the session increases.\n",
        "\n",
        "You can also use callbacks to only save the current turn to Memory Bank. This has the downside, however, where you lose some of the context of the conversation."
      ]
    },
    {
      "cell_type": "code",
      "execution_count": 24,
      "metadata": {
        "id": "F5hWwSvEPaaW"
      },
      "outputs": [],
      "source": [
        "async def auto_save_user_turn_to_memory_callback(callback_context):\n",
        "    last_turn = callback_context._invocation_context.user_content\n",
        "    client.agent_engines.memories.generate(\n",
        "        name=agent_engine.api_resource.name,\n",
        "        scope={\"app_name\": APP_NAME, \"user_id\": USER_ID},\n",
        "        direct_contents_source={\"events\": [{\"content\": last_turn}]},\n",
        "        config={\"wait_for_completion\": False},\n",
        "    )\n",
        "    print(\"\\n****Triggered memory generation****\\n\")\n",
        "\n",
        "\n",
        "agent = LlmAgent(\n",
        "    model=MODEL,\n",
        "    name=\"Generic_QA_Agent\",\n",
        "    instruction=\"Answer the user's questions\",\n",
        "    tools=[adk.tools.preload_memory_tool.PreloadMemoryTool()],\n",
        "    before_agent_callback=auto_save_user_turn_to_memory_callback,\n",
        ")\n",
        "\n",
        "runner = Runner(\n",
        "    agent=agent,\n",
        "    app_name=APP_NAME,\n",
        "    session_service=session_service,\n",
        "    memory_service=memory_bank_service,\n",
        ")"
      ]
    },
    {
      "cell_type": "code",
      "execution_count": 25,
      "metadata": {
        "colab": {
          "base_uri": "https://localhost:8080/"
        },
        "id": "ziRXQsAJPeYl",
        "outputId": "dad34ab0-0f56-43b1-aa66-a60a2b8ce169"
      },
      "outputs": [
        {
          "output_type": "stream",
          "name": "stdout",
          "text": [
            "\n",
            "****Triggered memory generation****\n",
            "\n"
          ]
        },
        {
          "output_type": "stream",
          "name": "stderr",
          "text": [
            "INFO:google_adk.google.adk.memory.vertex_ai_memory_bank_service:Search memory response received.\n",
            "DEBUG:google_adk.google.adk.memory.vertex_ai_memory_bank_service:Retrieved memory: distance=0.6383386611799132 memory=Memory(\n",
            "  create_time=datetime.datetime(2025, 10, 21, 17, 50, 27, 834190, tzinfo=TzInfo(UTC)),\n",
            "  fact='I will get my niece a doll for Christmas.',\n",
            "  name='projects/507092439621/locations/us-central1/reasoningEngines/241140492157321216/memories/6712803810839887872',\n",
            "  scope={\n",
            "    'app_name': 'memory_example_app',\n",
            "    'user_id': 'My User'\n",
            "  },\n",
            "  update_time=datetime.datetime(2025, 10, 21, 17, 50, 27, 834190, tzinfo=TzInfo(UTC))\n",
            ")\n",
            "DEBUG:google_adk.google.adk.memory.vertex_ai_memory_bank_service:Retrieved memory: distance=0.9222959753372013 memory=Memory(\n",
            "  create_time=datetime.datetime(2025, 10, 21, 17, 50, 27, 834273, tzinfo=TzInfo(UTC)),\n",
            "  fact='My niece already has a red bike.',\n",
            "  name='projects/507092439621/locations/us-central1/reasoningEngines/241140492157321216/memories/2101117792412499968',\n",
            "  scope={\n",
            "    'app_name': 'memory_example_app',\n",
            "    'user_id': 'My User'\n",
            "  },\n",
            "  update_time=datetime.datetime(2025, 10, 21, 17, 50, 27, 834273, tzinfo=TzInfo(UTC))\n",
            ")\n",
            "DEBUG:google_adk.google.adk.memory.vertex_ai_memory_bank_service:Retrieved memory: distance=0.9376007979564559 memory=Memory(\n",
            "  create_time=datetime.datetime(2025, 10, 21, 17, 49, 10, 796991, tzinfo=TzInfo(UTC)),\n",
            "  fact='I have a three-year-old niece.',\n",
            "  name='projects/507092439621/locations/us-central1/reasoningEngines/241140492157321216/memories/5109522343495991296',\n",
            "  scope={\n",
            "    'app_name': 'memory_example_app',\n",
            "    'user_id': 'My User'\n",
            "  },\n",
            "  update_time=datetime.datetime(2025, 10, 21, 17, 50, 27, 830958, tzinfo=TzInfo(UTC))\n",
            ")\n",
            "INFO:google_adk.google.adk.models.google_llm:Sending out request, model: gemini-2.5-flash, backend: GoogleLLMVariant.VERTEX_AI, stream: False\n",
            "DEBUG:google_adk.google.adk.models.google_llm:\n",
            "LLM Request:\n",
            "-----------------------------------------------------------\n",
            "System Instruction:\n",
            "Answer the user's questions\n",
            "\n",
            "You are an agent. Your internal name is \"Generic_QA_Agent\".\n",
            "\n",
            "The following content is from your previous conversations with the user.\n",
            "They may be useful for answering the user's current query.\n",
            "<PAST_CONVERSATIONS>\n",
            "Time: 2025-10-21T17:50:27.834190+00:00\n",
            "user: I will get my niece a doll for Christmas.\n",
            "Time: 2025-10-21T17:50:27.834273+00:00\n",
            "user: My niece already has a red bike.\n",
            "Time: 2025-10-21T17:50:27.830958+00:00\n",
            "user: I have a three-year-old niece.\n",
            "</PAST_CONVERSATIONS>\n",
            "\n",
            "-----------------------------------------------------------\n",
            "Contents:\n",
            "{\"parts\":[{\"text\":\"What christmas present recommendations do you have for my niece?\"}],\"role\":\"user\"}\n",
            "{\"parts\":[{\"text\":\"Since your niece is three years old and already has a red bike, here are some Christmas present recommendations that she might enjoy:\\n\\n1.  **Creative Art Supplies:** Washable crayons or markers, large paper, a coloring book with her favorite characters, or a Play-Doh set with various tools. These encourage creativity and fine motor skills.\\n2.  **Imaginative Play:**\\n    *   **Dress-up Clothes:** A princess gown, a superhero cape, or animal costumes can spark hours of imaginative play.\\n    *   **Play Kitchen Set:** A small play kitchen with toy food and utensils can be a big hit for role-playing.\\n    *   **Dollhouse or Animal Figures:** Simple, durable sets that encourage storytelling.\\n3.  **Building Toys:** Large building blocks like LEGO Duplo or magnetic tiles are excellent for developing spatial reasoning and creativity.\\n4.  **Picture Books:** A collection of engaging and colorful picture books. You could look for interactive books with flaps or textures.\\n5.  **Age-Appropriate Puzzles or Games:** Simple wooden puzzles (12-24 pieces) or beginner board games like \\\"Candyland\\\" or \\\"Chutes and Ladders\\\" are great for developing problem-solving skills and teaching turn-taking.\"}],\"role\":\"model\"}\n",
            "{\"parts\":[{\"text\":\"I think I'll get her a doll. What types are good for her age?\"}],\"role\":\"user\"}\n",
            "{\"parts\":[{\"text\":\"That's a wonderful idea! Dolls are fantastic for fostering nurturing play, imagination, and social-emotional development in three-year-olds.\\n\\nHere are some types of dolls that are generally great for her age:\\n\\n1.  **Soft-Bodied Baby Dolls:** These are often a huge hit. They're perfect for cuddling, rocking, and mimicking parental care. Look for ones with soft bodies and gentle, un-stylable hair (or molded hair) that won't tangle easily. Many come with simple accessories like a bottle or a blanket.\\n    *   **Why they're good:** Encourage empathy, role-playing, and are easy for small hands to hold and hug.\\n\\n2.  **Rag Dolls:** Classic and timeless, rag dolls are typically very soft, safe (no hard parts to worry about), and often have friendly, embroidered faces. They're durable and can withstand a lot of love and play.\\n    *   **Why they're good:** Extremely huggable, safe, and often machine washable.\\n\\n3.  **Toddler-Sized Dolls (larger than baby dolls, smaller than American Girl):** These dolls are designed to look like slightly older children. They often have soft, brushable hair (but not too fine that it tangles instantly) and simple, removable clothing that's easy for little hands to manage, which helps with fine motor skills.\\n    *   **Why they're good:** Encourage dressing and undressing, imaginative scenarios, and can become a loyal companion.\\n\\n4.  **Dolls with Diverse Appearances:** Consider a doll that reflects different skin tones, hair textures, or even those that come with hearing aids or glasses. This promotes inclusivity and helps children see themselves and others represented in their play.\\n    *   **Why they're good:** Fosters understanding and acceptance of diversity from a young age.\\n\\n**Things to keep in mind when choosing:**\\n\\n*   **Size:** Not too small that parts could be a choking hazard (though for a 3-year-old, most standard play dolls are fine), and not too large that she can't easily carry and manipulate it.\\n*   **Durability:** Three-year-olds can be tough on toys, so look for well-made dolls that can withstand being dropped, hugged tightly, and perhaps even cleaned.\\n*   **Washability:** Life with a three-year-old often involves spills. A doll that can be wiped clean or even machine washed (check the label!) is a big plus.\\n*   **Simple Features:** At this age, less is often more. Dolls with basic, sweet faces allow children to project their own emotions and stories onto them, rather than being limited by complex expressions or functions. Avoid dolls with many tiny, removable accessories that could get lost or pose a choking risk.\\n\\nA soft, huggable baby doll or a charming rag doll would likely be an absolute winner!\"}],\"role\":\"model\"}\n",
            "{\"parts\":[{\"text\":\"I think I'll get her a doll. What types are good for her age?\"}],\"role\":\"user\"}\n",
            "-----------------------------------------------------------\n",
            "Functions:\n",
            "\n",
            "-----------------------------------------------------------\n",
            "\n",
            "INFO:google_adk.google.adk.models.google_llm:Response received from the model.\n",
            "DEBUG:google_adk.google.adk.models.google_llm:\n",
            "LLM Response:\n",
            "-----------------------------------------------------------\n",
            "Text:\n",
            "That's a lovely choice! Dolls are wonderful for fostering imaginative play, nurturing skills, and emotional development in three-year-olds.\n",
            "\n",
            "Here are the types of dolls that are generally excellent for her age:\n",
            "\n",
            "1.  **Soft-Bodied Baby Dolls:** These are often a favorite because they're perfect for cuddling, rocking, and mimicking caretaking. Look for ones with soft bodies and easy-to-manage hair (either molded or soft, non-tangling fiber). Many come with simple accessories like a bottle or a blanket.\n",
            "    *   **Why they're great:** They encourage empathy, role-playing, and are perfectly sized for small arms to hug.\n",
            "\n",
            "2.  **Rag Dolls:** Timeless and sweet, rag dolls are typically very soft, safe (no hard parts), and usually have embroidered features. They are quite durable and can withstand lots of play.\n",
            "    *   **Why they're great:** Extremely huggable, very safe, and often machine washable.\n",
            "\n",
            "3.  **Toddler-Sized Dolls:** These dolls often look like slightly older children and usually have soft, brushable hair (not too fine to tangle easily) and simple, removable outfits. Learning to dress and undress the doll can help with her fine motor skills.\n",
            "    *   **Why they're great:** They encourage more complex imaginative scenarios and dressing/undressing practice.\n",
            "\n",
            "4.  **Dolls with Diverse Appearances:** Consider a doll that represents various skin tones, hair textures, or even features like glasses. This helps promote inclusivity and allows children to see a broader representation of the world.\n",
            "    *   **Why they're great:** Fosters understanding and acceptance of diversity.\n",
            "\n",
            "**Key things to consider when choosing:**\n",
            "\n",
            "*   **Size:** Ensure it's not too small (for choking hazards, though most standard play dolls for this age are safe) and not too large for her to easily carry and manipulate.\n",
            "*   **Durability:** Three-year-olds are active, so look for a doll that's well-made and can handle being played with frequently.\n",
            "*   **Washability:** Spills happen! A doll that can be wiped clean or is machine washable (check the label) is a huge plus.\n",
            "*   **Simple Features:** At this age, dolls with simpler, sweet faces allow children more room to project their own emotions and stories onto them. Avoid dolls with many tiny, easily lost accessories or overly complicated electronic functions.\n",
            "\n",
            "A classic soft baby doll or a charming rag doll would likely be a wonderful companion for her!\n",
            "-----------------------------------------------------------\n",
            "Function calls:\n",
            "\n",
            "-----------------------------------------------------------\n",
            "Raw response:\n",
            "{\"sdk_http_response\":{\"headers\":{\"Content-Type\":\"application/json; charset=UTF-8\",\"Vary\":\"Origin, X-Origin, Referer\",\"Content-Encoding\":\"gzip\",\"Date\":\"Tue, 21 Oct 2025 17:51:22 GMT\",\"Server\":\"scaffolding on HTTPServer2\",\"X-XSS-Protection\":\"0\",\"X-Frame-Options\":\"SAMEORIGIN\",\"X-Content-Type-Options\":\"nosniff\",\"Transfer-Encoding\":\"chunked\"}},\"candidates\":[{\"content\":{\"parts\":[{\"text\":\"That's a lovely choice! Dolls are wonderful for fostering imaginative play, nurturing skills, and emotional development in three-year-olds.\\n\\nHere are the types of dolls that are generally excellent for her age:\\n\\n1.  **Soft-Bodied Baby Dolls:** These are often a favorite because they're perfect for cuddling, rocking, and mimicking caretaking. Look for ones with soft bodies and easy-to-manage hair (either molded or soft, non-tangling fiber). Many come with simple accessories like a bottle or a blanket.\\n    *   **Why they're great:** They encourage empathy, role-playing, and are perfectly sized for small arms to hug.\\n\\n2.  **Rag Dolls:** Timeless and sweet, rag dolls are typically very soft, safe (no hard parts), and usually have embroidered features. They are quite durable and can withstand lots of play.\\n    *   **Why they're great:** Extremely huggable, very safe, and often machine washable.\\n\\n3.  **Toddler-Sized Dolls:** These dolls often look like slightly older children and usually have soft, brushable hair (not too fine to tangle easily) and simple, removable outfits. Learning to dress and undress the doll can help with her fine motor skills.\\n    *   **Why they're great:** They encourage more complex imaginative scenarios and dressing/undressing practice.\\n\\n4.  **Dolls with Diverse Appearances:** Consider a doll that represents various skin tones, hair textures, or even features like glasses. This helps promote inclusivity and allows children to see a broader representation of the world.\\n    *   **Why they're great:** Fosters understanding and acceptance of diversity.\\n\\n**Key things to consider when choosing:**\\n\\n*   **Size:** Ensure it's not too small (for choking hazards, though most standard play dolls for this age are safe) and not too large for her to easily carry and manipulate.\\n*   **Durability:** Three-year-olds are active, so look for a doll that's well-made and can handle being played with frequently.\\n*   **Washability:** Spills happen! A doll that can be wiped clean or is machine washable (check the label) is a huge plus.\\n*   **Simple Features:** At this age, dolls with simpler, sweet faces allow children more room to project their own emotions and stories onto them. Avoid dolls with many tiny, easily lost accessories or overly complicated electronic functions.\\n\\nA classic soft baby doll or a charming rag doll would likely be a wonderful companion for her!\"}],\"role\":\"model\"},\"finish_reason\":\"STOP\",\"avg_logprobs\":-0.42489228955352953}],\"create_time\":\"2025-10-21T17:51:18.316218Z\",\"model_version\":\"gemini-2.5-flash\",\"response_id\":\"Fsj3aLqmE8ugmecPn4qbqAk\",\"usage_metadata\":{\"candidates_token_count\":533,\"candidates_tokens_details\":[{\"modality\":\"TEXT\",\"token_count\":533}],\"prompt_token_count\":1129,\"prompt_tokens_details\":[{\"modality\":\"TEXT\",\"token_count\":1129}],\"thoughts_token_count\":111,\"total_token_count\":1773,\"traffic_type\":\"ON_DEMAND\"},\"automatic_function_calling_history\":[]}\n",
            "-----------------------------------------------------------\n",
            "\n"
          ]
        },
        {
          "output_type": "stream",
          "name": "stdout",
          "text": [
            "Agent Response:  That's a lovely choice! Dolls are wonderful for fostering imaginative play, nurturing skills, and emotional development in three-year-olds.\n",
            "\n",
            "Here are the types of dolls that are generally excellent for her age:\n",
            "\n",
            "1.  **Soft-Bodied Baby Dolls:** These are often a favorite because they're perfect for cuddling, rocking, and mimicking caretaking. Look for ones with soft bodies and easy-to-manage hair (either molded or soft, non-tangling fiber). Many come with simple accessories like a bottle or a blanket.\n",
            "    *   **Why they're great:** They encourage empathy, role-playing, and are perfectly sized for small arms to hug.\n",
            "\n",
            "2.  **Rag Dolls:** Timeless and sweet, rag dolls are typically very soft, safe (no hard parts), and usually have embroidered features. They are quite durable and can withstand lots of play.\n",
            "    *   **Why they're great:** Extremely huggable, very safe, and often machine washable.\n",
            "\n",
            "3.  **Toddler-Sized Dolls:** These dolls often look like slightly older children and usually have soft, brushable hair (not too fine to tangle easily) and simple, removable outfits. Learning to dress and undress the doll can help with her fine motor skills.\n",
            "    *   **Why they're great:** They encourage more complex imaginative scenarios and dressing/undressing practice.\n",
            "\n",
            "4.  **Dolls with Diverse Appearances:** Consider a doll that represents various skin tones, hair textures, or even features like glasses. This helps promote inclusivity and allows children to see a broader representation of the world.\n",
            "    *   **Why they're great:** Fosters understanding and acceptance of diversity.\n",
            "\n",
            "**Key things to consider when choosing:**\n",
            "\n",
            "*   **Size:** Ensure it's not too small (for choking hazards, though most standard play dolls for this age are safe) and not too large for her to easily carry and manipulate.\n",
            "*   **Durability:** Three-year-olds are active, so look for a doll that's well-made and can handle being played with frequently.\n",
            "*   **Washability:** Spills happen! A doll that can be wiped clean or is machine washable (check the label) is a huge plus.\n",
            "*   **Simple Features:** At this age, dolls with simpler, sweet faces allow children more room to project their own emotions and stories onto them. Avoid dolls with many tiny, easily lost accessories or overly complicated electronic functions.\n",
            "\n",
            "A classic soft baby doll or a charming rag doll would likely be a wonderful companion for her!\n"
          ]
        }
      ],
      "source": [
        "call_agent(\n",
        "    \"I think I'll get her a doll. What types are good for her age?\",\n",
        "    session.id,\n",
        "    user_id=USER_ID,\n",
        ")"
      ]
    },
    {
      "cell_type": "markdown",
      "metadata": {
        "id": "rstDOvEhWogm"
      },
      "source": [
        "## Using Memory in your agent\n",
        "\n",
        "Now, let's link our agent to Memory, so that memories can be fetched by your agent and used for inference. This allows your agent to remember information from prior sessions in a new, empty session.\n",
        "\n",
        "You can use ADK's built-in tools to fetch memories and incorporate them in the prompt. When using the built-in tools, it's important to provide both a memory tool when creating your Agent and a memory service when defining your Runner."
      ]
    },
    {
      "cell_type": "markdown",
      "metadata": {
        "id": "yOiYWk7GZlyN"
      },
      "source": [
        "### `adk.PreloadMemoryTool`\n",
        "The `PreloadMemoryTool` always retrieves memories at the start of each turn and includes the memories in the system instruction.\n",
        "\n",
        "Under the hood, it invokes `memory_service.search_memory` for the given User and App Name. Memory is invoked before the LLM is called, so there will not be an associated tool call logged for memory.\n",
        "\n",
        "We're going to use a [callback](https://google.github.io/adk-docs/callbacks/) to print out the System Instructions. Since we use `before_model_callback`, the callback executes right before the model is called.\n",
        "\n",
        "<img src=\"https://google.github.io/adk-docs/assets/callback_flow.png\">"
      ]
    },
    {
      "cell_type": "code",
      "execution_count": 26,
      "metadata": {
        "id": "l1ENgxmkWnVl"
      },
      "outputs": [],
      "source": [
        "from google import adk\n",
        "\n",
        "\n",
        "def log_system_instructions(callback_context, llm_request):\n",
        "    \"\"\"A callback to print the LLM request.\"\"\"\n",
        "    print(\n",
        "        f\"\\n*System Instruction*:\\n{llm_request.config.system_instruction}\\n*********\\n\"\n",
        "    )\n",
        "\n",
        "\n",
        "agent = LlmAgent(\n",
        "    model=MODEL,\n",
        "    name=\"Generic_QA_Agent\",\n",
        "    instruction=\"Answer the user's questions\",\n",
        "    tools=[adk.tools.preload_memory_tool.PreloadMemoryTool()],\n",
        "    before_model_callback=log_system_instructions,\n",
        ")\n",
        "\n",
        "runner = Runner(\n",
        "    agent=agent,\n",
        "    app_name=APP_NAME,\n",
        "    session_service=session_service,\n",
        "    memory_service=memory_bank_service,\n",
        ")"
      ]
    },
    {
      "cell_type": "markdown",
      "metadata": {
        "id": "r0g7dxD0aG_H"
      },
      "source": [
        "This conversation uses a new session, so it doesn't have access to the user's conversation history without using memory.\n",
        "\n",
        "Since we're using `PreloadMemoryTool`, the retrieved memories will be appended to the System Instructions."
      ]
    },
    {
      "cell_type": "code",
      "execution_count": 27,
      "metadata": {
        "colab": {
          "base_uri": "https://localhost:8080/"
        },
        "id": "2FD9VV_4Hqja",
        "outputId": "bb531040-bc7a-46fe-d0e0-40985e1737ba"
      },
      "outputs": [
        {
          "output_type": "stream",
          "name": "stderr",
          "text": [
            "INFO:google_adk.google.adk.memory.vertex_ai_memory_bank_service:Search memory response received.\n",
            "DEBUG:google_adk.google.adk.memory.vertex_ai_memory_bank_service:Retrieved memory: distance=0.7431920531286359 memory=Memory(\n",
            "  create_time=datetime.datetime(2025, 10, 21, 17, 50, 27, 834190, tzinfo=TzInfo(UTC)),\n",
            "  fact='I will get my niece a doll for Christmas.',\n",
            "  name='projects/507092439621/locations/us-central1/reasoningEngines/241140492157321216/memories/6712803810839887872',\n",
            "  scope={\n",
            "    'app_name': 'memory_example_app',\n",
            "    'user_id': 'My User'\n",
            "  },\n",
            "  update_time=datetime.datetime(2025, 10, 21, 17, 50, 27, 834190, tzinfo=TzInfo(UTC))\n",
            ")\n",
            "DEBUG:google_adk.google.adk.memory.vertex_ai_memory_bank_service:Retrieved memory: distance=0.8400188529646397 memory=Memory(\n",
            "  create_time=datetime.datetime(2025, 10, 21, 17, 50, 27, 834273, tzinfo=TzInfo(UTC)),\n",
            "  fact='My niece already has a red bike.',\n",
            "  name='projects/507092439621/locations/us-central1/reasoningEngines/241140492157321216/memories/2101117792412499968',\n",
            "  scope={\n",
            "    'app_name': 'memory_example_app',\n",
            "    'user_id': 'My User'\n",
            "  },\n",
            "  update_time=datetime.datetime(2025, 10, 21, 17, 50, 27, 834273, tzinfo=TzInfo(UTC))\n",
            ")\n",
            "DEBUG:google_adk.google.adk.memory.vertex_ai_memory_bank_service:Retrieved memory: distance=0.8461041281672127 memory=Memory(\n",
            "  create_time=datetime.datetime(2025, 10, 21, 17, 49, 10, 796991, tzinfo=TzInfo(UTC)),\n",
            "  fact='I have a three-year-old niece.',\n",
            "  name='projects/507092439621/locations/us-central1/reasoningEngines/241140492157321216/memories/5109522343495991296',\n",
            "  scope={\n",
            "    'app_name': 'memory_example_app',\n",
            "    'user_id': 'My User'\n",
            "  },\n",
            "  update_time=datetime.datetime(2025, 10, 21, 17, 50, 27, 830958, tzinfo=TzInfo(UTC))\n",
            ")\n",
            "INFO:google_adk.google.adk.models.google_llm:Sending out request, model: gemini-2.5-flash, backend: GoogleLLMVariant.VERTEX_AI, stream: False\n",
            "DEBUG:google_adk.google.adk.models.google_llm:\n",
            "LLM Request:\n",
            "-----------------------------------------------------------\n",
            "System Instruction:\n",
            "Answer the user's questions\n",
            "\n",
            "You are an agent. Your internal name is \"Generic_QA_Agent\".\n",
            "\n",
            "The following content is from your previous conversations with the user.\n",
            "They may be useful for answering the user's current query.\n",
            "<PAST_CONVERSATIONS>\n",
            "Time: 2025-10-21T17:50:27.834190+00:00\n",
            "user: I will get my niece a doll for Christmas.\n",
            "Time: 2025-10-21T17:50:27.834273+00:00\n",
            "user: My niece already has a red bike.\n",
            "Time: 2025-10-21T17:50:27.830958+00:00\n",
            "user: I have a three-year-old niece.\n",
            "</PAST_CONVERSATIONS>\n",
            "\n",
            "-----------------------------------------------------------\n",
            "Contents:\n",
            "{\"parts\":[{\"text\":\"Can you remind me what I got my niece for her christmas?\"}],\"role\":\"user\"}\n",
            "-----------------------------------------------------------\n",
            "Functions:\n",
            "\n",
            "-----------------------------------------------------------\n",
            "\n"
          ]
        },
        {
          "output_type": "stream",
          "name": "stdout",
          "text": [
            "\n",
            "*System Instruction*:\n",
            "Answer the user's questions\n",
            "\n",
            "You are an agent. Your internal name is \"Generic_QA_Agent\".\n",
            "\n",
            "The following content is from your previous conversations with the user.\n",
            "They may be useful for answering the user's current query.\n",
            "<PAST_CONVERSATIONS>\n",
            "Time: 2025-10-21T17:50:27.834190+00:00\n",
            "user: I will get my niece a doll for Christmas.\n",
            "Time: 2025-10-21T17:50:27.834273+00:00\n",
            "user: My niece already has a red bike.\n",
            "Time: 2025-10-21T17:50:27.830958+00:00\n",
            "user: I have a three-year-old niece.\n",
            "</PAST_CONVERSATIONS>\n",
            "\n",
            "*********\n",
            "\n"
          ]
        },
        {
          "output_type": "stream",
          "name": "stderr",
          "text": [
            "INFO:google_adk.google.adk.models.google_llm:Response received from the model.\n",
            "DEBUG:google_adk.google.adk.models.google_llm:\n",
            "LLM Response:\n",
            "-----------------------------------------------------------\n",
            "Text:\n",
            "You mentioned that you *will get* your niece a doll for Christmas.\n",
            "-----------------------------------------------------------\n",
            "Function calls:\n",
            "\n",
            "-----------------------------------------------------------\n",
            "Raw response:\n",
            "{\"sdk_http_response\":{\"headers\":{\"Content-Type\":\"application/json; charset=UTF-8\",\"Vary\":\"Origin, X-Origin, Referer\",\"Content-Encoding\":\"gzip\",\"Date\":\"Tue, 21 Oct 2025 17:51:45 GMT\",\"Server\":\"scaffolding on HTTPServer2\",\"X-XSS-Protection\":\"0\",\"X-Frame-Options\":\"SAMEORIGIN\",\"X-Content-Type-Options\":\"nosniff\",\"Transfer-Encoding\":\"chunked\"}},\"candidates\":[{\"content\":{\"parts\":[{\"text\":\"You mentioned that you *will get* your niece a doll for Christmas.\"}],\"role\":\"model\"},\"finish_reason\":\"STOP\",\"avg_logprobs\":-4.229559326171875}],\"create_time\":\"2025-10-21T17:51:43.043243Z\",\"model_version\":\"gemini-2.5-flash\",\"response_id\":\"L8j3aOvRApqdmecPpd3H0Qk\",\"usage_metadata\":{\"candidates_token_count\":15,\"candidates_tokens_details\":[{\"modality\":\"TEXT\",\"token_count\":15}],\"prompt_token_count\":225,\"prompt_tokens_details\":[{\"modality\":\"TEXT\",\"token_count\":225}],\"thoughts_token_count\":321,\"total_token_count\":561,\"traffic_type\":\"ON_DEMAND\"},\"automatic_function_calling_history\":[]}\n",
            "-----------------------------------------------------------\n",
            "\n"
          ]
        },
        {
          "output_type": "stream",
          "name": "stdout",
          "text": [
            "Agent Response:  You mentioned that you *will get* your niece a doll for Christmas.\n"
          ]
        }
      ],
      "source": [
        "session = await session_service.create_session(app_name=APP_NAME, user_id=USER_ID)\n",
        "\n",
        "call_agent(\n",
        "    \"Can you remind me what I got my niece for her christmas?\",\n",
        "    session.id,\n",
        "    user_id=USER_ID,\n",
        ")"
      ]
    },
    {
      "cell_type": "markdown",
      "metadata": {
        "id": "TSpv-aGuaG4g"
      },
      "source": [
        "### adk.LoadMemoryTool\n",
        "\n",
        "Now, let's use `LoadMemoryTool`. Unlike `PreloadMemoryTool`, this tool acts like a standard tool. Your agent needs to decide whether the tool should be invoked."
      ]
    },
    {
      "cell_type": "code",
      "execution_count": 28,
      "metadata": {
        "id": "aIbplEW0ZlRR"
      },
      "outputs": [],
      "source": [
        "from google import adk\n",
        "\n",
        "\n",
        "def log_tool_call(tool, args, tool_response, **kwargs):\n",
        "    \"\"\"A callback to print the LLM request.\"\"\"\n",
        "    print(f\"\\n*Tool*:\\n{tool}\")\n",
        "    print(f\"\\n*Tool call*:\\n{args}\")\n",
        "    print(f\"\\n*Tool response*:\\n{tool_response}\\n*********\\n\")\n",
        "\n",
        "\n",
        "agent = LlmAgent(\n",
        "    model=MODEL,\n",
        "    name=\"Generic_QA_Agent\",\n",
        "    instruction=\"Answer the user's questions\",\n",
        "    tools=[adk.tools.load_memory_tool.LoadMemoryTool()],\n",
        "    before_model_callback=log_system_instructions,\n",
        "    after_tool_callback=log_tool_call,\n",
        ")\n",
        "\n",
        "runner = Runner(\n",
        "    agent=agent,\n",
        "    app_name=APP_NAME,\n",
        "    session_service=session_service,\n",
        "    memory_service=memory_bank_service,\n",
        ")"
      ]
    },
    {
      "cell_type": "code",
      "execution_count": 29,
      "metadata": {
        "colab": {
          "base_uri": "https://localhost:8080/"
        },
        "id": "u2LLB98aZssb",
        "outputId": "9961951f-7bc3-42c9-c74a-d756d19ec5e5"
      },
      "outputs": [
        {
          "output_type": "stream",
          "name": "stderr",
          "text": [
            "INFO:google_adk.google.adk.models.google_llm:Sending out request, model: gemini-2.5-flash, backend: GoogleLLMVariant.VERTEX_AI, stream: False\n",
            "DEBUG:google_adk.google.adk.models.google_llm:\n",
            "LLM Request:\n",
            "-----------------------------------------------------------\n",
            "System Instruction:\n",
            "Answer the user's questions\n",
            "\n",
            "You are an agent. Your internal name is \"Generic_QA_Agent\".\n",
            "\n",
            "\n",
            "You have memory. You can use it to answer questions. If any questions need\n",
            "you to look up the memory, you should call load_memory function with a query.\n",
            "\n",
            "-----------------------------------------------------------\n",
            "Contents:\n",
            "{\"parts\":[{\"text\":\"Can you remind me what I got my niece for her christmas?\"}],\"role\":\"user\"}\n",
            "-----------------------------------------------------------\n",
            "Functions:\n",
            "load_memory: {'query': {'type': <Type.STRING: 'STRING'>}} \n",
            "-----------------------------------------------------------\n",
            "\n"
          ]
        },
        {
          "output_type": "stream",
          "name": "stdout",
          "text": [
            "\n",
            "*System Instruction*:\n",
            "Answer the user's questions\n",
            "\n",
            "You are an agent. Your internal name is \"Generic_QA_Agent\".\n",
            "\n",
            "\n",
            "You have memory. You can use it to answer questions. If any questions need\n",
            "you to look up the memory, you should call load_memory function with a query.\n",
            "\n",
            "*********\n",
            "\n"
          ]
        },
        {
          "output_type": "stream",
          "name": "stderr",
          "text": [
            "INFO:google_adk.google.adk.models.google_llm:Response received from the model.\n",
            "WARNING:google_genai.types:Warning: there are non-text parts in the response: ['thought_signature', 'function_call'], returning concatenated text result from text parts. Check the full candidates.content.parts accessor to get the full model response.\n",
            "DEBUG:google_adk.google.adk.models.google_llm:\n",
            "LLM Response:\n",
            "-----------------------------------------------------------\n",
            "Text:\n",
            "None\n",
            "-----------------------------------------------------------\n",
            "Function calls:\n",
            "name: load_memory, args: {'query': 'what I got my niece for her christmas'}\n",
            "-----------------------------------------------------------\n",
            "Raw response:\n",
            "{\"sdk_http_response\":{\"headers\":{\"Content-Type\":\"application/json; charset=UTF-8\",\"Vary\":\"Origin, X-Origin, Referer\",\"Content-Encoding\":\"gzip\",\"Date\":\"Tue, 21 Oct 2025 17:51:56 GMT\",\"Server\":\"scaffolding on HTTPServer2\",\"X-XSS-Protection\":\"0\",\"X-Frame-Options\":\"SAMEORIGIN\",\"X-Content-Type-Options\":\"nosniff\",\"Transfer-Encoding\":\"chunked\"}},\"candidates\":[{\"content\":{\"parts\":[{\"thought_signature\":\"CowDAePx_1760i0aAYf1UaQ_B-CxAM4Eh1ycvRY2l-VYGN1IQf2xV97nMiCa_uLbhVjT39HkuNN9L7Qj7em5Dwet5xUywmYBHYp7qf7ZQWTFjPBDCMBdakQJN-crTV15B-dfNq0HsMM96mFkd1XUwUa_gTUc1regD_M-DNvYIA_npnOb7pTj5ajB9dxokOrpbEwQNTeSRwH5kGs_QxpWTyFpUEkzGSZE-CBnnLwUuU5OySleX_adapNYzeTxW2hP_muy49a18goHgm_Tp26WQD9nAVLhLzEPPNDLyzP7kDXxxahTCE2fWe5feVe0AoQPuz8VK_uqKnXucupocH3kQku_6R5fQ2XYT3z-41_SFo39200DhgHbYrOGSH72lxl7NDvND27qC18aFevBkuT2QPIjj6HQHQr6idiJL1WhKvooHuV7dYi4tL7KYInUv7X3SjbXJKmYZUFiBDdRQV5iHgUCckRDSm5_ktiy5sJfD5OAZPvkxyLmmvaK8930di0bQidYa7JjknFRrFOUZ7Sw\",\"function_call\":{\"args\":{\"query\":\"what I got my niece for her christmas\"},\"name\":\"load_memory\"}}],\"role\":\"model\"},\"finish_reason\":\"STOP\",\"avg_logprobs\":-1.0858449935913086}],\"create_time\":\"2025-10-21T17:51:55.615855Z\",\"model_version\":\"gemini-2.5-flash\",\"response_id\":\"O8j3aK_LJbWemecP8pDV6A4\",\"usage_metadata\":{\"candidates_token_count\":12,\"candidates_tokens_details\":[{\"modality\":\"TEXT\",\"token_count\":12}],\"prompt_token_count\":114,\"prompt_tokens_details\":[{\"modality\":\"TEXT\",\"token_count\":114}],\"thoughts_token_count\":82,\"total_token_count\":208,\"traffic_type\":\"ON_DEMAND\"},\"automatic_function_calling_history\":[]}\n",
            "-----------------------------------------------------------\n",
            "\n",
            "INFO:google_adk.google.adk.memory.vertex_ai_memory_bank_service:Search memory response received.\n",
            "DEBUG:google_adk.google.adk.memory.vertex_ai_memory_bank_service:Retrieved memory: distance=0.6504927546415064 memory=Memory(\n",
            "  create_time=datetime.datetime(2025, 10, 21, 17, 50, 27, 834190, tzinfo=TzInfo(UTC)),\n",
            "  fact='I will get my niece a doll for Christmas.',\n",
            "  name='projects/507092439621/locations/us-central1/reasoningEngines/241140492157321216/memories/6712803810839887872',\n",
            "  scope={\n",
            "    'app_name': 'memory_example_app',\n",
            "    'user_id': 'My User'\n",
            "  },\n",
            "  update_time=datetime.datetime(2025, 10, 21, 17, 50, 27, 834190, tzinfo=TzInfo(UTC))\n",
            ")\n",
            "DEBUG:google_adk.google.adk.memory.vertex_ai_memory_bank_service:Retrieved memory: distance=0.7601083801188996 memory=Memory(\n",
            "  create_time=datetime.datetime(2025, 10, 21, 17, 49, 10, 796991, tzinfo=TzInfo(UTC)),\n",
            "  fact='I have a three-year-old niece.',\n",
            "  name='projects/507092439621/locations/us-central1/reasoningEngines/241140492157321216/memories/5109522343495991296',\n",
            "  scope={\n",
            "    'app_name': 'memory_example_app',\n",
            "    'user_id': 'My User'\n",
            "  },\n",
            "  update_time=datetime.datetime(2025, 10, 21, 17, 50, 27, 830958, tzinfo=TzInfo(UTC))\n",
            ")\n",
            "DEBUG:google_adk.google.adk.memory.vertex_ai_memory_bank_service:Retrieved memory: distance=0.810698088363496 memory=Memory(\n",
            "  create_time=datetime.datetime(2025, 10, 21, 17, 50, 27, 834273, tzinfo=TzInfo(UTC)),\n",
            "  fact='My niece already has a red bike.',\n",
            "  name='projects/507092439621/locations/us-central1/reasoningEngines/241140492157321216/memories/2101117792412499968',\n",
            "  scope={\n",
            "    'app_name': 'memory_example_app',\n",
            "    'user_id': 'My User'\n",
            "  },\n",
            "  update_time=datetime.datetime(2025, 10, 21, 17, 50, 27, 834273, tzinfo=TzInfo(UTC))\n",
            ")\n",
            "INFO:google_adk.google.adk.models.google_llm:Sending out request, model: gemini-2.5-flash, backend: GoogleLLMVariant.VERTEX_AI, stream: False\n",
            "DEBUG:google_adk.google.adk.models.google_llm:\n",
            "LLM Request:\n",
            "-----------------------------------------------------------\n",
            "System Instruction:\n",
            "Answer the user's questions\n",
            "\n",
            "You are an agent. Your internal name is \"Generic_QA_Agent\".\n",
            "\n",
            "\n",
            "You have memory. You can use it to answer questions. If any questions need\n",
            "you to look up the memory, you should call load_memory function with a query.\n",
            "\n",
            "-----------------------------------------------------------\n",
            "Contents:\n",
            "{\"parts\":[{\"text\":\"Can you remind me what I got my niece for her christmas?\"}],\"role\":\"user\"}\n",
            "{\"parts\":[{\"thought_signature\":\"CowDAePx_1760i0aAYf1UaQ_B-CxAM4Eh1ycvRY2l-VYGN1IQf2xV97nMiCa_uLbhVjT39HkuNN9L7Qj7em5Dwet5xUywmYBHYp7qf7ZQWTFjPBDCMBdakQJN-crTV15B-dfNq0HsMM96mFkd1XUwUa_gTUc1regD_M-DNvYIA_npnOb7pTj5ajB9dxokOrpbEwQNTeSRwH5kGs_QxpWTyFpUEkzGSZE-CBnnLwUuU5OySleX_adapNYzeTxW2hP_muy49a18goHgm_Tp26WQD9nAVLhLzEPPNDLyzP7kDXxxahTCE2fWe5feVe0AoQPuz8VK_uqKnXucupocH3kQku_6R5fQ2XYT3z-41_SFo39200DhgHbYrOGSH72lxl7NDvND27qC18aFevBkuT2QPIjj6HQHQr6idiJL1WhKvooHuV7dYi4tL7KYInUv7X3SjbXJKmYZUFiBDdRQV5iHgUCckRDSm5_ktiy5sJfD5OAZPvkxyLmmvaK8930di0bQidYa7JjknFRrFOUZ7Sw\",\"function_call\":{\"args\":{\"query\":\"what I got my niece for her christmas\"},\"name\":\"load_memory\"}}],\"role\":\"model\"}\n",
            "{\"parts\":[{\"function_response\":{\"name\":\"load_memory\",\"response\":{\"result\":{\"memories\":[{\"content\":{\"parts\":[{\"text\":\"I will get my niece a doll for Christmas.\"}],\"role\":\"user\"},\"author\":\"user\",\"timestamp\":\"2025-10-21T17:50:27.834190+00:00\"},{\"content\":{\"parts\":[{\"text\":\"I have a three-year-old niece.\"}],\"role\":\"user\"},\"author\":\"user\",\"timestamp\":\"2025-10-21T17:50:27.830958+00:00\"},{\"content\":{\"parts\":[{\"text\":\"My niece already has a red bike.\"}],\"role\":\"user\"},\"author\":\"user\",\"timestamp\":\"2025-10-21T17:50:27.834273+00:00\"}]}}}}],\"role\":\"user\"}\n",
            "-----------------------------------------------------------\n",
            "Functions:\n",
            "load_memory: {'query': {'type': <Type.STRING: 'STRING'>}} \n",
            "-----------------------------------------------------------\n",
            "\n"
          ]
        },
        {
          "output_type": "stream",
          "name": "stdout",
          "text": [
            "\n",
            "*Tool*:\n",
            "<google.adk.tools.load_memory_tool.LoadMemoryTool object at 0x7c24fe67d970>\n",
            "\n",
            "*Tool call*:\n",
            "{'query': 'what I got my niece for her christmas'}\n",
            "\n",
            "*Tool response*:\n",
            "memories=[MemoryEntry(content=Content(\n",
            "  parts=[\n",
            "    Part(\n",
            "      text='I will get my niece a doll for Christmas.'\n",
            "    ),\n",
            "  ],\n",
            "  role='user'\n",
            "), author='user', timestamp='2025-10-21T17:50:27.834190+00:00'), MemoryEntry(content=Content(\n",
            "  parts=[\n",
            "    Part(\n",
            "      text='I have a three-year-old niece.'\n",
            "    ),\n",
            "  ],\n",
            "  role='user'\n",
            "), author='user', timestamp='2025-10-21T17:50:27.830958+00:00'), MemoryEntry(content=Content(\n",
            "  parts=[\n",
            "    Part(\n",
            "      text='My niece already has a red bike.'\n",
            "    ),\n",
            "  ],\n",
            "  role='user'\n",
            "), author='user', timestamp='2025-10-21T17:50:27.834273+00:00')]\n",
            "*********\n",
            "\n",
            "\n",
            "*System Instruction*:\n",
            "Answer the user's questions\n",
            "\n",
            "You are an agent. Your internal name is \"Generic_QA_Agent\".\n",
            "\n",
            "\n",
            "You have memory. You can use it to answer questions. If any questions need\n",
            "you to look up the memory, you should call load_memory function with a query.\n",
            "\n",
            "*********\n",
            "\n"
          ]
        },
        {
          "output_type": "stream",
          "name": "stderr",
          "text": [
            "INFO:google_adk.google.adk.models.google_llm:Response received from the model.\n",
            "WARNING:google_genai.types:Warning: there are non-text parts in the response: ['thought_signature'], returning concatenated text result from text parts. Check the full candidates.content.parts accessor to get the full model response.\n",
            "DEBUG:google_adk.google.adk.models.google_llm:\n",
            "LLM Response:\n",
            "-----------------------------------------------------------\n",
            "Text:\n",
            "You were going to get your niece a doll for Christmas.\n",
            "-----------------------------------------------------------\n",
            "Function calls:\n",
            "\n",
            "-----------------------------------------------------------\n",
            "Raw response:\n",
            "{\"sdk_http_response\":{\"headers\":{\"Content-Type\":\"application/json; charset=UTF-8\",\"Vary\":\"Origin, X-Origin, Referer\",\"Content-Encoding\":\"gzip\",\"Date\":\"Tue, 21 Oct 2025 17:51:58 GMT\",\"Server\":\"scaffolding on HTTPServer2\",\"X-XSS-Protection\":\"0\",\"X-Frame-Options\":\"SAMEORIGIN\",\"X-Content-Type-Options\":\"nosniff\",\"Transfer-Encoding\":\"chunked\"}},\"candidates\":[{\"content\":{\"parts\":[{\"thought_signature\":\"CqIDAePx_15bLima_AQAvZPM_AUjSHikMTXg9nSkkW06P0JxNmG5co4qcCu2JShvYO49rXwHPHMl6cHxhDFcOvNIunTvKwVJUtH39wP9clvYl06HRoN3XpdTBMZr7UF3jPxWMRYPgZGnFCMuF_7-uHDVIf5nQ3xSYKdyz9g-CjQW6bkU8Y_pHkHQqZVAIVQqD6oakit7kEcxOuPqCSxDSD10Giqldoz1adkZtH6V8L7nFr9AiYDsETeDonQ8UFYKmH6iqjjNHdPmZnbo7P4gY4iIUIVKvoOPcRVzdJdnfBHDSLswd3Z8a7plXdqY2icygWkTpqJe0H3ejptE9RSc96E291UE86kB6pIMDMc9JnVKJQR1po3_qdrdhyOXAnkwbsOj7LWY_tOjvc-lmB8pwc-0SZHYrrD-cv7xAsc1QhWpVy7So-JT93gZp4n3UuYv4hKWwshgAk1pUZDQxTw3EnykaArN9P7ym7M6oo39b4JVjqKJPHWYiNlD6OJA2Xb7JOs4wFRufvlsl-6XKyCN0RRL9eTZQBZKTOKpWKCsHHPwMpfvow==\",\"text\":\"You were going to get your niece a doll for Christmas.\"}],\"role\":\"model\"},\"finish_reason\":\"STOP\",\"avg_logprobs\":-1.940629482269287}],\"create_time\":\"2025-10-21T17:51:57.949269Z\",\"model_version\":\"gemini-2.5-flash\",\"response_id\":\"Pcj3aJX4OeipmecPlIOW2AY\",\"usage_metadata\":{\"candidates_token_count\":12,\"candidates_tokens_details\":[{\"modality\":\"TEXT\",\"token_count\":12}],\"prompt_token_count\":279,\"prompt_tokens_details\":[{\"modality\":\"TEXT\",\"token_count\":359}],\"thoughts_token_count\":89,\"total_token_count\":380,\"traffic_type\":\"ON_DEMAND\"},\"automatic_function_calling_history\":[]}\n",
            "-----------------------------------------------------------\n",
            "\n"
          ]
        },
        {
          "output_type": "stream",
          "name": "stdout",
          "text": [
            "Agent Response:  You were going to get your niece a doll for Christmas.\n"
          ]
        }
      ],
      "source": [
        "session = await session_service.create_session(app_name=APP_NAME, user_id=USER_ID)\n",
        "\n",
        "call_agent(\n",
        "    \"Can you remind me what I got my niece for her christmas?\",\n",
        "    session.id,\n",
        "    user_id=USER_ID,\n",
        ")"
      ]
    },
    {
      "cell_type": "markdown",
      "metadata": {
        "id": "9uGnTDQO42tf"
      },
      "source": [
        "If the agent decides that Memory is not helpful for a given query, the Memory tool will not be invoked."
      ]
    },
    {
      "cell_type": "code",
      "execution_count": 30,
      "metadata": {
        "colab": {
          "base_uri": "https://localhost:8080/"
        },
        "id": "Pmm3SJOsd288",
        "outputId": "83a0ff70-dd5f-43a5-ff2b-804a0735285f"
      },
      "outputs": [
        {
          "output_type": "stream",
          "name": "stderr",
          "text": [
            "INFO:google_adk.google.adk.models.google_llm:Sending out request, model: gemini-2.5-flash, backend: GoogleLLMVariant.VERTEX_AI, stream: False\n",
            "DEBUG:google_adk.google.adk.models.google_llm:\n",
            "LLM Request:\n",
            "-----------------------------------------------------------\n",
            "System Instruction:\n",
            "Answer the user's questions\n",
            "\n",
            "You are an agent. Your internal name is \"Generic_QA_Agent\".\n",
            "\n",
            "\n",
            "You have memory. You can use it to answer questions. If any questions need\n",
            "you to look up the memory, you should call load_memory function with a query.\n",
            "\n",
            "-----------------------------------------------------------\n",
            "Contents:\n",
            "{\"parts\":[{\"text\":\"Hi!\"}],\"role\":\"user\"}\n",
            "-----------------------------------------------------------\n",
            "Functions:\n",
            "load_memory: {'query': {'type': <Type.STRING: 'STRING'>}} \n",
            "-----------------------------------------------------------\n",
            "\n"
          ]
        },
        {
          "output_type": "stream",
          "name": "stdout",
          "text": [
            "\n",
            "*System Instruction*:\n",
            "Answer the user's questions\n",
            "\n",
            "You are an agent. Your internal name is \"Generic_QA_Agent\".\n",
            "\n",
            "\n",
            "You have memory. You can use it to answer questions. If any questions need\n",
            "you to look up the memory, you should call load_memory function with a query.\n",
            "\n",
            "*********\n",
            "\n"
          ]
        },
        {
          "output_type": "stream",
          "name": "stderr",
          "text": [
            "INFO:google_adk.google.adk.models.google_llm:Response received from the model.\n",
            "WARNING:google_genai.types:Warning: there are non-text parts in the response: ['thought_signature'], returning concatenated text result from text parts. Check the full candidates.content.parts accessor to get the full model response.\n",
            "DEBUG:google_adk.google.adk.models.google_llm:\n",
            "LLM Response:\n",
            "-----------------------------------------------------------\n",
            "Text:\n",
            "Hello! How can I help you today?\n",
            "-----------------------------------------------------------\n",
            "Function calls:\n",
            "\n",
            "-----------------------------------------------------------\n",
            "Raw response:\n",
            "{\"sdk_http_response\":{\"headers\":{\"Content-Type\":\"application/json; charset=UTF-8\",\"Vary\":\"Origin, X-Origin, Referer\",\"Content-Encoding\":\"gzip\",\"Date\":\"Tue, 21 Oct 2025 17:52:04 GMT\",\"Server\":\"scaffolding on HTTPServer2\",\"X-XSS-Protection\":\"0\",\"X-Frame-Options\":\"SAMEORIGIN\",\"X-Content-Type-Options\":\"nosniff\",\"Transfer-Encoding\":\"chunked\"}},\"candidates\":[{\"content\":{\"parts\":[{\"thought_signature\":\"CrcBAePx_14tg5w61n6ClSibyGORUIhAythlnwSm7PUREE69th9U9FBCF-bdraam4pTxf9CIJf2nohPnm5GWueC677q-U41wKfcjpCny-KjTVMmSvIS16kwOTwOnZ-tRsVkFhQs_2nkXQH_ZuiAbinjYU1CIbZsoBJKJ4Y_1Ie1i0TpPgO9ko2XTpb4xV0GpALe0M19M-Bpxpbvs4gDpaXX2y7U_FOH41I0wcBr0AJWcYmSYCFu8YhsR\",\"text\":\"Hello! How can I help you today?\"}],\"role\":\"model\"},\"finish_reason\":\"STOP\",\"avg_logprobs\":-1.3535201814439561}],\"create_time\":\"2025-10-21T17:52:04.439806Z\",\"model_version\":\"gemini-2.5-flash\",\"response_id\":\"RMj3aP7rGveImecP7OSlkQk\",\"usage_metadata\":{\"candidates_token_count\":9,\"candidates_tokens_details\":[{\"modality\":\"TEXT\",\"token_count\":9}],\"prompt_token_count\":103,\"prompt_tokens_details\":[{\"modality\":\"TEXT\",\"token_count\":103}],\"thoughts_token_count\":35,\"total_token_count\":147,\"traffic_type\":\"ON_DEMAND\"},\"automatic_function_calling_history\":[]}\n",
            "-----------------------------------------------------------\n",
            "\n"
          ]
        },
        {
          "output_type": "stream",
          "name": "stdout",
          "text": [
            "Agent Response:  Hello! How can I help you today?\n"
          ]
        }
      ],
      "source": [
        "session = await session_service.create_session(app_name=APP_NAME, user_id=USER_ID)\n",
        "\n",
        "call_agent(\"Hi!\", session.id, user_id=USER_ID)"
      ]
    },
    {
      "cell_type": "markdown",
      "metadata": {
        "id": "-M6GeiZzAox6"
      },
      "source": [
        "### Custom callback to retrieve memories\n",
        "\n",
        "If you want more control over how memories are retrieved, you can create your own custom callback.\n",
        "\n",
        "For example, you can use the Agent Engine SDK within the callback to retrieve memories without similarity search. This is lower latency than using similarity search.\n",
        "\n",
        "You can also customize your `scope` rather than using the default \"app_name\" and \"user_id\" scope keys used by ADK's memory service."
      ]
    },
    {
      "cell_type": "code",
      "execution_count": 31,
      "metadata": {
        "id": "TUc_jTzr5QSm"
      },
      "outputs": [],
      "source": [
        "def retrieve_memories_callback(callback_context, llm_request):\n",
        "    user_id = callback_context._invocation_context.user_id\n",
        "\n",
        "    response = client.agent_engines.memories.retrieve(\n",
        "        name=agent_engine.api_resource.name,\n",
        "        # Unlike the ADK Memory Service, this does not use App Name in the scope.\n",
        "        scope={\"user_id\": user_id},\n",
        "    )\n",
        "    memories = [f\"* {memory.memory.fact}\" for memory in list(response)]\n",
        "    if not memories:\n",
        "        # No memories to add to System Instructions.\n",
        "        return\n",
        "    # Append formatted memories to the System Instructions\n",
        "    llm_request.config.system_instruction += (\n",
        "        \"\\nHere is information that you have about the user:\\n\"\n",
        "    )\n",
        "    llm_request.config.system_instruction += \"\\n\".join(memories)\n",
        "\n",
        "\n",
        "def log_tool_call(tool, args, tool_response, **kwargs):\n",
        "    \"\"\"A callback to print the LLM request.\"\"\"\n",
        "    print(f\"\\n*Tool*:\\n{tool}\")\n",
        "    print(f\"\\n*Tool call*:\\n{args}\")\n",
        "    print(f\"\\n*Tool response*:\\n{log_tool_call}\\n*********\\n\")\n",
        "\n",
        "\n",
        "agent = LlmAgent(\n",
        "    model=MODEL,\n",
        "    name=\"Generic_QA_Agent\",\n",
        "    instruction=\"Answer the user's questions\",\n",
        "    before_model_callback=retrieve_memories_callback,\n",
        ")\n",
        "\n",
        "runner = Runner(\n",
        "    agent=agent,\n",
        "    app_name=APP_NAME,\n",
        "    session_service=session_service,\n",
        "    memory_service=memory_bank_service,\n",
        ")"
      ]
    },
    {
      "cell_type": "markdown",
      "metadata": {
        "id": "hPHr71m4_hiJ"
      },
      "source": [
        "Since we're using a different scope than the ADK Memory Service, we don't have access to the prior memories. Memories are isolated by their scope dictionary."
      ]
    },
    {
      "cell_type": "code",
      "execution_count": 32,
      "metadata": {
        "colab": {
          "base_uri": "https://localhost:8080/"
        },
        "id": "0zV-bZtz51E6",
        "outputId": "04f70cce-0ae8-4fa6-daa7-5e55a5e9a4a1"
      },
      "outputs": [
        {
          "output_type": "stream",
          "name": "stderr",
          "text": [
            "INFO:google_adk.google.adk.models.google_llm:Sending out request, model: gemini-2.5-flash, backend: GoogleLLMVariant.VERTEX_AI, stream: False\n",
            "DEBUG:google_adk.google.adk.models.google_llm:\n",
            "LLM Request:\n",
            "-----------------------------------------------------------\n",
            "System Instruction:\n",
            "Answer the user's questions\n",
            "\n",
            "You are an agent. Your internal name is \"Generic_QA_Agent\".\n",
            "-----------------------------------------------------------\n",
            "Contents:\n",
            "{\"parts\":[{\"text\":\"Hi!\"}],\"role\":\"user\"}\n",
            "-----------------------------------------------------------\n",
            "Functions:\n",
            "\n",
            "-----------------------------------------------------------\n",
            "\n",
            "INFO:google_adk.google.adk.models.google_llm:Response received from the model.\n",
            "DEBUG:google_adk.google.adk.models.google_llm:\n",
            "LLM Response:\n",
            "-----------------------------------------------------------\n",
            "Text:\n",
            "Hi there! How can I help you today?\n",
            "-----------------------------------------------------------\n",
            "Function calls:\n",
            "\n",
            "-----------------------------------------------------------\n",
            "Raw response:\n",
            "{\"sdk_http_response\":{\"headers\":{\"Content-Type\":\"application/json; charset=UTF-8\",\"Vary\":\"Origin, X-Origin, Referer\",\"Content-Encoding\":\"gzip\",\"Date\":\"Tue, 21 Oct 2025 17:52:13 GMT\",\"Server\":\"scaffolding on HTTPServer2\",\"X-XSS-Protection\":\"0\",\"X-Frame-Options\":\"SAMEORIGIN\",\"X-Content-Type-Options\":\"nosniff\",\"Transfer-Encoding\":\"chunked\"}},\"candidates\":[{\"content\":{\"parts\":[{\"text\":\"Hi there! How can I help you today?\"}],\"role\":\"model\"},\"finish_reason\":\"STOP\",\"avg_logprobs\":-0.6979798316955567}],\"create_time\":\"2025-10-21T17:52:13.145458Z\",\"model_version\":\"gemini-2.5-flash\",\"response_id\":\"Tcj3aLLwCNP7ld8Pi-K3mQw\",\"usage_metadata\":{\"candidates_token_count\":10,\"candidates_tokens_details\":[{\"modality\":\"TEXT\",\"token_count\":10}],\"prompt_token_count\":25,\"prompt_tokens_details\":[{\"modality\":\"TEXT\",\"token_count\":25}],\"thoughts_token_count\":24,\"total_token_count\":59,\"traffic_type\":\"ON_DEMAND\"},\"automatic_function_calling_history\":[]}\n",
            "-----------------------------------------------------------\n",
            "\n"
          ]
        },
        {
          "output_type": "stream",
          "name": "stdout",
          "text": [
            "Agent Response:  Hi there! How can I help you today?\n"
          ]
        }
      ],
      "source": [
        "session = await session_service.create_session(app_name=APP_NAME, user_id=USER_ID)\n",
        "\n",
        "call_agent(\"Hi!\", session.id, user_id=USER_ID)"
      ]
    },
    {
      "cell_type": "markdown",
      "metadata": {
        "id": "F-RoQ0UF_s5v"
      },
      "source": [
        "Let's first generate memories for our new scope."
      ]
    },
    {
      "cell_type": "code",
      "execution_count": 33,
      "metadata": {
        "colab": {
          "base_uri": "https://localhost:8080/"
        },
        "id": "3PjiIK2L_r43",
        "outputId": "3657590a-e6e3-4161-f20c-89b7a461f613"
      },
      "outputs": [
        {
          "output_type": "execute_result",
          "data": {
            "text/plain": [
              "AgentEngineGenerateMemoriesOperation(\n",
              "  done=True,\n",
              "  metadata={\n",
              "    '@type': 'type.googleapis.com/google.cloud.aiplatform.v1beta1.GenerateMemoriesOperationMetadata',\n",
              "    'genericMetadata': {\n",
              "      'createTime': '2025-10-21T17:52:17.058967Z',\n",
              "      'updateTime': '2025-10-21T17:52:19.343624Z'\n",
              "    }\n",
              "  },\n",
              "  name='projects/507092439621/locations/us-central1/reasoningEngines/241140492157321216/operations/2374698636412977152',\n",
              "  response=GenerateMemoriesResponse(\n",
              "    generated_memories=[\n",
              "      GenerateMemoriesResponseGeneratedMemory(\n",
              "        action=<GenerateMemoriesResponseGeneratedMemoryAction.CREATED: 'CREATED'>,\n",
              "        memory=Memory(\n",
              "          name='projects/507092439621/locations/us-central1/reasoningEngines/241140492157321216/memories/1470613844580630528'\n",
              "        )\n",
              "      ),\n",
              "    ]\n",
              "  )\n",
              ")"
            ]
          },
          "metadata": {},
          "execution_count": 33
        }
      ],
      "source": [
        "client.agent_engines.memories.generate(\n",
        "    scope={\"user_id\": USER_ID},\n",
        "    name=agent_engine.api_resource.name,\n",
        "    direct_contents_source={\n",
        "        \"events\": [\n",
        "            {\"content\": {\"role\": \"user\", \"parts\": [{\"text\": \"I have four nieces!\"}]}}\n",
        "        ]\n",
        "    },\n",
        ")"
      ]
    },
    {
      "cell_type": "code",
      "execution_count": 34,
      "metadata": {
        "colab": {
          "base_uri": "https://localhost:8080/"
        },
        "id": "fTzgPdtU_9Qd",
        "outputId": "1534a778-40e3-48da-ced2-ead3c9848e59"
      },
      "outputs": [
        {
          "output_type": "stream",
          "name": "stderr",
          "text": [
            "INFO:google_adk.google.adk.models.google_llm:Sending out request, model: gemini-2.5-flash, backend: GoogleLLMVariant.VERTEX_AI, stream: False\n",
            "DEBUG:google_adk.google.adk.models.google_llm:\n",
            "LLM Request:\n",
            "-----------------------------------------------------------\n",
            "System Instruction:\n",
            "Answer the user's questions\n",
            "\n",
            "You are an agent. Your internal name is \"Generic_QA_Agent\".\n",
            "Here is information that you have about the user:\n",
            "* I have four nieces.\n",
            "-----------------------------------------------------------\n",
            "Contents:\n",
            "{\"parts\":[{\"text\":\"Hi!\"}],\"role\":\"user\"}\n",
            "{\"parts\":[{\"text\":\"Hi there! How can I help you today?\"}],\"role\":\"model\"}\n",
            "{\"parts\":[{\"text\":\"What information do you know about me?\"}],\"role\":\"user\"}\n",
            "-----------------------------------------------------------\n",
            "Functions:\n",
            "\n",
            "-----------------------------------------------------------\n",
            "\n",
            "INFO:google_adk.google.adk.models.google_llm:Response received from the model.\n",
            "DEBUG:google_adk.google.adk.models.google_llm:\n",
            "LLM Response:\n",
            "-----------------------------------------------------------\n",
            "Text:\n",
            "I know that you have four nieces!\n",
            "-----------------------------------------------------------\n",
            "Function calls:\n",
            "\n",
            "-----------------------------------------------------------\n",
            "Raw response:\n",
            "{\"sdk_http_response\":{\"headers\":{\"Content-Type\":\"application/json; charset=UTF-8\",\"Vary\":\"Origin, X-Origin, Referer\",\"Content-Encoding\":\"gzip\",\"Date\":\"Tue, 21 Oct 2025 17:52:24 GMT\",\"Server\":\"scaffolding on HTTPServer2\",\"X-XSS-Protection\":\"0\",\"X-Frame-Options\":\"SAMEORIGIN\",\"X-Content-Type-Options\":\"nosniff\",\"Transfer-Encoding\":\"chunked\"}},\"candidates\":[{\"content\":{\"parts\":[{\"text\":\"I know that you have four nieces!\"}],\"role\":\"model\"},\"finish_reason\":\"STOP\",\"avg_logprobs\":-1.725602149963379}],\"create_time\":\"2025-10-21T17:52:23.539535Z\",\"model_version\":\"gemini-2.5-flash\",\"response_id\":\"V8j3aI_3IPWgmecP7--v0Ao\",\"usage_metadata\":{\"candidates_token_count\":8,\"candidates_tokens_details\":[{\"modality\":\"TEXT\",\"token_count\":8}],\"prompt_token_count\":61,\"prompt_tokens_details\":[{\"modality\":\"TEXT\",\"token_count\":61}],\"thoughts_token_count\":46,\"total_token_count\":115,\"traffic_type\":\"ON_DEMAND\"},\"automatic_function_calling_history\":[]}\n",
            "-----------------------------------------------------------\n",
            "\n"
          ]
        },
        {
          "output_type": "stream",
          "name": "stdout",
          "text": [
            "Agent Response:  I know that you have four nieces!\n"
          ]
        }
      ],
      "source": [
        "call_agent(\"What information do you know about me?\", session.id, user_id=USER_ID)"
      ]
    },
    {
      "cell_type": "markdown",
      "metadata": {
        "id": "SAw7Dax-biQW"
      },
      "source": [
        "## Customize your Memory Bank's behavior\n",
        "\n",
        "So far, we've used Memory Bank with it's default settings. Now, let's customize some configurations. The configuration is set when creating or updating your Agent Engine."
      ]
    },
    {
      "cell_type": "markdown",
      "metadata": {
        "id": "6nIKVog-sitb"
      },
      "source": [
        "### Customizing Memory Extraction\n",
        "\n",
        "By default, Memory Bank considers memories that fit the following topics to be meaningful:\n",
        "\n",
        "* **Personal information (`USER_PERSONAL_INFO`)**: Significant personal information about the user, like names, relationships, hobbies, and important dates. For example, \"I work at Google\" or \"My wedding anniversary is on December 31\".\n",
        "* **User preferences (`USER_PREFERENCES`)**: Stated or implied likes, dislikes, preferred styles, or patterns. For example, \"I prefer the middle seat.\"\n",
        "* **Key conversation events and task outcomes (`KEY_CONVERSATION_DETAILS`)**: Important milestones or conclusions within the dialogue. For example, \"I booked plane tickets for a round trip between JFK and SFO. I leave on June 1, 2025 and return on June 7, 2025.\"\n",
        "* **Explicit remember / forget instructions (`EXPLICIT_INSTRUCTIONS`)**: Information that the user explicitly asks the agent to remember or forget. For example, if the user says \"Remember that I primarily use Python,\" Memory Bank generates a memory such as \"I primarily use Python.\"\n",
        "\n",
        "These are managed topics where Memory Bank manages their definition. If you want to use a subset of these topics or use custom topics, you can provide a \"CustomizationConfig\" to customize what information Memory Bank should consider meaningful to persist."
      ]
    },
    {
      "cell_type": "markdown",
      "metadata": {
        "id": "G2pwuUddXf59"
      },
      "source": [
        "#### Managed Topics\n",
        "\n",
        "We're going to update our Memory Bank to only extract user preferences.\n",
        "\n",
        "This will take affect for all requests to Memory Bank, regardless of whether you use ADK or Agent Engine SDK."
      ]
    },
    {
      "cell_type": "code",
      "execution_count": 35,
      "metadata": {
        "colab": {
          "base_uri": "https://localhost:8080/"
        },
        "id": "6qc7x-1tXWS_",
        "outputId": "0e58d065-7cc5-4b7c-d54c-4dad08418d39"
      },
      "outputs": [
        {
          "output_type": "stream",
          "name": "stderr",
          "text": [
            "INFO:vertexai_genai.agentengines:View progress and logs at https://console.cloud.google.com/logs/query?project=zawadi-tunu-475816.\n",
            "INFO:vertexai_genai.agentengines:Agent Engine updated. To use it in another session:\n",
            "INFO:vertexai_genai.agentengines:agent_engine=client.agent_engines.get('projects/507092439621/locations/us-central1/reasoningEngines/241140492157321216')\n"
          ]
        },
        {
          "output_type": "execute_result",
          "data": {
            "text/plain": [
              "AgentEngine(api_resource.name='projects/507092439621/locations/us-central1/reasoningEngines/241140492157321216')"
            ]
          },
          "metadata": {},
          "execution_count": 35
        }
      ],
      "source": [
        "user_preferences_config = {\n",
        "    \"scope_keys\": [\"user_id\"],\n",
        "    \"memory_topics\": [\n",
        "        {\"managed_memory_topic\": {\"managed_topic_enum\": \"USER_PREFERENCES\"}}\n",
        "    ],\n",
        "}\n",
        "\n",
        "\n",
        "client.agent_engines.update(\n",
        "    name=agent_engine.api_resource.name,\n",
        "    config={\n",
        "        \"context_spec\": {\n",
        "            \"memory_bank_config\": {\n",
        "                \"customization_configs\": [user_preferences_config],\n",
        "            }\n",
        "        }\n",
        "    },\n",
        ")"
      ]
    },
    {
      "cell_type": "markdown",
      "metadata": {
        "id": "t3RNGsTmYI74"
      },
      "source": [
        "Memories that fit the `USER_PREFERENCES` category will be persisted."
      ]
    },
    {
      "cell_type": "code",
      "execution_count": 36,
      "metadata": {
        "colab": {
          "base_uri": "https://localhost:8080/"
        },
        "id": "g_efAhHIYGEC",
        "outputId": "e4f97d37-b357-4124-a9af-5eca7b502a06"
      },
      "outputs": [
        {
          "output_type": "execute_result",
          "data": {
            "text/plain": [
              "AgentEngineGenerateMemoriesOperation(\n",
              "  done=True,\n",
              "  metadata={\n",
              "    '@type': 'type.googleapis.com/google.cloud.aiplatform.v1beta1.GenerateMemoriesOperationMetadata',\n",
              "    'genericMetadata': {\n",
              "      'createTime': '2025-10-21T17:52:47.966770Z',\n",
              "      'updateTime': '2025-10-21T17:52:50.761164Z'\n",
              "    }\n",
              "  },\n",
              "  name='projects/507092439621/locations/us-central1/reasoningEngines/241140492157321216/operations/9222421869829816320',\n",
              "  response=GenerateMemoriesResponse(\n",
              "    generated_memories=[\n",
              "      GenerateMemoriesResponseGeneratedMemory(\n",
              "        action=<GenerateMemoriesResponseGeneratedMemoryAction.CREATED: 'CREATED'>,\n",
              "        memory=Memory(\n",
              "          name='projects/507092439621/locations/us-central1/reasoningEngines/241140492157321216/memories/5713004693563637760'\n",
              "        )\n",
              "      ),\n",
              "    ]\n",
              "  )\n",
              ")"
            ]
          },
          "metadata": {},
          "execution_count": 36
        }
      ],
      "source": [
        "client.agent_engines.memories.generate(\n",
        "    scope={\"user_id\": USER_ID},\n",
        "    name=agent_engine.api_resource.name,\n",
        "    direct_contents_source={\n",
        "        \"events\": [\n",
        "            {\n",
        "                \"content\": {\n",
        "                    \"role\": \"user\",\n",
        "                    \"parts\": [{\"text\": \"I prefer the aisle seat\"}],\n",
        "                }\n",
        "            }\n",
        "        ]\n",
        "    },\n",
        ")"
      ]
    },
    {
      "cell_type": "markdown",
      "metadata": {
        "id": "0W7oEz7KYOks"
      },
      "source": [
        "Memories that don't fit `USER_PREFERENCES` won't be persisted."
      ]
    },
    {
      "cell_type": "code",
      "execution_count": 40,
      "metadata": {
        "colab": {
          "base_uri": "https://localhost:8080/"
        },
        "id": "V9sQPIGQYTr0",
        "outputId": "2d472a78-9046-4ed7-a09f-08bb234ef188"
      },
      "outputs": [
        {
          "output_type": "execute_result",
          "data": {
            "text/plain": [
              "AgentEngineGenerateMemoriesOperation(\n",
              "  done=True,\n",
              "  metadata={\n",
              "    '@type': 'type.googleapis.com/google.cloud.aiplatform.v1beta1.GenerateMemoriesOperationMetadata',\n",
              "    'genericMetadata': {\n",
              "      'createTime': '2025-10-21T18:13:49.748610Z',\n",
              "      'updateTime': '2025-10-21T18:13:51.325266Z'\n",
              "    }\n",
              "  },\n",
              "  name='projects/507092439621/locations/us-central1/reasoningEngines/241140492157321216/operations/6290859987388334080'\n",
              ")"
            ]
          },
          "metadata": {},
          "execution_count": 40
        }
      ],
      "source": [
        "client.agent_engines.memories.generate(\n",
        "    scope={\"user_id\": USER_ID},\n",
        "    name=agent_engine.api_resource.name,\n",
        "    direct_contents_source={\n",
        "        \"events\": [\n",
        "            {\n",
        "                \"content\": {\n",
        "                    \"role\": \"user\",\n",
        "                    \"parts\": [{\"text\": \"I'm going to get my niece a red bike\"}],\n",
        "                }\n",
        "            }\n",
        "        ]\n",
        "    },\n",
        ")"
      ]
    },
    {
      "cell_type": "markdown",
      "metadata": {
        "id": "SodYXQQrXMqD"
      },
      "source": [
        "#### Custom Topics\n",
        "Alternatively, you can define your own custom topics where you define your own labels, descriptions, and examples."
      ]
    },
    {
      "cell_type": "code",
      "execution_count": 39,
      "metadata": {
        "colab": {
          "base_uri": "https://localhost:8080/",
          "height": 383
        },
        "id": "o-W0cxdqsjRi",
        "outputId": "881ff286-db23-48a1-9d5f-0ba513bb7a82"
      },
      "outputs": [
        {
          "output_type": "error",
          "ename": "ModuleNotFoundError",
          "evalue": "No module named 'vertexai.types'",
          "traceback": [
            "\u001b[0;31m---------------------------------------------------------------------------\u001b[0m",
            "\u001b[0;31mModuleNotFoundError\u001b[0m                       Traceback (most recent call last)",
            "\u001b[0;32m/tmp/ipython-input-4069965263.py\u001b[0m in \u001b[0;36m<cell line: 0>\u001b[0;34m()\u001b[0m\n\u001b[0;32m----> 1\u001b[0;31m \u001b[0;32mfrom\u001b[0m \u001b[0mvertexai\u001b[0m\u001b[0;34m.\u001b[0m\u001b[0mtypes\u001b[0m \u001b[0;32mimport\u001b[0m \u001b[0mMemoryBankCustomizationConfig\u001b[0m \u001b[0;32mas\u001b[0m \u001b[0mCustomizationConfig\u001b[0m\u001b[0;34m\u001b[0m\u001b[0;34m\u001b[0m\u001b[0m\n\u001b[0m\u001b[1;32m      2\u001b[0m from vertexai.types import (\n\u001b[1;32m      3\u001b[0m     \u001b[0mMemoryBankCustomizationConfigGenerateMemoriesExample\u001b[0m \u001b[0;32mas\u001b[0m \u001b[0mGenerateMemoriesExample\u001b[0m\u001b[0;34m,\u001b[0m\u001b[0;34m\u001b[0m\u001b[0;34m\u001b[0m\u001b[0m\n\u001b[1;32m      4\u001b[0m )\n\u001b[1;32m      5\u001b[0m from vertexai.types import (\n",
            "\u001b[0;31mModuleNotFoundError\u001b[0m: No module named 'vertexai.types'",
            "",
            "\u001b[0;31m---------------------------------------------------------------------------\u001b[0;32m\nNOTE: If your import is failing due to a missing package, you can\nmanually install dependencies using either !pip or !apt.\n\nTo view examples of installing some common dependencies, click the\n\"Open Examples\" button below.\n\u001b[0;31m---------------------------------------------------------------------------\u001b[0m\n"
          ],
          "errorDetails": {
            "actions": [
              {
                "action": "open_url",
                "actionText": "Open Examples",
                "url": "/notebooks/snippets/importing_libraries.ipynb"
              }
            ]
          }
        }
      ],
      "source": [
        "from vertexai.types import MemoryBankCustomizationConfig as CustomizationConfig\n",
        "from vertexai.types import (\n",
        "    MemoryBankCustomizationConfigGenerateMemoriesExample as GenerateMemoriesExample,\n",
        ")\n",
        "from vertexai.types import (\n",
        "    MemoryBankCustomizationConfigGenerateMemoriesExampleConversationSource as ConversationSource,\n",
        ")\n",
        "from vertexai.types import (\n",
        "    MemoryBankCustomizationConfigGenerateMemoriesExampleConversationSourceEvent as ConversationSourceEvent,\n",
        ")\n",
        "from vertexai.types import (\n",
        "    MemoryBankCustomizationConfigGenerateMemoriesExampleGeneratedMemory as ExampleGeneratedMemory,\n",
        ")\n",
        "from vertexai.types import MemoryBankCustomizationConfigMemoryTopic as MemoryTopic\n",
        "from vertexai.types import (\n",
        "    MemoryBankCustomizationConfigMemoryTopicCustomMemoryTopic as CustomMemoryTopic,\n",
        ")\n",
        "\n",
        "memory_topic = MemoryTopic(\n",
        "    custom_memory_topic=CustomMemoryTopic(\n",
        "        label=\"business_feedback\",\n",
        "        description=\"\"\"Specific user feedback about their experience at\n",
        "the coffee shop. This includes opinions on drinks, food, pastries, ambiance,\n",
        "staff friendliness, service speed, cleanliness, and any suggestions for\n",
        "improvement.\"\"\",\n",
        "    )\n",
        ")\n",
        "\n",
        "\n",
        "example = GenerateMemoriesExample(\n",
        "    conversation_source=ConversationSource(\n",
        "        events=[\n",
        "            ConversationSourceEvent(\n",
        "                content=Content(\n",
        "                    role=\"model\",\n",
        "                    parts=[\n",
        "                        Part(\n",
        "                            text=\"Welcome back to The Daily Grind! We'd love to hear your feedback on your visit.\"\n",
        "                        )\n",
        "                    ],\n",
        "                )\n",
        "            ),\n",
        "            ConversationSourceEvent(\n",
        "                content=Content(\n",
        "                    role=\"user\",\n",
        "                    parts=[\n",
        "                        Part(\n",
        "                            text=\"Hey. The drip coffee was a bit lukewarm today, which was a bummer. Also, the music was way too loud, I could barely hear my friend.\"\n",
        "                        )\n",
        "                    ],\n",
        "                )\n",
        "            ),\n",
        "        ]\n",
        "    ),\n",
        "    generated_memories=[\n",
        "        ExampleGeneratedMemory(\n",
        "            fact=\"The user reported that the drip coffee was lukewarm.\"\n",
        "        ),\n",
        "        ExampleGeneratedMemory(\n",
        "            fact=\"The user felt the music in the shop was too loud.\"\n",
        "        ),\n",
        "    ],\n",
        ")\n",
        "\n",
        "noop_example = GenerateMemoriesExample(\n",
        "    conversation_source=ConversationSource(\n",
        "        events=[\n",
        "            ConversationSourceEvent(\n",
        "                content=Content(\n",
        "                    role=\"model\",\n",
        "                    parts=[\n",
        "                        Part(\n",
        "                            text=\"Welcome back to The Daily Grind! We'd love to hear your feedback on your visit.\"\n",
        "                        )\n",
        "                    ],\n",
        "                )\n",
        "            ),\n",
        "            ConversationSourceEvent(\n",
        "                content=Content(\n",
        "                    role=\"user\", parts=[Part(text=\"Thanks for the coffee!\")]\n",
        "                )\n",
        "            ),\n",
        "        ]\n",
        "    ),\n",
        "    generated_memories=[],\n",
        ")\n",
        "\n",
        "client.agent_engines.update(\n",
        "    name=agent_engine.api_resource.name,\n",
        "    config={\n",
        "        \"context_spec\": {\n",
        "            \"memory_bank_config\": {\n",
        "                \"customization_configs\": [\n",
        "                    CustomizationConfig(\n",
        "                        memory_topics=[memory_topic],\n",
        "                        generate_memories_examples=[example, noop_example],\n",
        "                    )\n",
        "                ],\n",
        "            }\n",
        "        }\n",
        "    },\n",
        ")"
      ]
    },
    {
      "cell_type": "code",
      "execution_count": 41,
      "metadata": {
        "colab": {
          "base_uri": "https://localhost:8080/"
        },
        "id": "XE783Z_TDHC_",
        "outputId": "113c50f8-e650-466b-8fcf-a6983017f1e1"
      },
      "outputs": [
        {
          "output_type": "execute_result",
          "data": {
            "text/plain": [
              "AgentEngineGenerateMemoriesOperation(\n",
              "  done=True,\n",
              "  metadata={\n",
              "    '@type': 'type.googleapis.com/google.cloud.aiplatform.v1beta1.GenerateMemoriesOperationMetadata',\n",
              "    'genericMetadata': {\n",
              "      'createTime': '2025-10-21T18:14:33.909493Z',\n",
              "      'updateTime': '2025-10-21T18:14:36.175732Z'\n",
              "    }\n",
              "  },\n",
              "  name='projects/507092439621/locations/us-central1/reasoningEngines/241140492157321216/operations/8200386229393424384',\n",
              "  response=GenerateMemoriesResponse(\n",
              "    generated_memories=[\n",
              "      GenerateMemoriesResponseGeneratedMemory(\n",
              "        action=<GenerateMemoriesResponseGeneratedMemoryAction.CREATED: 'CREATED'>,\n",
              "        memory=Memory(\n",
              "          name='projects/507092439621/locations/us-central1/reasoningEngines/241140492157321216/memories/5433781516666667008'\n",
              "        )\n",
              "      ),\n",
              "    ]\n",
              "  )\n",
              ")"
            ]
          },
          "metadata": {},
          "execution_count": 41
        }
      ],
      "source": [
        "client.agent_engines.memories.generate(\n",
        "    scope={\"user_id\": \"123\"},\n",
        "    name=agent_engine.api_resource.name,\n",
        "    direct_contents_source={\n",
        "        \"events\": [\n",
        "            {\n",
        "                \"content\": {\n",
        "                    \"role\": \"user\",\n",
        "                    \"parts\": [{\"text\": \"I prefer the aisle seat\"}],\n",
        "                }\n",
        "            }\n",
        "        ]\n",
        "    },\n",
        ")"
      ]
    },
    {
      "cell_type": "code",
      "execution_count": 42,
      "metadata": {
        "colab": {
          "base_uri": "https://localhost:8080/"
        },
        "id": "u1j8iPHBdg6n",
        "outputId": "f22d2b07-ce35-4231-fc00-2fd6cff0a7a1"
      },
      "outputs": [
        {
          "output_type": "execute_result",
          "data": {
            "text/plain": [
              "AgentEngineGenerateMemoriesOperation(\n",
              "  done=True,\n",
              "  metadata={\n",
              "    '@type': 'type.googleapis.com/google.cloud.aiplatform.v1beta1.GenerateMemoriesOperationMetadata',\n",
              "    'genericMetadata': {\n",
              "      'createTime': '2025-10-21T18:14:40.858286Z',\n",
              "      'updateTime': '2025-10-21T18:14:43.162246Z'\n",
              "    }\n",
              "  },\n",
              "  name='projects/507092439621/locations/us-central1/reasoningEngines/241140492157321216/operations/8439077009644060672'\n",
              ")"
            ]
          },
          "metadata": {},
          "execution_count": 42
        }
      ],
      "source": [
        "import vertexai\n",
        "\n",
        "client.agent_engines.memories.generate(\n",
        "    scope={\"user_id\": \"123\"},\n",
        "    name=agent_engine.api_resource.name,\n",
        "    direct_contents_source={\n",
        "        \"events\": [\n",
        "            {\n",
        "                \"content\": {\n",
        "                    \"role\": \"user\",\n",
        "                    \"parts\": [{\"text\": \"You should have almond milk\"}],\n",
        "                }\n",
        "            }\n",
        "        ]\n",
        "    },\n",
        ")"
      ]
    },
    {
      "cell_type": "code",
      "execution_count": 43,
      "metadata": {
        "colab": {
          "base_uri": "https://localhost:8080/"
        },
        "id": "DJ7v62dIePo9",
        "outputId": "4ff480fb-f6ac-4260-880f-1dd4e62fb574"
      },
      "outputs": [
        {
          "output_type": "execute_result",
          "data": {
            "text/plain": [
              "[RetrieveMemoriesResponseRetrievedMemory(\n",
              "   memory=Memory(\n",
              "     create_time=datetime.datetime(2025, 10, 21, 18, 14, 35, 115215, tzinfo=TzInfo(UTC)),\n",
              "     fact='I prefer the aisle seat.',\n",
              "     name='projects/507092439621/locations/us-central1/reasoningEngines/241140492157321216/memories/5433781516666667008',\n",
              "     scope={\n",
              "       'user_id': '123'\n",
              "     },\n",
              "     update_time=datetime.datetime(2025, 10, 21, 18, 14, 35, 115215, tzinfo=TzInfo(UTC))\n",
              "   )\n",
              " )]"
            ]
          },
          "metadata": {},
          "execution_count": 43
        }
      ],
      "source": [
        "list(\n",
        "    client.agent_engines.memories.retrieve(\n",
        "        name=agent_engine.api_resource.name, scope={\"user_id\": \"123\"}\n",
        "    )\n",
        ")"
      ]
    },
    {
      "cell_type": "markdown",
      "metadata": {
        "id": "KVPXrs2GS_ZJ"
      },
      "source": [
        "### Dynamic TTL\n",
        "\n",
        "You can also configure Memory Bank to automatically set the TTL for any generated or manually created (or updated) memories."
      ]
    },
    {
      "cell_type": "markdown",
      "metadata": {
        "id": "Dtf5AcltTV2I"
      },
      "source": [
        "#### Default TTL\n",
        "\n",
        "Default TTL applies to all operations that create or update a Memory."
      ]
    },
    {
      "cell_type": "code",
      "execution_count": 44,
      "metadata": {
        "colab": {
          "base_uri": "https://localhost:8080/"
        },
        "id": "vQZKHD-TS-qD",
        "outputId": "f81d6195-c86e-4caf-a056-6e0794f2d8fe"
      },
      "outputs": [
        {
          "output_type": "stream",
          "name": "stderr",
          "text": [
            "INFO:vertexai_genai.agentengines:View progress and logs at https://console.cloud.google.com/logs/query?project=zawadi-tunu-475816.\n",
            "INFO:vertexai_genai.agentengines:Agent Engine updated. To use it in another session:\n",
            "INFO:vertexai_genai.agentengines:agent_engine=client.agent_engines.get('projects/507092439621/locations/us-central1/reasoningEngines/241140492157321216')\n"
          ]
        },
        {
          "output_type": "execute_result",
          "data": {
            "text/plain": [
              "AgentEngine(api_resource.name='projects/507092439621/locations/us-central1/reasoningEngines/241140492157321216')"
            ]
          },
          "metadata": {},
          "execution_count": 44
        }
      ],
      "source": [
        "client.agent_engines.update(\n",
        "    name=agent_engine.api_resource.name,\n",
        "    config={\n",
        "        \"context_spec\": {\n",
        "            \"memory_bank_config\": {\n",
        "                \"ttl_config\": {\n",
        "                    # 30 days\n",
        "                    \"default_ttl\": f\"{60 * 60 * 24 * 30}s\"\n",
        "                }\n",
        "            }\n",
        "        }\n",
        "    },\n",
        ")"
      ]
    },
    {
      "cell_type": "code",
      "execution_count": 45,
      "metadata": {
        "colab": {
          "base_uri": "https://localhost:8080/"
        },
        "id": "vICeAqPyCaT0",
        "outputId": "63ee99ac-d389-4f75-9989-3f1349186e99"
      },
      "outputs": [
        {
          "output_type": "execute_result",
          "data": {
            "text/plain": [
              "Memory(\n",
              "  create_time=datetime.datetime(2025, 10, 21, 17, 52, 18, 443509, tzinfo=TzInfo(UTC)),\n",
              "  expire_time=datetime.datetime(2025, 11, 20, 18, 14, 56, 356299, tzinfo=TzInfo(UTC)),\n",
              "  fact='I have four nieces.',\n",
              "  name='projects/507092439621/locations/us-central1/reasoningEngines/241140492157321216/memories/1470613844580630528',\n",
              "  scope={\n",
              "    'user_id': 'My User'\n",
              "  },\n",
              "  update_time=datetime.datetime(2025, 10, 21, 18, 14, 56, 359695, tzinfo=TzInfo(UTC))\n",
              ")"
            ]
          },
          "metadata": {},
          "execution_count": 45
        }
      ],
      "source": [
        "response = client.agent_engines.memories.generate(\n",
        "    scope={\"user_id\": USER_ID},\n",
        "    name=agent_engine.api_resource.name,\n",
        "    direct_contents_source={\n",
        "        \"events\": [\n",
        "            {\"content\": {\"role\": \"user\", \"parts\": [{\"text\": \"I have four nieces!\"}]}}\n",
        "        ]\n",
        "    },\n",
        "    config={\"wait_for_completion\": True},\n",
        ")\n",
        "\n",
        "client.agent_engines.memories.get(\n",
        "    name=response.response.generated_memories[0].memory.name\n",
        ")"
      ]
    },
    {
      "cell_type": "markdown",
      "metadata": {
        "id": "Oa0A4ogWT8BM"
      },
      "source": [
        "#### Granular TTL\n",
        "\n",
        "The TTL is calculated based on which operation created or updated the Memory. If not set for a given operation, then the operation won't update the Memory's expiration time.\n",
        "\n",
        "Parameters include:\n",
        " * `create_ttl`: Applies to Memories created with CreateMemory operations\n",
        " * `generate_created_ttl`: Applies to Memories created with GenerateMemories\n",
        " * `generate_updated_ttl`: Applies to Memories updated with GenerateMemories"
      ]
    },
    {
      "cell_type": "code",
      "execution_count": 46,
      "metadata": {
        "colab": {
          "base_uri": "https://localhost:8080/"
        },
        "id": "3g02gtyrT7fG",
        "outputId": "fa01bca8-b319-42b7-add3-ccc038195696"
      },
      "outputs": [
        {
          "output_type": "stream",
          "name": "stderr",
          "text": [
            "INFO:vertexai_genai.agentengines:View progress and logs at https://console.cloud.google.com/logs/query?project=zawadi-tunu-475816.\n",
            "INFO:vertexai_genai.agentengines:Agent Engine updated. To use it in another session:\n",
            "INFO:vertexai_genai.agentengines:agent_engine=client.agent_engines.get('projects/507092439621/locations/us-central1/reasoningEngines/241140492157321216')\n"
          ]
        },
        {
          "output_type": "execute_result",
          "data": {
            "text/plain": [
              "AgentEngine(api_resource.name='projects/507092439621/locations/us-central1/reasoningEngines/241140492157321216')"
            ]
          },
          "metadata": {},
          "execution_count": 46
        }
      ],
      "source": [
        "client.agent_engines.update(\n",
        "    name=agent_engine.api_resource.name,\n",
        "    config={\n",
        "        \"context_spec\": {\n",
        "            \"memory_bank_config\": {\n",
        "                \"ttl_config\": {\n",
        "                    \"granular_ttl_config\": {\n",
        "                        # 365 days\n",
        "                        \"generate_created_ttl\": f\"{24 * 60 * 60 * 365}s\",\n",
        "                    }\n",
        "                }\n",
        "            }\n",
        "        }\n",
        "    },\n",
        ")"
      ]
    },
    {
      "cell_type": "code",
      "execution_count": 47,
      "metadata": {
        "colab": {
          "base_uri": "https://localhost:8080/"
        },
        "id": "dT3ffaBksw99",
        "outputId": "90bcc98d-422e-40d9-b061-c8afe7b2f028"
      },
      "outputs": [
        {
          "output_type": "execute_result",
          "data": {
            "text/plain": [
              "Memory(\n",
              "  create_time=datetime.datetime(2025, 10, 21, 18, 15, 6, 379921, tzinfo=TzInfo(UTC)),\n",
              "  expire_time=datetime.datetime(2026, 10, 21, 18, 15, 6, 372786, tzinfo=TzInfo(UTC)),\n",
              "  fact='I work at Zindua School.',\n",
              "  name='projects/507092439621/locations/us-central1/reasoningEngines/241140492157321216/memories/7397350954200203264',\n",
              "  scope={\n",
              "    'user_id': 'My User'\n",
              "  },\n",
              "  update_time=datetime.datetime(2025, 10, 21, 18, 15, 6, 379921, tzinfo=TzInfo(UTC))\n",
              ")"
            ]
          },
          "metadata": {},
          "execution_count": 47
        }
      ],
      "source": [
        "response = client.agent_engines.memories.generate(\n",
        "    scope={\"user_id\": USER_ID},\n",
        "    name=agent_engine.api_resource.name,\n",
        "    direct_contents_source={\n",
        "        \"events\": [\n",
        "            {\n",
        "                \"content\": {\n",
        "                    \"role\": \"user\",\n",
        "                    \"parts\": [{\"text\": \"Remember that I work at Zindua School!\"}],\n",
        "                }\n",
        "            }\n",
        "        ]\n",
        "    },\n",
        ")\n",
        "\n",
        "client.agent_engines.memories.get(\n",
        "    name=response.response.generated_memories[0].memory.name\n",
        ")"
      ]
    },
    {
      "cell_type": "code",
      "execution_count": 48,
      "metadata": {
        "colab": {
          "base_uri": "https://localhost:8080/",
          "height": 373
        },
        "id": "O6UGzBpCTpHB",
        "outputId": "4f1a40b2-61e2-4585-f08d-a9fbc3954691"
      },
      "outputs": [
        {
          "output_type": "error",
          "ename": "ClientError",
          "evalue": "404 NOT_FOUND. {'error': {'code': 404, 'message': 'Memory projects/507092439621/locations/us-central1/reasoningEngines/241140492157321216/memories/7397350954200203264 was not found.', 'status': 'NOT_FOUND'}}",
          "traceback": [
            "\u001b[0;31m---------------------------------------------------------------------------\u001b[0m",
            "\u001b[0;31mClientError\u001b[0m                               Traceback (most recent call last)",
            "\u001b[0;32m/tmp/ipython-input-722357756.py\u001b[0m in \u001b[0;36m<cell line: 0>\u001b[0;34m()\u001b[0m\n\u001b[1;32m      9\u001b[0m )\n\u001b[1;32m     10\u001b[0m \u001b[0;34m\u001b[0m\u001b[0m\n\u001b[0;32m---> 11\u001b[0;31m client.agent_engines.memories.get(\n\u001b[0m\u001b[1;32m     12\u001b[0m     \u001b[0mname\u001b[0m\u001b[0;34m=\u001b[0m\u001b[0mresponse\u001b[0m\u001b[0;34m.\u001b[0m\u001b[0mresponse\u001b[0m\u001b[0;34m.\u001b[0m\u001b[0mgenerated_memories\u001b[0m\u001b[0;34m[\u001b[0m\u001b[0;36m0\u001b[0m\u001b[0;34m]\u001b[0m\u001b[0;34m.\u001b[0m\u001b[0mmemory\u001b[0m\u001b[0;34m.\u001b[0m\u001b[0mname\u001b[0m\u001b[0;34m\u001b[0m\u001b[0;34m\u001b[0m\u001b[0m\n\u001b[1;32m     13\u001b[0m )\n",
            "\u001b[0;32m/usr/local/lib/python3.12/dist-packages/vertexai/_genai/memories.py\u001b[0m in \u001b[0;36mget\u001b[0;34m(self, name, config)\u001b[0m\n\u001b[1;32m    592\u001b[0m         \u001b[0mrequest_dict\u001b[0m \u001b[0;34m=\u001b[0m \u001b[0m_common\u001b[0m\u001b[0;34m.\u001b[0m\u001b[0mencode_unserializable_types\u001b[0m\u001b[0;34m(\u001b[0m\u001b[0mrequest_dict\u001b[0m\u001b[0;34m)\u001b[0m\u001b[0;34m\u001b[0m\u001b[0;34m\u001b[0m\u001b[0m\n\u001b[1;32m    593\u001b[0m \u001b[0;34m\u001b[0m\u001b[0m\n\u001b[0;32m--> 594\u001b[0;31m         \u001b[0mresponse\u001b[0m \u001b[0;34m=\u001b[0m \u001b[0mself\u001b[0m\u001b[0;34m.\u001b[0m\u001b[0m_api_client\u001b[0m\u001b[0;34m.\u001b[0m\u001b[0mrequest\u001b[0m\u001b[0;34m(\u001b[0m\u001b[0;34m\"get\"\u001b[0m\u001b[0;34m,\u001b[0m \u001b[0mpath\u001b[0m\u001b[0;34m,\u001b[0m \u001b[0mrequest_dict\u001b[0m\u001b[0;34m,\u001b[0m \u001b[0mhttp_options\u001b[0m\u001b[0;34m)\u001b[0m\u001b[0;34m\u001b[0m\u001b[0;34m\u001b[0m\u001b[0m\n\u001b[0m\u001b[1;32m    595\u001b[0m \u001b[0;34m\u001b[0m\u001b[0m\n\u001b[1;32m    596\u001b[0m         \u001b[0mresponse_dict\u001b[0m \u001b[0;34m=\u001b[0m \u001b[0;34m{\u001b[0m\u001b[0;34m}\u001b[0m \u001b[0;32mif\u001b[0m \u001b[0;32mnot\u001b[0m \u001b[0mresponse\u001b[0m\u001b[0;34m.\u001b[0m\u001b[0mbody\u001b[0m \u001b[0;32melse\u001b[0m \u001b[0mjson\u001b[0m\u001b[0;34m.\u001b[0m\u001b[0mloads\u001b[0m\u001b[0;34m(\u001b[0m\u001b[0mresponse\u001b[0m\u001b[0;34m.\u001b[0m\u001b[0mbody\u001b[0m\u001b[0;34m)\u001b[0m\u001b[0;34m\u001b[0m\u001b[0;34m\u001b[0m\u001b[0m\n",
            "\u001b[0;32m/usr/local/lib/python3.12/dist-packages/google/genai/_api_client.py\u001b[0m in \u001b[0;36mrequest\u001b[0;34m(self, http_method, path, request_dict, http_options)\u001b[0m\n\u001b[1;32m   1304\u001b[0m         \u001b[0mhttp_method\u001b[0m\u001b[0;34m,\u001b[0m \u001b[0mpath\u001b[0m\u001b[0;34m,\u001b[0m \u001b[0mrequest_dict\u001b[0m\u001b[0;34m,\u001b[0m \u001b[0mhttp_options\u001b[0m\u001b[0;34m\u001b[0m\u001b[0;34m\u001b[0m\u001b[0m\n\u001b[1;32m   1305\u001b[0m     )\n\u001b[0;32m-> 1306\u001b[0;31m     \u001b[0mresponse\u001b[0m \u001b[0;34m=\u001b[0m \u001b[0mself\u001b[0m\u001b[0;34m.\u001b[0m\u001b[0m_request\u001b[0m\u001b[0;34m(\u001b[0m\u001b[0mhttp_request\u001b[0m\u001b[0;34m,\u001b[0m \u001b[0mhttp_options\u001b[0m\u001b[0;34m,\u001b[0m \u001b[0mstream\u001b[0m\u001b[0;34m=\u001b[0m\u001b[0;32mFalse\u001b[0m\u001b[0;34m)\u001b[0m\u001b[0;34m\u001b[0m\u001b[0;34m\u001b[0m\u001b[0m\n\u001b[0m\u001b[1;32m   1307\u001b[0m     response_body = (\n\u001b[1;32m   1308\u001b[0m         \u001b[0mresponse\u001b[0m\u001b[0;34m.\u001b[0m\u001b[0mresponse_stream\u001b[0m\u001b[0;34m[\u001b[0m\u001b[0;36m0\u001b[0m\u001b[0;34m]\u001b[0m \u001b[0;32mif\u001b[0m \u001b[0mresponse\u001b[0m\u001b[0;34m.\u001b[0m\u001b[0mresponse_stream\u001b[0m \u001b[0;32melse\u001b[0m \u001b[0;34m''\u001b[0m\u001b[0;34m\u001b[0m\u001b[0;34m\u001b[0m\u001b[0m\n",
            "\u001b[0;32m/usr/local/lib/python3.12/dist-packages/google/genai/_api_client.py\u001b[0m in \u001b[0;36m_request\u001b[0;34m(self, http_request, http_options, stream)\u001b[0m\n\u001b[1;32m   1140\u001b[0m         \u001b[0;32mreturn\u001b[0m \u001b[0mretry\u001b[0m\u001b[0;34m(\u001b[0m\u001b[0mself\u001b[0m\u001b[0;34m.\u001b[0m\u001b[0m_request_once\u001b[0m\u001b[0;34m,\u001b[0m \u001b[0mhttp_request\u001b[0m\u001b[0;34m,\u001b[0m \u001b[0mstream\u001b[0m\u001b[0;34m)\u001b[0m  \u001b[0;31m# type: ignore[no-any-return]\u001b[0m\u001b[0;34m\u001b[0m\u001b[0;34m\u001b[0m\u001b[0m\n\u001b[1;32m   1141\u001b[0m \u001b[0;34m\u001b[0m\u001b[0m\n\u001b[0;32m-> 1142\u001b[0;31m     \u001b[0;32mreturn\u001b[0m \u001b[0mself\u001b[0m\u001b[0;34m.\u001b[0m\u001b[0m_retry\u001b[0m\u001b[0;34m(\u001b[0m\u001b[0mself\u001b[0m\u001b[0;34m.\u001b[0m\u001b[0m_request_once\u001b[0m\u001b[0;34m,\u001b[0m \u001b[0mhttp_request\u001b[0m\u001b[0;34m,\u001b[0m \u001b[0mstream\u001b[0m\u001b[0;34m)\u001b[0m  \u001b[0;31m# type: ignore[no-any-return]\u001b[0m\u001b[0;34m\u001b[0m\u001b[0;34m\u001b[0m\u001b[0m\n\u001b[0m\u001b[1;32m   1143\u001b[0m \u001b[0;34m\u001b[0m\u001b[0m\n\u001b[1;32m   1144\u001b[0m   async def _async_request_once(\n",
            "\u001b[0;32m/usr/local/lib/python3.12/dist-packages/tenacity/__init__.py\u001b[0m in \u001b[0;36m__call__\u001b[0;34m(self, fn, *args, **kwargs)\u001b[0m\n\u001b[1;32m    473\u001b[0m         \u001b[0mretry_state\u001b[0m \u001b[0;34m=\u001b[0m \u001b[0mRetryCallState\u001b[0m\u001b[0;34m(\u001b[0m\u001b[0mretry_object\u001b[0m\u001b[0;34m=\u001b[0m\u001b[0mself\u001b[0m\u001b[0;34m,\u001b[0m \u001b[0mfn\u001b[0m\u001b[0;34m=\u001b[0m\u001b[0mfn\u001b[0m\u001b[0;34m,\u001b[0m \u001b[0margs\u001b[0m\u001b[0;34m=\u001b[0m\u001b[0margs\u001b[0m\u001b[0;34m,\u001b[0m \u001b[0mkwargs\u001b[0m\u001b[0;34m=\u001b[0m\u001b[0mkwargs\u001b[0m\u001b[0;34m)\u001b[0m\u001b[0;34m\u001b[0m\u001b[0;34m\u001b[0m\u001b[0m\n\u001b[1;32m    474\u001b[0m         \u001b[0;32mwhile\u001b[0m \u001b[0;32mTrue\u001b[0m\u001b[0;34m:\u001b[0m\u001b[0;34m\u001b[0m\u001b[0;34m\u001b[0m\u001b[0m\n\u001b[0;32m--> 475\u001b[0;31m             \u001b[0mdo\u001b[0m \u001b[0;34m=\u001b[0m \u001b[0mself\u001b[0m\u001b[0;34m.\u001b[0m\u001b[0miter\u001b[0m\u001b[0;34m(\u001b[0m\u001b[0mretry_state\u001b[0m\u001b[0;34m=\u001b[0m\u001b[0mretry_state\u001b[0m\u001b[0;34m)\u001b[0m\u001b[0;34m\u001b[0m\u001b[0;34m\u001b[0m\u001b[0m\n\u001b[0m\u001b[1;32m    476\u001b[0m             \u001b[0;32mif\u001b[0m \u001b[0misinstance\u001b[0m\u001b[0;34m(\u001b[0m\u001b[0mdo\u001b[0m\u001b[0;34m,\u001b[0m \u001b[0mDoAttempt\u001b[0m\u001b[0;34m)\u001b[0m\u001b[0;34m:\u001b[0m\u001b[0;34m\u001b[0m\u001b[0;34m\u001b[0m\u001b[0m\n\u001b[1;32m    477\u001b[0m                 \u001b[0;32mtry\u001b[0m\u001b[0;34m:\u001b[0m\u001b[0;34m\u001b[0m\u001b[0;34m\u001b[0m\u001b[0m\n",
            "\u001b[0;32m/usr/local/lib/python3.12/dist-packages/tenacity/__init__.py\u001b[0m in \u001b[0;36miter\u001b[0;34m(self, retry_state)\u001b[0m\n\u001b[1;32m    374\u001b[0m         \u001b[0mresult\u001b[0m \u001b[0;34m=\u001b[0m \u001b[0;32mNone\u001b[0m\u001b[0;34m\u001b[0m\u001b[0;34m\u001b[0m\u001b[0m\n\u001b[1;32m    375\u001b[0m         \u001b[0;32mfor\u001b[0m \u001b[0maction\u001b[0m \u001b[0;32min\u001b[0m \u001b[0mself\u001b[0m\u001b[0;34m.\u001b[0m\u001b[0miter_state\u001b[0m\u001b[0;34m.\u001b[0m\u001b[0mactions\u001b[0m\u001b[0;34m:\u001b[0m\u001b[0;34m\u001b[0m\u001b[0;34m\u001b[0m\u001b[0m\n\u001b[0;32m--> 376\u001b[0;31m             \u001b[0mresult\u001b[0m \u001b[0;34m=\u001b[0m \u001b[0maction\u001b[0m\u001b[0;34m(\u001b[0m\u001b[0mretry_state\u001b[0m\u001b[0;34m)\u001b[0m\u001b[0;34m\u001b[0m\u001b[0;34m\u001b[0m\u001b[0m\n\u001b[0m\u001b[1;32m    377\u001b[0m         \u001b[0;32mreturn\u001b[0m \u001b[0mresult\u001b[0m\u001b[0;34m\u001b[0m\u001b[0;34m\u001b[0m\u001b[0m\n\u001b[1;32m    378\u001b[0m \u001b[0;34m\u001b[0m\u001b[0m\n",
            "\u001b[0;32m/usr/local/lib/python3.12/dist-packages/tenacity/__init__.py\u001b[0m in \u001b[0;36mexc_check\u001b[0;34m(rs)\u001b[0m\n\u001b[1;32m    416\u001b[0m                 \u001b[0mretry_exc\u001b[0m \u001b[0;34m=\u001b[0m \u001b[0mself\u001b[0m\u001b[0;34m.\u001b[0m\u001b[0mretry_error_cls\u001b[0m\u001b[0;34m(\u001b[0m\u001b[0mfut\u001b[0m\u001b[0;34m)\u001b[0m\u001b[0;34m\u001b[0m\u001b[0;34m\u001b[0m\u001b[0m\n\u001b[1;32m    417\u001b[0m                 \u001b[0;32mif\u001b[0m \u001b[0mself\u001b[0m\u001b[0;34m.\u001b[0m\u001b[0mreraise\u001b[0m\u001b[0;34m:\u001b[0m\u001b[0;34m\u001b[0m\u001b[0;34m\u001b[0m\u001b[0m\n\u001b[0;32m--> 418\u001b[0;31m                     \u001b[0;32mraise\u001b[0m \u001b[0mretry_exc\u001b[0m\u001b[0;34m.\u001b[0m\u001b[0mreraise\u001b[0m\u001b[0;34m(\u001b[0m\u001b[0;34m)\u001b[0m\u001b[0;34m\u001b[0m\u001b[0;34m\u001b[0m\u001b[0m\n\u001b[0m\u001b[1;32m    419\u001b[0m                 \u001b[0;32mraise\u001b[0m \u001b[0mretry_exc\u001b[0m \u001b[0;32mfrom\u001b[0m \u001b[0mfut\u001b[0m\u001b[0;34m.\u001b[0m\u001b[0mexception\u001b[0m\u001b[0;34m(\u001b[0m\u001b[0;34m)\u001b[0m\u001b[0;34m\u001b[0m\u001b[0;34m\u001b[0m\u001b[0m\n\u001b[1;32m    420\u001b[0m \u001b[0;34m\u001b[0m\u001b[0m\n",
            "\u001b[0;32m/usr/local/lib/python3.12/dist-packages/tenacity/__init__.py\u001b[0m in \u001b[0;36mreraise\u001b[0;34m(self)\u001b[0m\n\u001b[1;32m    183\u001b[0m     \u001b[0;32mdef\u001b[0m \u001b[0mreraise\u001b[0m\u001b[0;34m(\u001b[0m\u001b[0mself\u001b[0m\u001b[0;34m)\u001b[0m \u001b[0;34m->\u001b[0m \u001b[0mt\u001b[0m\u001b[0;34m.\u001b[0m\u001b[0mNoReturn\u001b[0m\u001b[0;34m:\u001b[0m\u001b[0;34m\u001b[0m\u001b[0;34m\u001b[0m\u001b[0m\n\u001b[1;32m    184\u001b[0m         \u001b[0;32mif\u001b[0m \u001b[0mself\u001b[0m\u001b[0;34m.\u001b[0m\u001b[0mlast_attempt\u001b[0m\u001b[0;34m.\u001b[0m\u001b[0mfailed\u001b[0m\u001b[0;34m:\u001b[0m\u001b[0;34m\u001b[0m\u001b[0;34m\u001b[0m\u001b[0m\n\u001b[0;32m--> 185\u001b[0;31m             \u001b[0;32mraise\u001b[0m \u001b[0mself\u001b[0m\u001b[0;34m.\u001b[0m\u001b[0mlast_attempt\u001b[0m\u001b[0;34m.\u001b[0m\u001b[0mresult\u001b[0m\u001b[0;34m(\u001b[0m\u001b[0;34m)\u001b[0m\u001b[0;34m\u001b[0m\u001b[0;34m\u001b[0m\u001b[0m\n\u001b[0m\u001b[1;32m    186\u001b[0m         \u001b[0;32mraise\u001b[0m \u001b[0mself\u001b[0m\u001b[0;34m\u001b[0m\u001b[0;34m\u001b[0m\u001b[0m\n\u001b[1;32m    187\u001b[0m \u001b[0;34m\u001b[0m\u001b[0m\n",
            "\u001b[0;32m/usr/lib/python3.12/concurrent/futures/_base.py\u001b[0m in \u001b[0;36mresult\u001b[0;34m(self, timeout)\u001b[0m\n\u001b[1;32m    447\u001b[0m                     \u001b[0;32mraise\u001b[0m \u001b[0mCancelledError\u001b[0m\u001b[0;34m(\u001b[0m\u001b[0;34m)\u001b[0m\u001b[0;34m\u001b[0m\u001b[0;34m\u001b[0m\u001b[0m\n\u001b[1;32m    448\u001b[0m                 \u001b[0;32melif\u001b[0m \u001b[0mself\u001b[0m\u001b[0;34m.\u001b[0m\u001b[0m_state\u001b[0m \u001b[0;34m==\u001b[0m \u001b[0mFINISHED\u001b[0m\u001b[0;34m:\u001b[0m\u001b[0;34m\u001b[0m\u001b[0;34m\u001b[0m\u001b[0m\n\u001b[0;32m--> 449\u001b[0;31m                     \u001b[0;32mreturn\u001b[0m \u001b[0mself\u001b[0m\u001b[0;34m.\u001b[0m\u001b[0m__get_result\u001b[0m\u001b[0;34m(\u001b[0m\u001b[0;34m)\u001b[0m\u001b[0;34m\u001b[0m\u001b[0;34m\u001b[0m\u001b[0m\n\u001b[0m\u001b[1;32m    450\u001b[0m \u001b[0;34m\u001b[0m\u001b[0m\n\u001b[1;32m    451\u001b[0m                 \u001b[0mself\u001b[0m\u001b[0;34m.\u001b[0m\u001b[0m_condition\u001b[0m\u001b[0;34m.\u001b[0m\u001b[0mwait\u001b[0m\u001b[0;34m(\u001b[0m\u001b[0mtimeout\u001b[0m\u001b[0;34m)\u001b[0m\u001b[0;34m\u001b[0m\u001b[0;34m\u001b[0m\u001b[0m\n",
            "\u001b[0;32m/usr/lib/python3.12/concurrent/futures/_base.py\u001b[0m in \u001b[0;36m__get_result\u001b[0;34m(self)\u001b[0m\n\u001b[1;32m    399\u001b[0m         \u001b[0;32mif\u001b[0m \u001b[0mself\u001b[0m\u001b[0;34m.\u001b[0m\u001b[0m_exception\u001b[0m\u001b[0;34m:\u001b[0m\u001b[0;34m\u001b[0m\u001b[0;34m\u001b[0m\u001b[0m\n\u001b[1;32m    400\u001b[0m             \u001b[0;32mtry\u001b[0m\u001b[0;34m:\u001b[0m\u001b[0;34m\u001b[0m\u001b[0;34m\u001b[0m\u001b[0m\n\u001b[0;32m--> 401\u001b[0;31m                 \u001b[0;32mraise\u001b[0m \u001b[0mself\u001b[0m\u001b[0;34m.\u001b[0m\u001b[0m_exception\u001b[0m\u001b[0;34m\u001b[0m\u001b[0;34m\u001b[0m\u001b[0m\n\u001b[0m\u001b[1;32m    402\u001b[0m             \u001b[0;32mfinally\u001b[0m\u001b[0;34m:\u001b[0m\u001b[0;34m\u001b[0m\u001b[0;34m\u001b[0m\u001b[0m\n\u001b[1;32m    403\u001b[0m                 \u001b[0;31m# Break a reference cycle with the exception in self._exception\u001b[0m\u001b[0;34m\u001b[0m\u001b[0;34m\u001b[0m\u001b[0m\n",
            "\u001b[0;32m/usr/local/lib/python3.12/dist-packages/tenacity/__init__.py\u001b[0m in \u001b[0;36m__call__\u001b[0;34m(self, fn, *args, **kwargs)\u001b[0m\n\u001b[1;32m    476\u001b[0m             \u001b[0;32mif\u001b[0m \u001b[0misinstance\u001b[0m\u001b[0;34m(\u001b[0m\u001b[0mdo\u001b[0m\u001b[0;34m,\u001b[0m \u001b[0mDoAttempt\u001b[0m\u001b[0;34m)\u001b[0m\u001b[0;34m:\u001b[0m\u001b[0;34m\u001b[0m\u001b[0;34m\u001b[0m\u001b[0m\n\u001b[1;32m    477\u001b[0m                 \u001b[0;32mtry\u001b[0m\u001b[0;34m:\u001b[0m\u001b[0;34m\u001b[0m\u001b[0;34m\u001b[0m\u001b[0m\n\u001b[0;32m--> 478\u001b[0;31m                     \u001b[0mresult\u001b[0m \u001b[0;34m=\u001b[0m \u001b[0mfn\u001b[0m\u001b[0;34m(\u001b[0m\u001b[0;34m*\u001b[0m\u001b[0margs\u001b[0m\u001b[0;34m,\u001b[0m \u001b[0;34m**\u001b[0m\u001b[0mkwargs\u001b[0m\u001b[0;34m)\u001b[0m\u001b[0;34m\u001b[0m\u001b[0;34m\u001b[0m\u001b[0m\n\u001b[0m\u001b[1;32m    479\u001b[0m                 \u001b[0;32mexcept\u001b[0m \u001b[0mBaseException\u001b[0m\u001b[0;34m:\u001b[0m  \u001b[0;31m# noqa: B902\u001b[0m\u001b[0;34m\u001b[0m\u001b[0;34m\u001b[0m\u001b[0m\n\u001b[1;32m    480\u001b[0m                     \u001b[0mretry_state\u001b[0m\u001b[0;34m.\u001b[0m\u001b[0mset_exception\u001b[0m\u001b[0;34m(\u001b[0m\u001b[0msys\u001b[0m\u001b[0;34m.\u001b[0m\u001b[0mexc_info\u001b[0m\u001b[0;34m(\u001b[0m\u001b[0;34m)\u001b[0m\u001b[0;34m)\u001b[0m  \u001b[0;31m# type: ignore[arg-type]\u001b[0m\u001b[0;34m\u001b[0m\u001b[0;34m\u001b[0m\u001b[0m\n",
            "\u001b[0;32m/usr/local/lib/python3.12/dist-packages/google/genai/_api_client.py\u001b[0m in \u001b[0;36m_request_once\u001b[0;34m(self, http_request, stream)\u001b[0m\n\u001b[1;32m   1117\u001b[0m           \u001b[0mtimeout\u001b[0m\u001b[0;34m=\u001b[0m\u001b[0mhttp_request\u001b[0m\u001b[0;34m.\u001b[0m\u001b[0mtimeout\u001b[0m\u001b[0;34m,\u001b[0m\u001b[0;34m\u001b[0m\u001b[0;34m\u001b[0m\u001b[0m\n\u001b[1;32m   1118\u001b[0m       )\n\u001b[0;32m-> 1119\u001b[0;31m       \u001b[0merrors\u001b[0m\u001b[0;34m.\u001b[0m\u001b[0mAPIError\u001b[0m\u001b[0;34m.\u001b[0m\u001b[0mraise_for_response\u001b[0m\u001b[0;34m(\u001b[0m\u001b[0mresponse\u001b[0m\u001b[0;34m)\u001b[0m\u001b[0;34m\u001b[0m\u001b[0;34m\u001b[0m\u001b[0m\n\u001b[0m\u001b[1;32m   1120\u001b[0m       return HttpResponse(\n\u001b[1;32m   1121\u001b[0m           \u001b[0mresponse\u001b[0m\u001b[0;34m.\u001b[0m\u001b[0mheaders\u001b[0m\u001b[0;34m,\u001b[0m \u001b[0mresponse\u001b[0m \u001b[0;32mif\u001b[0m \u001b[0mstream\u001b[0m \u001b[0;32melse\u001b[0m \u001b[0;34m[\u001b[0m\u001b[0mresponse\u001b[0m\u001b[0;34m.\u001b[0m\u001b[0mtext\u001b[0m\u001b[0;34m]\u001b[0m\u001b[0;34m\u001b[0m\u001b[0;34m\u001b[0m\u001b[0m\n",
            "\u001b[0;32m/usr/local/lib/python3.12/dist-packages/google/genai/errors.py\u001b[0m in \u001b[0;36mraise_for_response\u001b[0;34m(cls, response)\u001b[0m\n\u001b[1;32m    106\u001b[0m     \u001b[0mstatus_code\u001b[0m \u001b[0;34m=\u001b[0m \u001b[0mresponse\u001b[0m\u001b[0;34m.\u001b[0m\u001b[0mstatus_code\u001b[0m\u001b[0;34m\u001b[0m\u001b[0;34m\u001b[0m\u001b[0m\n\u001b[1;32m    107\u001b[0m     \u001b[0;32mif\u001b[0m \u001b[0;36m400\u001b[0m \u001b[0;34m<=\u001b[0m \u001b[0mstatus_code\u001b[0m \u001b[0;34m<\u001b[0m \u001b[0;36m500\u001b[0m\u001b[0;34m:\u001b[0m\u001b[0;34m\u001b[0m\u001b[0;34m\u001b[0m\u001b[0m\n\u001b[0;32m--> 108\u001b[0;31m       \u001b[0;32mraise\u001b[0m \u001b[0mClientError\u001b[0m\u001b[0;34m(\u001b[0m\u001b[0mstatus_code\u001b[0m\u001b[0;34m,\u001b[0m \u001b[0mresponse_json\u001b[0m\u001b[0;34m,\u001b[0m \u001b[0mresponse\u001b[0m\u001b[0;34m)\u001b[0m\u001b[0;34m\u001b[0m\u001b[0;34m\u001b[0m\u001b[0m\n\u001b[0m\u001b[1;32m    109\u001b[0m     \u001b[0;32melif\u001b[0m \u001b[0;36m500\u001b[0m \u001b[0;34m<=\u001b[0m \u001b[0mstatus_code\u001b[0m \u001b[0;34m<\u001b[0m \u001b[0;36m600\u001b[0m\u001b[0;34m:\u001b[0m\u001b[0;34m\u001b[0m\u001b[0;34m\u001b[0m\u001b[0m\n\u001b[1;32m    110\u001b[0m       \u001b[0;32mraise\u001b[0m \u001b[0mServerError\u001b[0m\u001b[0;34m(\u001b[0m\u001b[0mstatus_code\u001b[0m\u001b[0;34m,\u001b[0m \u001b[0mresponse_json\u001b[0m\u001b[0;34m,\u001b[0m \u001b[0mresponse\u001b[0m\u001b[0;34m)\u001b[0m\u001b[0;34m\u001b[0m\u001b[0;34m\u001b[0m\u001b[0m\n",
            "\u001b[0;31mClientError\u001b[0m: 404 NOT_FOUND. {'error': {'code': 404, 'message': 'Memory projects/507092439621/locations/us-central1/reasoningEngines/241140492157321216/memories/7397350954200203264 was not found.', 'status': 'NOT_FOUND'}}"
          ]
        }
      ],
      "source": [
        "response = client.agent_engines.memories.generate(\n",
        "    scope={\"user_id\": USER_ID},\n",
        "    name=agent_engine.api_resource.name,\n",
        "    direct_contents_source={\n",
        "        \"events\": [\n",
        "            {\"content\": {\"role\": \"user\", \"parts\": [{\"text\": \"I work at Google!\"}]}}\n",
        "        ]\n",
        "    },\n",
        ")\n",
        "\n",
        "client.agent_engines.memories.get(\n",
        "    name=response.response.generated_memories[0].memory.name\n",
        ")"
      ]
    },
    {
      "cell_type": "markdown",
      "metadata": {
        "id": "a678c7a2bf29"
      },
      "source": [
        "## Cleaning up\n",
        "\n",
        "It's always a best practice in cloud development to clean up resources you no longer need to avoid incurring unexpected costs. This final cell deletes the AgentEngine resources we created throughout this tutorial."
      ]
    },
    {
      "cell_type": "code",
      "execution_count": 49,
      "metadata": {
        "id": "10fe83835935",
        "colab": {
          "base_uri": "https://localhost:8080/"
        },
        "outputId": "3cb27db0-cfdf-434d-8a78-d4aacd1df1e6"
      },
      "outputs": [
        {
          "output_type": "stream",
          "name": "stderr",
          "text": [
            "INFO:vertexai_genai.agentengines:Deleting AgentEngine resource: projects/507092439621/locations/us-central1/reasoningEngines/241140492157321216\n",
            "INFO:vertexai_genai.agentengines:Started AgentEngine delete operation: projects/507092439621/locations/us-central1/operations/7377353397491466240\n"
          ]
        }
      ],
      "source": [
        "delete_agent_engines = True\n",
        "\n",
        "agent_engine_name = agent_engine.api_resource.name\n",
        "\n",
        "if delete_agent_engines:\n",
        "    # Delete agent engine\n",
        "    client.agent_engines.delete(name=agent_engine_name, force=True)"
      ]
    }
  ],
  "metadata": {
    "colab": {
      "provenance": []
    },
    "kernelspec": {
      "display_name": "Python 3",
      "name": "python3"
    }
  },
  "nbformat": 4,
  "nbformat_minor": 0
}